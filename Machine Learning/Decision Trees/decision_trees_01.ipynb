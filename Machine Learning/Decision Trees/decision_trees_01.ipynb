
{
 "cells": [
  {
   "cell_type": "markdown",
   "metadata": {},
   "source": [
    "# Decision Tree Models:\n",
    "\n",
    "In this section we will cover three topics, the three applications of decision trees:\n",
    "\n",
    "1. Tree classifiers (predicting discrete values)\n",
    "2. Tree regression (predicting continuous values)\n",
    "3. Tree ensembles (combining models for better prediction)\n",
    "\n"
   ]
  },
  {
   "cell_type": "markdown",
   "metadata": {},
   "source": [
    "## Basic Concept: \n",
    "\n",
    "A decision tree is a method at arriving at a decision using simple boolean logic: _If this, then that._ If you can picture a flow chart, then you can picture a decision tree. Let's take a look at the simplistic example of predicting sex based on height and weight of 10 individuals:"
   ]
  },
  {
   "cell_type": "code",
   "execution_count": 38,
   "metadata": {},
   "outputs": [],
   "source": [
    "from sklearn import tree\n",
    "import pandas as pd\n",
    "import matplotlib as mpl\n",
    "import seaborn as sns"
   ]
  },
  {
   "cell_type": "code",
   "execution_count": 39,
   "metadata": {},
   "outputs": [],
   "source": [
    "mpl.rcParams['figure.figsize'] = (5,5)\n",
    "viz_dict = {\n",
    "    'axes.titlesize':18,\n",
    "    'axes.labelsize':16,\n",
    "}\n",
    "sns.set_context(\"notebook\", rc=viz_dict)"
   ]
  },
  {
   "cell_type": "code",
   "execution_count": 41,
   "metadata": {},
   "outputs": [
    {
     "data": {
      "text/html": [
       "<div>\n",
       "<style scoped>\n",
       "    .dataframe tbody tr th:only-of-type {\n",
       "        vertical-align: middle;\n",
       "    }\n",
       "\n",
       "    .dataframe tbody tr th {\n",
       "        vertical-align: top;\n",
       "    }\n",
       "\n",
       "    .dataframe thead th {\n",
       "        text-align: right;\n",
       "    }\n",
       "</style>\n",
       "<table border=\"1\" class=\"dataframe\">\n",
       "  <thead>\n",
       "    <tr style=\"text-align: right;\">\n",
       "      <th></th>\n",
       "      <th>height</th>\n",
       "      <th>weight</th>\n",
       "      <th>sex</th>\n",
       "    </tr>\n",
       "  </thead>\n",
       "  <tbody>\n",
       "    <tr>\n",
       "      <th>0</th>\n",
       "      <td>72</td>\n",
       "      <td>180</td>\n",
       "      <td>M</td>\n",
       "    </tr>\n",
       "    <tr>\n",
       "      <th>1</th>\n",
       "      <td>72</td>\n",
       "      <td>150</td>\n",
       "      <td>F</td>\n",
       "    </tr>\n",
       "    <tr>\n",
       "      <th>2</th>\n",
       "      <td>60</td>\n",
       "      <td>105</td>\n",
       "      <td>F</td>\n",
       "    </tr>\n",
       "    <tr>\n",
       "      <th>3</th>\n",
       "      <td>68</td>\n",
       "      <td>165</td>\n",
       "      <td>M</td>\n",
       "    </tr>\n",
       "    <tr>\n",
       "      <th>4</th>\n",
       "      <td>65</td>\n",
       "      <td>155</td>\n",
       "      <td>M</td>\n",
       "    </tr>\n",
       "  </tbody>\n",
       "</table>\n",
       "</div>"
      ],
      "text/plain": [
       "   height  weight sex\n",
       "0      72     180   M\n",
       "1      72     150   F\n",
       "2      60     105   F\n",
       "3      68     165   M\n",
       "4      65     155   M"
      ]
     },
     "execution_count": 41,
     "metadata": {},
     "output_type": "execute_result"
    }
   ],
   "source": [
    "variables = {\n",
    "    'height': [72, 72, 60, 68, 65, 65, 68, 66, 74, 71],\n",
    "    'weight': [180, 150, 105, 165, 155, 124, 155, 137, 155, 170],\n",
    "    'sex'   : ['M', 'F', 'F', 'M', 'M', 'F', 'M', 'F', 'F', 'M']\n",
    "}\n",
    "\n",
    "df = pd.DataFrame(variables)\n",
    "df.head()"
   ]
  },
  {
   "cell_type": "code",
   "execution_count": 34,
   "metadata": {},
   "outputs": [
    {
     "data": {
      "text/plain": [
       "('M', 'F')"
      ]
     },
     "execution_count": 34,
     "metadata": {},
     "output_type": "execute_result"
    }
   ],
   "source": [
    "# seperate indendent and dependent variables\n",
    "X = df.loc[:, ['height', 'weight']]\n",
    "y = df.loc[:, 'sex']\n",
    "\n",
    "# initialize and fit model:\n",
    "clf = tree.DecisionTreeClassifier()\n",
    "clf.fit(X, y)\n",
    "\n",
    "# get predictions:\n",
    "prediction = clf.predict([[72, 189],\n",
    "             [72, 147]])\n",
    "\n",
    "# display results.\n",
    "prediction[0], prediction[1]"
   ]
  },
  {
   "cell_type": "markdown",
   "metadata": {},
   "source": [
    "# Visualizing the decision process:\n",
    "\n",
    "As mentioned in section outlining decision tree advantages, we can visualize what is going on inside our model. This can be contrasted with so-called \"black box\" methods like artificial neural networks, where interpretation can be difficult. In our case, scikit-learn provides an excellent way for us to visualize exactly what our model is doing:"
   ]
  },
  {
   "cell_type": "code",
   "execution_count": 37,
   "metadata": {},
   "outputs": [
    {
     "data": {
      "image/png": "[encoded data removed]",
      "text/plain": [
       "<Figure size 360x360 with 1 Axes>"
      ]
     },
     "metadata": {
      "needs_background": "light"
     },
     "output_type": "display_data"
    }
   ],
   "source": [
    "graph = tree.plot_tree(clf, \n",
    "                       feature_names=['height', 'weight', 'sex'], \n",
    "                       class_names=['F', 'M'],\n",
    "                       impurity=False,\n",
    "                       filled=True)"
   ]
  },
  {
   "cell_type": "markdown",
   "metadata": {},
   "source": [
    "As we can see from the above tree graph, our classifier has chosen weight as the __root node__, from which the tree grows. It has a __sub-tree__ that starts with the height variable, and it has a total of 3 __leaf nodes__. \n",
    "\n",
    "The model first looks at weight. If the weight of the individual is less than 152, the model defaults to prediction that the subject is a female. If the weight is greater than 152, the model moves the decision down a branch to the height node. "
   ]
  },
  {
   "cell_type": "markdown",
   "metadata": {},
   "source": [
    "Decision trees have their benefits and drawbacks, which are well outlined in the scikit-learn documentation:\n",
    "\n",
    ">Some __advantages__ of decision trees are:\n",
    ">- Simple to understand and to interpret. Trees can be visualised.\n",
    "\n",
    ">- Requires little data preparation. Other techniques often require data normalisation, dummy variables need to be created and blank values to be removed. Note however that this module does not support missing values.\n",
    "\n",
    ">- The cost of using the tree (i.e., predicting data) is logarithmic in the number of data points used to train the tree.\n",
    "\n",
    ">The __disadvantages__ of decision trees include:\n",
    "\n",
    ">- Able to handle both numerical and categorical data. Other techniques are usually specialised in analysing datasets that have only one type of variable. See algorithms for more information.\n",
    "\n",
    ">- Decision-tree learners can create over-complex trees that do not generalise the data well. This is called overfitting. Mechanisms such as pruning (not currently supported), setting the minimum number of samples required at a leaf node or setting the maximum depth of the tree are necessary to avoid this problem.\n",
    "\n",
    ">- Decision trees can be unstable because small variations in the data might result in a completely different tree being generated. This problem is mitigated by using decision trees within an ensemble.\n",
    "\n",
    "For the more comprehensive list of advantages and disadvantage, see here: https://scikit-learn.org/stable/modules/tree.html#decision-trees"
   ]
  },
  {
   "cell_type": "code",
   "execution_count": null,
   "metadata": {},
   "outputs": [],
   "source": []
  }
 ],
 "metadata": {
  "kernelspec": {
   "display_name": "Python 3",
   "language": "python",
   "name": "python3"
  },
  "language_info": {
   "codemirror_mode": {
    "name": "ipython",
    "version": 3
   },
   "file_extension": ".py",
   "mimetype": "text/x-python",
   "name": "python",
   "nbconvert_exporter": "python",
   "pygments_lexer": "ipython3",
   "version": "3.8.0"
  }
 },
 "nbformat": 4,
 "nbformat_minor": 4
}