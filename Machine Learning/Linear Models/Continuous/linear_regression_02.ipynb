
{
 "cells": [
  {
   "cell_type": "markdown",
   "metadata": {},
   "source": [
    "# Linear Regression Practice - with some data exploration\n",
    "\n",
    "Ok, so we got some basic statistics vocabulary out of the way in the last section. Now it's time to explore our data. We want to figure out what's in our data and how it is structured. This will allow us to understand how the data needs to be manipulated so that we can best model it. Let's get started by getting our libraries imported and loading our data:"
   ]
  },
  {
   "cell_type": "code",
   "execution_count": 2,
   "metadata": {},
   "outputs": [],
   "source": [
    "import numpy as np\n",
    "import pandas as pd\n",
    "import matplotlib.pyplot as plt\n",
    "import seaborn as sns\n",
    "import sklearn.linear_model as lm\n",
    "import sklearn.preprocessing as pr\n",
    "from sklearn.model_selection import train_test_split\n",
    "from sklearn import metrics\n",
    "\n",
    "dataset = pd.read_csv('data\\iris.data', names=['sep lnth', 'sep wdth', 'pet lnth', 'pet wdth', 'classification'])\n",
    "dataset.set_index(['classification'], inplace=True, drop=False)"
   ]
  },
  {
   "cell_type": "markdown",
   "metadata": {},
   "source": [
    "## Data Exploration:\n",
    "Let's take a look at how our data is structured:"
   ]
  },
  {
   "cell_type": "code",
   "execution_count": 6,
   "metadata": {},
   "outputs": [
    {
     "data": {
      "text/html": [
       "<div>\n",
       "<style scoped>\n",
       "    .dataframe tbody tr th:only-of-type {\n",
       "        vertical-align: middle;\n",
       "    }\n",
       "\n",
       "    .dataframe tbody tr th {\n",
       "        vertical-align: top;\n",
       "    }\n",
       "\n",
       "    .dataframe thead th {\n",
       "        text-align: right;\n",
       "    }\n",
       "</style>\n",
       "<table border=\"1\" class=\"dataframe\">\n",
       "  <thead>\n",
       "    <tr style=\"text-align: right;\">\n",
       "      <th></th>\n",
       "      <th>sep lnth</th>\n",
       "      <th>sep wdth</th>\n",
       "      <th>pet lnth</th>\n",
       "      <th>pet wdth</th>\n",
       "    </tr>\n",
       "    <tr>\n",
       "      <th>classification</th>\n",
       "      <th></th>\n",
       "      <th></th>\n",
       "      <th></th>\n",
       "      <th></th>\n",
       "    </tr>\n",
       "  </thead>\n",
       "  <tbody>\n",
       "    <tr>\n",
       "      <th>Iris-setosa</th>\n",
       "      <td>5.1</td>\n",
       "      <td>3.5</td>\n",
       "      <td>1.4</td>\n",
       "      <td>0.2</td>\n",
       "    </tr>\n",
       "    <tr>\n",
       "      <th>Iris-setosa</th>\n",
       "      <td>4.9</td>\n",
       "      <td>3.0</td>\n",
       "      <td>1.4</td>\n",
       "      <td>0.2</td>\n",
       "    </tr>\n",
       "    <tr>\n",
       "      <th>Iris-setosa</th>\n",
       "      <td>4.7</td>\n",
       "      <td>3.2</td>\n",
       "      <td>1.3</td>\n",
       "      <td>0.2</td>\n",
       "    </tr>\n",
       "    <tr>\n",
       "      <th>Iris-setosa</th>\n",
       "      <td>4.6</td>\n",
       "      <td>3.1</td>\n",
       "      <td>1.5</td>\n",
       "      <td>0.2</td>\n",
       "    </tr>\n",
       "    <tr>\n",
       "      <th>Iris-setosa</th>\n",
       "      <td>5.0</td>\n",
       "      <td>3.6</td>\n",
       "      <td>1.4</td>\n",
       "      <td>0.2</td>\n",
       "    </tr>\n",
       "    <tr>\n",
       "      <th>...</th>\n",
       "      <td>...</td>\n",
       "      <td>...</td>\n",
       "      <td>...</td>\n",
       "      <td>...</td>\n",
       "    </tr>\n",
       "    <tr>\n",
       "      <th>Iris-virginica</th>\n",
       "      <td>6.7</td>\n",
       "      <td>3.0</td>\n",
       "      <td>5.2</td>\n",
       "      <td>2.3</td>\n",
       "    </tr>\n",
       "    <tr>\n",
       "      <th>Iris-virginica</th>\n",
       "      <td>6.3</td>\n",
       "      <td>2.5</td>\n",
       "      <td>5.0</td>\n",
       "      <td>1.9</td>\n",
       "    </tr>\n",
       "    <tr>\n",
       "      <th>Iris-virginica</th>\n",
       "      <td>6.5</td>\n",
       "      <td>3.0</td>\n",
       "      <td>5.2</td>\n",
       "      <td>2.0</td>\n",
       "    </tr>\n",
       "    <tr>\n",
       "      <th>Iris-virginica</th>\n",
       "      <td>6.2</td>\n",
       "      <td>3.4</td>\n",
       "      <td>5.4</td>\n",
       "      <td>2.3</td>\n",
       "    </tr>\n",
       "    <tr>\n",
       "      <th>Iris-virginica</th>\n",
       "      <td>5.9</td>\n",
       "      <td>3.0</td>\n",
       "      <td>5.1</td>\n",
       "      <td>1.8</td>\n",
       "    </tr>\n",
       "  </tbody>\n",
       "</table>\n",
       "<p>150 rows × 4 columns</p>\n",
       "</div>"
      ],
      "text/plain": [
       "                sep lnth  sep wdth  pet lnth  pet wdth\n",
       "classification                                        \n",
       "Iris-setosa          5.1       3.5       1.4       0.2\n",
       "Iris-setosa          4.9       3.0       1.4       0.2\n",
       "Iris-setosa          4.7       3.2       1.3       0.2\n",
       "Iris-setosa          4.6       3.1       1.5       0.2\n",
       "Iris-setosa          5.0       3.6       1.4       0.2\n",
       "...                  ...       ...       ...       ...\n",
       "Iris-virginica       6.7       3.0       5.2       2.3\n",
       "Iris-virginica       6.3       2.5       5.0       1.9\n",
       "Iris-virginica       6.5       3.0       5.2       2.0\n",
       "Iris-virginica       6.2       3.4       5.4       2.3\n",
       "Iris-virginica       5.9       3.0       5.1       1.8\n",
       "\n",
       "[150 rows x 4 columns]"
      ]
     },
     "execution_count": 6,
     "metadata": {},
     "output_type": "execute_result"
    }
   ],
   "source": [
    "dataset"
   ]
  },
  {
   "cell_type": "markdown",
   "metadata": {},
   "source": [
    "As well as some basic statistical information about our data:"
   ]
  },
  {
   "cell_type": "code",
   "execution_count": 209,
   "metadata": {},
   "outputs": [
    {
     "data": {
      "text/html": [
       "<div>\n",
       "<style scoped>\n",
       "    .dataframe tbody tr th:only-of-type {\n",
       "        vertical-align: middle;\n",
       "    }\n",
       "\n",
       "    .dataframe tbody tr th {\n",
       "        vertical-align: top;\n",
       "    }\n",
       "\n",
       "    .dataframe thead th {\n",
       "        text-align: right;\n",
       "    }\n",
       "</style>\n",
       "<table border=\"1\" class=\"dataframe\">\n",
       "  <thead>\n",
       "    <tr style=\"text-align: right;\">\n",
       "      <th></th>\n",
       "      <th>sep lnth</th>\n",
       "      <th>sep wdth</th>\n",
       "      <th>pet lnth</th>\n",
       "      <th>pet wdth</th>\n",
       "    </tr>\n",
       "  </thead>\n",
       "  <tbody>\n",
       "    <tr>\n",
       "      <th>count</th>\n",
       "      <td>150.000000</td>\n",
       "      <td>150.000000</td>\n",
       "      <td>150.000000</td>\n",
       "      <td>150.000000</td>\n",
       "    </tr>\n",
       "    <tr>\n",
       "      <th>mean</th>\n",
       "      <td>5.843333</td>\n",
       "      <td>3.054000</td>\n",
       "      <td>3.758667</td>\n",
       "      <td>1.198667</td>\n",
       "    </tr>\n",
       "    <tr>\n",
       "      <th>std</th>\n",
       "      <td>0.828066</td>\n",
       "      <td>0.433594</td>\n",
       "      <td>1.764420</td>\n",
       "      <td>0.763161</td>\n",
       "    </tr>\n",
       "    <tr>\n",
       "      <th>min</th>\n",
       "      <td>4.300000</td>\n",
       "      <td>2.000000</td>\n",
       "      <td>1.000000</td>\n",
       "      <td>0.100000</td>\n",
       "    </tr>\n",
       "    <tr>\n",
       "      <th>25%</th>\n",
       "      <td>5.100000</td>\n",
       "      <td>2.800000</td>\n",
       "      <td>1.600000</td>\n",
       "      <td>0.300000</td>\n",
       "    </tr>\n",
       "    <tr>\n",
       "      <th>50%</th>\n",
       "      <td>5.800000</td>\n",
       "      <td>3.000000</td>\n",
       "      <td>4.350000</td>\n",
       "      <td>1.300000</td>\n",
       "    </tr>\n",
       "    <tr>\n",
       "      <th>75%</th>\n",
       "      <td>6.400000</td>\n",
       "      <td>3.300000</td>\n",
       "      <td>5.100000</td>\n",
       "      <td>1.800000</td>\n",
       "    </tr>\n",
       "    <tr>\n",
       "      <th>max</th>\n",
       "      <td>7.900000</td>\n",
       "      <td>4.400000</td>\n",
       "      <td>6.900000</td>\n",
       "      <td>2.500000</td>\n",
       "    </tr>\n",
       "  </tbody>\n",
       "</table>\n",
       "</div>"
      ],
      "text/plain": [
       "         sep lnth    sep wdth    pet lnth    pet wdth\n",
       "count  150.000000  150.000000  150.000000  150.000000\n",
       "mean     5.843333    3.054000    3.758667    1.198667\n",
       "std      0.828066    0.433594    1.764420    0.763161\n",
       "min      4.300000    2.000000    1.000000    0.100000\n",
       "25%      5.100000    2.800000    1.600000    0.300000\n",
       "50%      5.800000    3.000000    4.350000    1.300000\n",
       "75%      6.400000    3.300000    5.100000    1.800000\n",
       "max      7.900000    4.400000    6.900000    2.500000"
      ]
     },
     "execution_count": 209,
     "metadata": {},
     "output_type": "execute_result"
    }
   ],
   "source": [
    "dataset.describe()  "
   ]
  },
  {
   "cell_type": "markdown",
   "metadata": {},
   "source": [
    "It looks like our statistical summary indicates the greatest standard deviation in sepal length and petal length. Let's take a look at our covariance matrix for some more insight. In order to compute the covariance matrix, we want to center our data around the mean. "
   ]
  },
  {
   "cell_type": "code",
   "execution_count": 5,
   "metadata": {},
   "outputs": [
    {
     "data": {
      "text/html": [
       "<div>\n",
       "<style scoped>\n",
       "    .dataframe tbody tr th:only-of-type {\n",
       "        vertical-align: middle;\n",
       "    }\n",
       "\n",
       "    .dataframe tbody tr th {\n",
       "        vertical-align: top;\n",
       "    }\n",
       "\n",
       "    .dataframe thead th {\n",
       "        text-align: right;\n",
       "    }\n",
       "</style>\n",
       "<table border=\"1\" class=\"dataframe\">\n",
       "  <thead>\n",
       "    <tr style=\"text-align: right;\">\n",
       "      <th></th>\n",
       "      <th>sep lnth</th>\n",
       "      <th>sep wdth</th>\n",
       "      <th>pet lnth</th>\n",
       "      <th>pet wdth</th>\n",
       "    </tr>\n",
       "  </thead>\n",
       "  <tbody>\n",
       "    <tr>\n",
       "      <th>sep lnth</th>\n",
       "      <td>0.685694</td>\n",
       "      <td>-0.039268</td>\n",
       "      <td>1.273682</td>\n",
       "      <td>0.516904</td>\n",
       "    </tr>\n",
       "    <tr>\n",
       "      <th>sep wdth</th>\n",
       "      <td>-0.039268</td>\n",
       "      <td>0.188004</td>\n",
       "      <td>-0.321713</td>\n",
       "      <td>-0.117981</td>\n",
       "    </tr>\n",
       "    <tr>\n",
       "      <th>pet lnth</th>\n",
       "      <td>1.273682</td>\n",
       "      <td>-0.321713</td>\n",
       "      <td>3.113179</td>\n",
       "      <td>1.296387</td>\n",
       "    </tr>\n",
       "    <tr>\n",
       "      <th>pet wdth</th>\n",
       "      <td>0.516904</td>\n",
       "      <td>-0.117981</td>\n",
       "      <td>1.296387</td>\n",
       "      <td>0.582414</td>\n",
       "    </tr>\n",
       "  </tbody>\n",
       "</table>\n",
       "</div>"
      ],
      "text/plain": [
       "          sep lnth  sep wdth  pet lnth  pet wdth\n",
       "sep lnth  0.685694 -0.039268  1.273682  0.516904\n",
       "sep wdth -0.039268  0.188004 -0.321713 -0.117981\n",
       "pet lnth  1.273682 -0.321713  3.113179  1.296387\n",
       "pet wdth  0.516904 -0.117981  1.296387  0.582414"
      ]
     },
     "execution_count": 5,
     "metadata": {},
     "output_type": "execute_result"
    }
   ],
   "source": [
    "#Covariance Matrix: \n",
    "# Step 1: remove the non-numeric data (classification column) to prepare for linear algebra:\n",
    "classifications = dataset.pop('classification')\n",
    "\n",
    "#Step 2: center the data around the mean:\n",
    "centered = pd.DataFrame(pr.scale(dataset, with_std=False), columns=dataset.columns, index=dataset.index)\n",
    "\n",
    "# Step 3: compute the covariance matrix:\n",
    "covariance = (1/149) * centered.T @ centered\n",
    "\n",
    "covariance"
   ]
  },
  {
   "cell_type": "markdown",
   "metadata": {},
   "source": [
    "It looks like the greatest covarience occurs between sepal and petal length. This makes me want to plot the two and see what the correlation looks like. Remember, the magnitude of the covariance does not necissarily imply anything about the strength of the correlation:"
   ]
  },
  {
   "cell_type": "code",
   "execution_count": 211,
   "metadata": {},
   "outputs": [
    {
     "data": {
      "text/plain": [
       "<seaborn.axisgrid.FacetGrid at 0x1d424e052b0>"
      ]
     },
     "execution_count": 211,
     "metadata": {},
     "output_type": "execute_result"
    },
    {
     "data": {
      "image/png": "iVBORw0KGgoAAAANSUhEUgAAAWAAAAFgCAYAAACFYaNMAAAABHNCSVQICAgIfAhkiAAAAAlwSFlzAAALEgAACxIB0t1+/AAAADh0RVh0U29mdHdhcmUAbWF0cGxvdGxpYiB2ZXJzaW9uMy4yLjAsIGh0dHA6Ly9tYXRwbG90bGliLm9yZy8GearUAAAgAElEQVR4nO3de5ScdZ3n8fe3ujqxOwkTDJ0IJMZ1DoYVZ0S6J4jMMijqCrLqLuwunAkscMYYUNTxjLPO7tkd9ZyZXc9xZwfcs2m5aoyXHbko4yCDx50LM44w3eGicnG9gAmwpIlEEpJNUl3f/aOebqurn6p+quq51+d1Tp90VT1P1be6iy9PP/Wp78/cHRERSV8l6wJERAaVGrCISEbUgEVEMqIGLCKSETVgEZGMVLMuoFvveMc7/J577sm6DBGRbljYlYU7An7++eezLkFEJBaFa8AiImWRaAM2s981sx+Y2ffN7Mtm9rKW283MrjezH5nZI2Z2RpL1iIjkSWIN2MxOBj4ITLj764Ah4JKWzc4HTgm+tgLbk6pHRCRvkj4FUQVGzKwKjALPtNz+bmCHN3wXWG1mJyZck4hILiTWgN39aeDTwM+AZ4FfuPu9LZudDOxuurwnuE5EpPSSPAVxPI0j3H8CnASsMLMtrZuF7LpoOpCZbTWzKTObmpmZib9YEZEMJHkK4q3AT919xt2PAXcAb2rZZg+woenyehafpsDdb3D3CXefGBsbS6xgEZE0JdmAfwa80cxGzcyA84DHWra5C7g8SEO8kcZpimcTrElEJDcS+yScu99vZrcBu4Aa8CBwg5ltC26fBO4GLgB+BBwCrkyqHhGRvLGiDWSfmJjwqamprMsQkZyp1519Lx3laG2WZdUh1qxYRqUS+gngLIQWUrhZECIirep154nnDvDeHVPseeEw648f4cbLJ9i0blWemvAi+iiyiBTevpeOzjdfgD0vHOa9O6bY99LRjCvrTA1YRArvaG12vvnO2fPCYY7WZjOqKBo1YBEpvGXVIdYfP7LguvXHj7CsOpRRRdGoAYtI4a1ZsYwbL5+Yb8Jz54DXrFiWcWWd6U04ESm8SsXYtG4Vd15zdl5TEKHUgEWkFCoVY2zV8qzL6IpOQYiIZEQNWEQkI2rAIiIZUQMWEcmIGrCISEbUgEVEMqIGLCKSETVgEZGM6IMYIpIrac/1rdXq7D14hGOzdYaHKqxduZxqdeGxaVI1qQGLSG6kPde3Vqvz+HMH2LZzev7xJreMc+q6VfNNOMmadApCRHIj7bm+ew8emW++c4+3bec0ew8eSaUmNWARyY205/oem62HPl5ttp5KTWrAIpIbac/1HR6qhD5edeiXrTHJmtSARSQ30p7ru3blcia3jC94vMkt46xd+cupaknWpFWRRSRXskpB1GbrVJNLQWhVZBHJv7Tn+larFU5aPdJxm6RqUgMWkYGR9tH1UtSARWQgpJ0xjkJvwonIQEg7YxyFGrCIDIS0M8ZRqAGLyEBIO2MchRqwiAyEtDPGUehNOBEZCJWKsWndKu685uzcpCASOwI2s01m9lDT14tm9uGWbc41s180bfOfk6pHRGQuz3vy8aOMrVqeafOFBI+A3f0J4HQAMxsCngbuDNn0Pne/MKk6RETyKq1zwOcBP3b3p1J6PBGR3EurAV8CfLnNbWeZ2cNm9k0zOy1sAzPbamZTZjY1MzOTXJUiIilKfBiPmS0DngFOc/fnWm47Dqi7+0EzuwC4zt1P6XR/GsYjIgUUerI5jSPg84Fdrc0XwN1fdPeDwfd3A8NmdkIKNYmIZC6NBnwpbU4/mNkrzMyC7zcH9exLoSYRkcwlmgM2s1HgbcD7mq7bBuDuk8DFwNVmVgMOA5d40QYUi4j0SAPZRSRX8jYyMiYayC4i+ZbHkZFJ0iwIEcmNPI6MTJIasIjkRh5HRiZJDVhEciOPIyOTpAYsIrmRx5GRSdKbcCKSG3kcGZkkNWARyZW0l6XPkhqwiBROWbLCasAiUihlygrrTTgRKZQyZYXVgEWkUMqUFVYDFpFCKVNWWA1YRAqlTFlhvQknIoVSpqywGrCIFE5ZssJqwCKSiChZ3bBtgFJkfKNQAxaR2EXJ6rbbZnm1wuW3PFD4jG8UehNORGIXJavbbpun9h0qRcY3CjVgEYldlKxuu21Glw113K9M1IBFJHZRsrrttjl0dLbjfmWiBiwisYuS1W23zcY1o6XI+EahVZFFJBFKQSygVZFFJD2tWd163Zk5cGRRYw3L85Yh4xuFGrCIJK5MIyTjpHPAIpK4Mo2QjJMasIgkrkwjJOOkBiwiiSvTCMk4qQGLSOLKNEIyTnoTTkQSV6YRknFSAxaRVJRlhGScEjsFYWabzOyhpq8XzezDLduYmV1vZj8ys0fM7Iyk6hEpgrms7NMvHGLmwBHq9WJ9UEq6k9gRsLs/AZwOYGZDwNPAnS2bnQ+cEnydCWwP/hUZOMrKDp603oQ7D/ixuz/Vcv27gR3e8F1gtZmdmFJNIrmirOzgSasBXwJ8OeT6k4HdTZf3BNctYGZbzWzKzKZmZmYSKlEkW8rKDp7EG7CZLQPeBXw17OaQ6xad9HL3G9x9wt0nxsbG4i5RJBeUlR08aRwBnw/scvfnQm7bA2xourweeCaFmkRyR1nZwZNGDO1Swk8/ANwFfMDMvkLjzbdfuPuzKdQkkjvKyg6eRBuwmY0CbwPe13TdNgB3nwTuBi4AfgQcAq5Msh6RvFNWdrAk2oDd/RCwpuW6yabvHXh/kjWIlE2vg86jHEmnvd+g0yfhRAqkn+Xel8oTp72faBiPSKH0s9z7UnnitPcTNWCRQulnufel8sRp7ydqwCKF0s9y70vlidPeT9SARQqln+Xel8oTp72faFl6kcJRCqKQtCy9SBlEyQr3midOe79BpwYskmN5OLKMq4Y8PJe8UQMWyak85GvjqiEPzyWP9CacSE7lIV8bVw15eC55pAYsklN5yNfGVUMenkseqQGL5FQe8rVx1ZCH55JHasAiOZWHfG1cNeThueSRcsAiOZaH5IBSELFQDlikaPKQr42rhjw8l7xRAxZJQB4/iRbnEWjrfa1+WZWZl45ybLbO8FCFtSuXU6nYIB/xRqIGLBKzPM7jjTOH23pfb3/tWq497zVcvXN6/r4nt4zzKyNVLr3xfuV+O9CbcCIxy+M83jhzuK33ddH4hvnmO3ff23ZOc6Tmyv0uQQ1YJGZ5nMcbZw639b5WjwyH3nfrga5yv4upAYvELI/zeOPM4bbe1/7Dx0Lvu94SsFLudzE1YJGY5XEeb5w53Nb7un16N9u3jC+478kt4yyvmnK/S1AOWCQBg5qCqM3WqSoFEUY5YJE8adcQk5rHG2cON+y+Tlo9smg75X47UwMWiVnasTApLp0DFolZ2rEwKS41YJGYpR0Lk+JSAxaJWdqxMCkuNWCRmKUdC5PiUgxNJAFpx8Ik9xRDE0lL2rEwKaZEG7CZrQZuAl4HOHCVu/9D0+3nAl8HfhpcdYe7fzLJmkTyIskj4LD7BnL34ZBBl/QR8HXAPe5+sZktA0ZDtrnP3S9MuA6RXEkyBxx23zuu2syRWj1XIzIlwTfhzOw44BzgZgB3P+ru+5N6PJEiSTIHHHbfT+07lLsRmZJsCuLVwAxwq5k9aGY3mdmKkO3OMrOHzeybZnZa2B2Z2VYzmzKzqZmZmQRLFklHkjngsPseXTaUuxGZkmwDrgJnANvd/Q3AS8DHWrbZBWx099cDnwG+FnZH7n6Du0+4+8TY2FiCJYukI8kccNh9Hzo6m7sRmZJsA94D7HH3+4PLt9FoyPPc/UV3Pxh8fzcwbGYnJFiTSC4kmQMOu++Na0ZzNyJTEs4Bm9l9wO+4+xNm9nFghbt/tOn2VwDPubub2WYaTXqjdyhKOWApC6UgBkomOeBrgS8GCYifAFea2TYAd58ELgauNrMacBi4pFPzFSmTJHPA7e47qVGXce43SPRJOJE+FflTb7Vanb0HjyxYTr5aXXhmMqz2et2X3E8W0CfhROJW5Nm/tVqdx587wLaW5eRPXbdqvpmG1n7ZBMNV44pb/7HtfhKNfloifSjy7N+9B4/MN9+5urbtnGbvwSPz24TW/oUpdv/8cMf9JBo1YJE+FHn277HZemhdtdn6/OV2tY8uG+q4n0SjBizShyLP/h0eqoTWVR36ZVtoV/uho7Md95No9BMT6UORZ/+uXbmcyZDl5Neu/GVyIbT2yybY8PKRjvtJNEpBiPSpDCmI5uXku0lBdNpPFlAKQiQJRZ79W61WQpeTbxZWe6ViS+4nS4vUgM3sTcCrmrd39x0J1SRSeEl+eiwsu1up2IL9jh8Z5oXDxxI74o6SH44ir38ZpGXJBmxmXwB+FXgImDvz7oAasEiIJGfohmV3P3flb3Cs5rz3C1MLcrnXf/uH3Pvo3thzx1Hyw0n+nMokyk9rAjjb3a9x92uDrw8mXZhIUSU5Qzcsu7v754fnm+/cddt2TnPR+IauHj+qKPnhKPKaj05TlAb8feAVSRciUhZJztANy+62m/W7emS4q8ePKkp+OIq85qPT1LYBm9mfm9ldwAnAo2b2l2Z219xXeiWKFEuSM3TDsrvtZv3uP3ysq8ePKkp+OIq85qPT1Okn9mngvwEfB94D/HFwee5LREIkOUM3LLu74eWNbG5rLvf26d1dPX5UUfLDUeQ1H52mJXPAZvYpd//3S12XFuWApQjSSEE0Z3CzSkH0mwMeoBRE6JOK0oB3ufsZLdc94u6/HmNxkakBS94k+UGMtBvUADXEtHX3QQwzuxq4Bni1mT3SdNMq4Dvx1iZSTEmOo0w7pqVYWPo6/c3wJeBfAHcF/859jbv7b6dQm0juJTmOMu2YlmJh6Wt7BOzuvwB+AVxqZkPAumD7lWa20t1/llKNIrmV5DjKtGNaioWlb8mz5mb2AeA54FvAXwRf30i4LpFCSHIcZdoxLcXC0hflbcsPA5vc/TR3/7XgK5M34ETyJslxlGnHtBQLS1+UFMRfAW9z91o6JXWmFITkjVIQEkHP4yh/Avy1mf0FMP9hb3f/k5gKEym0JMdRpj3GMq9jM8sqSgP+WfC1LPgSKaU8HG1GWe49D0epeaihDJZswO7+iTQKEclSLjK3EZZ7z0NWNw81lMWSw3jafaVZpEjScpG5jbDcex6yunmooSw6HQF/OrUqRDKWl8ztUsu95yGrm4cayqLTBzH+Js1CRLI0l4FtbixpZG5bH2+p5d7TrjNMHmooCy1jKkJOMrcRlnvPQ1Y3DzWUhZalFwnkKQXR7TLxSkHkXn/L0pvZcYC7+4HYShLJkTxkbqMs956HrG4eaiiDKKsiTwC30hhDaWa2H7jK3acj7LsauAl4HY2VlK9y939out2A64ALgEPAFe6+q5cnItKvJI/qel3GPWpNrdslPZBd4hHlCPgW4Bp3vw/AzH6TRkOOMg/iOuAed7/YzJYBoy23nw+cEnydCWwP/hVJVZLZ1l6XcY9aU9h2SS5LL/GJ8ibcgbnmC+DufwcseRoiOGVxDnBzsN9Rd9/fstm7gR3e8F1gtZmdGLl6kZgkmW3tdRn3qDWFbZfksvQSnygN+AEz+6yZnWtmv2Vm/5PGbIgzzOyMDvu9GpgBbjWzB83sJjNb0bLNycDupst7gusWMLOtZjZlZlMzMzMRShbpTpLZ1l6XcY9aU7vtklqWXuITpQGfDrwG+EMaKyT/U+BNNFZG7vRhjSpwBrDd3d8AvAR8rGWbsL+HFsUy3P0Gd59w94mxsbEIJYt0J8lZuL0u4x61pnbbJbUsvcRnyQbs7m/u8PWWDrvuAfa4+/3B5dtoNOTWbTY0XV4PPNPNExCJQ5LZ1l6XcY9aU9h2SS5LL/GJMg94HfDHwEnufr6ZvRY4y91vXvLOze4DfsfdnzCzjwMr3P2jTbe/E/gAjRTEmcD17r65030qByxJSSMF0e0y7kpBlEbPy9J/k0bq4T+6++vNrAo86O6/tuQjmp1OI4a2jMZc4SuBfwvg7pNBDO1/AO+gEUO70t07dlc1YBEpoJ4/iHGCu/+Zmf0BgLvXzCzS2Xx3fwiYaLl6sul2B94f5b5E8iLNT4EVZSUN6U2UBvySma0heHPMzN5IY7VkkYGT5izcXh9L83qLI0oK4iPAXcCvmtnfAzuAaxOtSiSn0pyF2+tjaV5vcURZEWOXmf0WsInGeYwn3P3YEruJlFKas3B7fSzN6y2OJY+AzexfAyPu/gPgPcD/WuIDGCKllWReOK7HSrNG6U+UUxD/yd0PBDMg/jnweRozG0QGTpqzcHt9LM3rLY4oMbQH3f0NZvZfgO+5+5fmrkunxIUUQ5OsKQUhPeg5hva0mX0WeCvwKTNbTslW0tCLdTBF+fACEPraSGsWbq+PNTtb52htllrdoTbL7GydSkWnIPImSgP+NzQ+KPFpd98fTCv76BL7FIYiO4Op9ff+9teu5YPnvWbByMgbL59gebXC5bc8UKjXxrFjszy+9yBXNz2X7VvGOXXtSoaH1YTzJMosiEPufoe7/5/g8rPufm/ypaVDkZ3B1Pp7v2h8w6KRke/dMcVT+w4V7rWx9+CR+eYLjbqvjjD+UtJXqlMJvVBkZzC1/t5XjwxHXiY+76+NWt3Dx1/Wi7X+4yAY+AasyM5gav297z98LPR1ELZMfN5fG9WKhY+/zPFpk0E18A1YkZ3B1Pp7v31696KRkTdePsHGNaOFe22sXbmc7S3PZXuE8ZeSPi1Lj1IQg6qfFETeHTs22xh/WXeqFWPtyuV6Ay5b/S1LX2ZaYnswhf3ew14HRXxtDA8PcfLxrWvgSt6oAfchypGzjq7jlfbPM+zx6nXveon5pOvW66yY1IB7FCU/rIxxvNL+eYY+3mUTDFeNK279x8hLzCddt15nxTXwb8L1Kkp+WBnjeKX98wx9vC9Msfvnh7taYj7puvU6Ky414B5FyQ8rYxyvtH+e7R4vLBvcaYn5pOvW66y41IB7FCU/rIxxvNL+ebZ7vLBscKcl5pOuW6+z4lID7lGU/LAyxvFK++cZ+niXTbDh5SNdLTGfdN16nRWXcsB9UAoifXlKQXSzxLxSEAOvt2Xp8yZPDVhEJCJ9EEPKKcmh5WHbQPefjovzCFVHu+WhBiyFluTS7WHb7LhqM0dq9a4eL86crjK/5aI34aTQkly6PWybp/Yd6vrx4szpKvNbLmrAUmhJLt0ets3osqGuHy/OnK4yv+WiBiyFluTS7WHbHDo62/XjxZnTVea3XNSApdCSXLo9bJuNa0a7frw4c7rK/JaLYmhSeEpBKAVRAOnH0MzsSeAAMAvU3H2i5fZzga8DPw2uusPdP5lkTVI+vc5zjrJfu226fbw4Z05rfnV5pBFDe7O7P9/h9vvc/cIU6uhKlNUSdNSRT70etdZq9a7n/HZTg14v0ko54BBhWcvJLeNc/+0fcu+je5W9zLF2Odnl1QqX3/JA2+xsrVbn8ecOzC9NH2XOb7c16PUirZJ+E86Be81s2sy2ttnmLDN72My+aWanJVxPJGFZy207p7lofMP8ZWUv86ldTvapfYc6Zmf3Hjwy33zntllqzm+3Nej1Iq2SPgI+292fMbO1wLfM7HF3/9um23cBG939oJldAHwNOKX1ToLmvRXgla98ZcIlt89arh4ZXnBZ2cv86WaGb/Pv79hsPXS/TnN+u61BrxdplegRsLs/E/y7F7gT2Nxy+4vufjD4/m5g2MxOCLmfG9x9wt0nxsbGkiwZaJ+13H/42ILLyl7mTzczfJt/f8NDldD9Os357bYGvV6kVWIN2MxWmNmque+BtwPfb9nmFWZmwfebg3r2JVVTVGFZy8kt49w+vXv+srKX+dQuJ7txzWjH7OzalcuZ3DLe1ZzfbmvQ60VaJZYDNrNX0zjqhcapji+5+x+Z2TYAd580sw8AVwM14DDwEXf/Tqf7TSsHrBREcfWbguhmzm83Nej1MtA0D7gbUf4DihJbijPaJMWlhjzwNA84qigxoiixpTijTVJciqVJO+oCIaLEiKLEluKMNklxKZYm7agBh4gSI4oSW4oz2iTFpViatKMGHCJKjChKbCnOaJMUl2Jp0o46QYgoMaIosaU4o01SXIqlSTtKQbTRTQqiU2wpzmiTFJdSEANPKYhuRBn5V61WOGn1SN/bSPlphKSEUQPug45qRKQfasA9UrZTRPqlk5E9UrZTRPqlBtwjZTtFpF9qwD1StlNE+qUG3CNlO0WkX3oTrkeVirFp3SruvOZspSBEpCdqwH1QtlNE+qEGHFFY5rded836LTDluCVrasARhGV+d1y1mUNHZzXrt6CU45Y8UKeIICzz+9S+Q5r1W2DKcUseqAFHEJb5HV02pFm/BaYct+SBGnAEYZnfQ0dnNeu3wJTjljxQt4ggLPO7cc2oZv0WmHLckgeaBxxRpxSEZv0Wk1IQkiLNA+5HWOa3UjHN+i0w5bgla2rAEc2tbNGc+XUPjoDrTrVirF25nKGhyoKjquNHhnnh8LElj7LKdDRWpucikiQ14AhqtTqPP3dgQeb3q9veyPMHj3F103W3Xvkb1GrOe78wtSAbfP23f8i9j+5tmzUtUya1TM9FJGk6YRnB3oNHFmV+a7PMN9+56/b8/PB88527btvOaS4a3zB/OSxrWqZMapmei0jS1IAjODZbX5QZnXWPnA1ePTK84HJr1rRMmdQyPReRpKkBRzA8VFmUGR0yi5wN3n/42ILLrVnTMmVSy/RcRJKmBhzB2pXLF2V+q0OwveW69S8f4cbLJhZlg2+f3j1/OSxrWqZMapmei0jSlAOOaC4F0Zz5VQoiXJmei0hM0s8Bm9mTwAFgFqi5+0TL7QZcB1wAHAKucPddSdYUJqxhAAuuW/2yxo+q+X9XQ0OVxp/WwTZDQxVmZ+scrc1SqzvUZnGvRsqalimT2utzidK41dylTNKIob3Z3Z9vc9v5wCnB15nA9uDf1LQbNXmkVp+/7u2vXcu1571mQeRscss4o8uGuPyWBzpG07ZvGefUtSsZHtY50E6ixNcUcZOyyfoc8LuBHd7wXWC1mZ2YZgHtRk02X3fR+IZFkbNtO6d5at+hJaNpV2tEZSRR4muKuEnZJN2AHbjXzKbNbGvI7ScDu5su7wmuW8DMtprZlJlNzczMxFpglFGTq0eGQ6NVo8sWHtWGRdP2vHC4cTpCOooSX1PETcom6QZ8trufQeNUw/vN7JyW28P+blzUrdz9BnefcPeJsbGxWAuMMmpy/+FjodGqQ0cX/ocfFk1bf/wIVf15vKQo8TVF3KRsEm3A7v5M8O9e4E5gc8sme4ANTZfXA88kWVOrdqMmm6+7fXr3osjZ5JZxNq4ZXTKatl0jKiOJEl9TxE3KJrEYmpmtACrufiD4/lvAJ939nqZt3gl8gEYK4kzgendvbdILJBFDi5qCmHnp6IIYWqVii/abna0viqbpDbholIKQEks9hrYOuLORNKMKfMnd7zGzbQDuPgncTaP5/ohGDO3KBOtpq11sqvW6sNGTi0dUDnHy8aPxFjggosTXyhTXE0msAbv7T4DXh1w/2fS9A+9PqoY4hR156Wg3XmU+ui3zc5PeaRxlBGH5U2V+41XmjG+Zn5v0J+sccCGE5U+V+Y1XmTO+ZX5u0h814AjC8qfK/MarzBnfMj836Y8acARh+VNlfuNV5oxvmZ+b9EcNOIKw/Kkyv/Eqc8a3zM9N+qNxlBEpBZG8MicFyvzcJBItS9+P8GXplfmNU5kzvmV+btI7NeCIwpalr1YXn8GJul0rHSGJDB414AjClqWf3DLOqetWLWiuUbdrpZyoyGDSm3ARhC1Lvy0k8xt1u1bKiYoMJjXgCMKWpW98GKPe03atlBMVGUxqwBGELUvfiKJVetqulXKiIoNJDTiCsGXpJ0Myv1G3a6WcqMhgUg44orBl6TulIJbarpVSECKlphxwP6rVSug84F63a6WcqMjgUQNuo9cjUh3JikhUasAhes3lKs8rIt3Qm3Ahes3lKs8rIt1QAw7Ray5XeV4R6YYacIhec7nK84pIN9SAQ/Say1WeV0S6oRxwG0pBiEiMlAPuRq+5XOV5RSSq0jfguI5Iw+b8Viqmo10R6VmpG3Bcudx2c35/ZaTKpTfer8yviPSk1G/CxZXLbTfn90jNlfkVkZ6VugHHlcttN+e39UBXmV8R6UapG3Bcudx2c37rLQESZX5FpBulbsBx5XLbzfldXjVlfkWkZ6XPAcedgmie86sUhIhElE0O2MyGgCngaXe/sOW2c4GvAz8NrrrD3T8Z5+P3mssNa9xhc36V+RWRXqURQ/sQ8BhwXJvb72ttzFnTWEkRSUOi54DNbD3wTuCmJB8nbhorKSJpSPpNuD8Ffh/otC77WWb2sJl908xOC9vAzLaa2ZSZTc3MzCRSaDONlRSRNCTWgM3sQmCvu0932GwXsNHdXw98Bvha2EbufoO7T7j7xNjYWALVLqSxkiKShiSPgM8G3mVmTwJfAd5iZjubN3D3F939YPD93cCwmZ2QYE2RaKykiKQhlRhakHb4vZAUxCuA59zdzWwzcBuNI+K2ReV9HKWISIh8jKM0s20A7j4JXAxcbWY14DBwSafmmyaNlRSRpJX+gxi9ah0/ObZiGfv/X01HxCLSi3wcARdB2PjJ7VvG+cZDe/jsfU8qFywisSj1LIhehY2fvHrnNBdPvHL+snLBItIvNeAQ7cZPDjUd7SoXLCL9UgMO0W785GzT/EnlgkWkX2rAIcLGT27fMs5tUz+bv6xcsIj0SymINlrHTyoFISJ9UAqiG9VqZdH4ybFhnXIQkfgMZAPWp9xEJA8GrgFr1q+I5MXAvQmnWb8ikhcD14A161dE8mLgGrBm/YpIXgxcA9asXxHJi4F7E65SMTatW8Wd15ytFISIZGrgGjBo1q+I5MPAnYIQEckLNWARkYyoAYuIZEQNWEQkI2rAIiIZUQMWEcmIGrCISEbUgEVEMqIGLCKSkcItSWRmM8BTPex6AvB8zOWkoah1Q3FrL2rdUNzai1o3RKv9eXd/R+uVhWvAvTKzKXefyLqObhW1bihu7UWtG4pbe1Hrhv5q1ykIEZGMqAGLiD081PAAAASzSURBVGRkkBrwDVkX0KOi1g3Frb2odUNxay9q3dBH7QNzDlhEJG8G6QhYRCRX1IBFRDJS+gZsZreY2V4z+37WtXTDzDaY2V+Z2WNm9gMz+1DWNUVhZi8zswfM7OGg7k9kXVM3zGzIzB40s29kXUs3zOxJM/uemT1kZlNZ19MNM1ttZreZ2ePB6/2srGtaipltCn7Wc18vmtmHu76fsp8DNrNzgIPADnd/Xdb1RGVmJwInuvsuM1sFTAPvcfdHMy6tIzMzYIW7HzSzYeDvgA+5+3czLi0SM/sIMAEc5+4XZl1PVGb2JDDh7oX7MIOZfR64z91vMrNlwKi778+6rqjMbAh4GjjT3bv6kFjpj4Dd/W+Bn2ddR7fc/Vl33xV8fwB4DDg526qW5g0Hg4vDwVch/i9vZuuBdwI3ZV3LoDCz44BzgJsB3P1okZpv4Dzgx902XxiABlwGZvYq4A3A/dlWEk3wZ/xDwF7gW+5eiLqBPwV+H6hnXUgPHLjXzKbNbGvWxXTh1cAMcGtw6ucmM1uRdVFdugT4ci87qgHnnJmtBG4HPuzuL2ZdTxTuPuvupwPrgc1mlvtTP2Z2IbDX3aezrqVHZ7v7GcD5wPuDU29FUAXOALa7+xuAl4CPZVtSdMEpk3cBX+1lfzXgHAvOod4OfNHd78i6nm4Ff0r+NbBoCEkOnQ28KziX+hXgLWa2M9uSonP3Z4J/9wJ3ApuzrSiyPcCepr+SbqPRkIvifGCXuz/Xy85qwDkVvJl1M/CYu/9J1vVEZWZjZrY6+H4EeCvweLZVLc3d/8Dd17v7q2j8Sfm/3X1LxmVFYmYrgjdqCf58fztQiNSPu/9fYLeZbQquOg/I9RvNLS6lx9MP0Dj8LzUz+zJwLnCCme0B/tDdb862qkjOBi4DvhecTwX4D+5+d4Y1RXEi8PngneEK8GfuXqhIVwGtA+5s/D+bKvAld78n25K6ci3wxeDP+Z8AV2ZcTyRmNgq8DXhfz/dR9hiaiEhe6RSEiEhG1IBFRDKiBiwikhE1YBGRjKgBi4hkRA1YBoqZXWFmJ7W57XNmdvES+59rZm/qZh+RdtSAZdBcAYQ24IjOBd601EYiUagBS2GZ2auCGbKfN7NHgpmyo8Ft42b2N8Fwmr80sxODI9UJGqH/h4JP6rW77yfN7BNmtiuYs3tqMBRpG/C7wf7/LNj8HDP7jpn9REfD0g01YCm6TcAN7v7rwIvANcEMjc8AF7v7OHAL8EfufhswBfy2u5/u7oeXuO/ngwE324Hfc/cngUngvwf73xdsdyLwm8CFwH+N+flJiZX+o8hServd/e+D73cCHwTuAV4HfCv4eO4Q8GwP9z03AGka+Fcdtvuau9eBR81sXQ+PIwNKDViKrvWz9A4Y8AN373dpmyPBv7N0/m/lSNP31udjygDRKQgpulc2rSF2KY0lkJ4AxuauN7NhMzst2OYAsKqPx+t3f5F5asBSdI8B/87MHgFeTmOw91HgYuBTZvYw8BC/TC58Dphc6k24Dv4c+Jctb8KJ9ETT0KSwglTCN4q02KpIMx0Bi4hkREfAIiIZ0RGwiEhG1IBFRDKiBiwikhE1YBGRjKgBi4hk5P8DPB4WQ3W+1WQAAAAASUVORK5CYII=\n",
      "text/plain": [
       "<Figure size 360x360 with 1 Axes>"
      ]
     },
     "metadata": {
      "needs_background": "light"
     },
     "output_type": "display_data"
    }
   ],
   "source": [
    "sns.relplot(x='pet lnth', y='sep lnth', data=dataset)"
   ]
  },
  {
   "cell_type": "markdown",
   "metadata": {},
   "source": [
    "As it turns out, there appears to be fairly strong postive correlation between petal length and sepal length. It looks to me like $\\rho \\approx 1$. Let's plot an estimate of the probability density function for petal length:"
   ]
  },
  {
   "cell_type": "code",
   "execution_count": 212,
   "metadata": {},
   "outputs": [
    {
     "data": {
      "text/plain": [
       "<matplotlib.axes._subplots.AxesSubplot at 0x1d4254fe040>"
      ]
     },
     "execution_count": 212,
     "metadata": {},
     "output_type": "execute_result"
    },
    {
     "data": {
      "image/png": "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\n",
      "text/plain": [
       "<Figure size 432x288 with 1 Axes>"
      ]
     },
     "metadata": {
      "needs_background": "light"
     },
     "output_type": "display_data"
    }
   ],
   "source": [
    "sns.distplot(dataset['pet lnth'], rug=True) # A kernel density estimate (estimate of probability density function)"
   ]
  },
  {
   "cell_type": "code",
   "execution_count": 213,
   "metadata": {},
   "outputs": [
    {
     "data": {
      "text/plain": [
       "<matplotlib.axes._subplots.AxesSubplot at 0x1d423c732b0>"
      ]
     },
     "execution_count": 213,
     "metadata": {},
     "output_type": "execute_result"
    },
    {
     "data": {
      "image/png": "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\n",
      "text/plain": [
       "<Figure size 432x288 with 1 Axes>"
      ]
     },
     "metadata": {
      "needs_background": "light"
     },
     "output_type": "display_data"
    }
   ],
   "source": [
    "sns.distplot(dataset['sep lnth'], rug=True) "
   ]
  },
  {
   "cell_type": "markdown",
   "metadata": {},
   "source": [
    "## The above density functions seem to indicate that there is more apparent grouping in the sepal length variable. This is also noticeable in the initial scatter plot of these two variables.\n",
    "\n",
    "# Linear Regression Practice: \n",
    "\n",
    "Let's try to predict sepal length based on petal width using linear regression. First, we split our data into dependent and independent variables. Then, we will pull out some of the data (20% of it) and reserve it for testing after we have trained our model:"
   ]
  },
  {
   "cell_type": "code",
   "execution_count": 214,
   "metadata": {},
   "outputs": [],
   "source": [
    "X = dataset['pet lnth'].to_numpy().reshape(-1,1)\n",
    "Y = dataset['sep lnth'].to_numpy().reshape(-1,1)\n",
    "\n",
    "x_train, x_test, y_train, y_test = train_test_split(X, Y, test_size=.2, random_state=0)"
   ]
  },
  {
   "cell_type": "markdown",
   "metadata": {},
   "source": [
    "Now, we have split our data out and we want to train our model:"
   ]
  },
  {
   "cell_type": "code",
   "execution_count": 215,
   "metadata": {},
   "outputs": [
    {
     "data": {
      "text/plain": [
       "LinearRegression(copy_X=True, fit_intercept=True, n_jobs=None, normalize=False)"
      ]
     },
     "execution_count": 215,
     "metadata": {},
     "output_type": "execute_result"
    }
   ],
   "source": [
    "regressor = lm.LinearRegression()\n",
    "regressor.fit(x_train, y_train)"
   ]
  },
  {
   "cell_type": "markdown",
   "metadata": {},
   "source": [
    "Now, we can find the parameters of our model, namely slope and intercept:"
   ]
  },
  {
   "cell_type": "code",
   "execution_count": 216,
   "metadata": {},
   "outputs": [
    {
     "name": "stdout",
     "output_type": "stream",
     "text": [
      "[4.28859]\n",
      "[[0.41727277]]\n"
     ]
    }
   ],
   "source": [
    "print(regressor.intercept_)\n",
    "print(regressor.coef_)"
   ]
  },
  {
   "cell_type": "markdown",
   "metadata": {},
   "source": [
    "And now to make test predictions with unlabeled data, we can use our x_test data, which was previously split from our initial dataset:"
   ]
  },
  {
   "cell_type": "code",
   "execution_count": 217,
   "metadata": {},
   "outputs": [
    {
     "data": {
      "text/plain": [
       "(30, 1)"
      ]
     },
     "execution_count": 217,
     "metadata": {},
     "output_type": "execute_result"
    }
   ],
   "source": [
    "y_pred = regressor.predict(x_test)\n",
    "y_pred.shape\n"
   ]
  },
  {
   "cell_type": "markdown",
   "metadata": {},
   "source": [
    "Now, lets put our findings into a data frame, look at some of the data and then plot it!"
   ]
  },