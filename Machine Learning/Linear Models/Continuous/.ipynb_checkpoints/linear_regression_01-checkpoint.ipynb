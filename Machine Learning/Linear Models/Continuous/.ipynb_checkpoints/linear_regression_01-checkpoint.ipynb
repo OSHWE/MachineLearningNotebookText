{
 "cells": [
  {
   "cell_type": "markdown",
   "metadata": {},
   "source": [
    "# Linear Regression Precursor - Important Statistics Definitions"
   ]
  },
  {
   "cell_type": "markdown",
   "metadata": {},
   "source": [
    "## Expected Value \n",
    "### Discreet Case:  \n",
    "The probability _weighted_ average of _all possible_ values of a random variable. It is important to note that the word _average_ or the word _mean_ may refer to the average or mean of a sample of the random variable, while expected value refers to the average of all possible outcomes. Therefore any sample mean is an estimate of the expected value. \n",
    "\n",
    "$$E[X] = \\sum_{i=1}^N x_ip_i = \\mu$$\n",
    "\n",
    "Where $x_i$ is the outcome and $p_i$ is the probability of that outcome.\n",
    "\n",
    "_example:_ Let X be the outcome of a fair coin toss. Let X=1 represent landing on heads and $X=2$ represent landing on tails. Then the expected value of $X$ is \n",
    "\n",
    "$$E[X] = \\sum_{i=1}^2 p_ix_i = 0.5\\times 1 + 0.5 \\times 2 = .75$$\n",
    "\n",
    "_note_: If all outcomes are equally likely, as in the above example, then the expected value is simply the arithmetic mean of the possible outcomes.\n",
    "\n",
    "\n"
   ]
  },
  {
   "cell_type": "markdown",
   "metadata": {},
   "source": [
    "### Continuous case:\n",
    "in this case, the expected value is in integral form:\n",
    "\n",
    "$$E[X]=\\int_{\\mathbb{R}} x f(x) dx$$"
   ]
  },
  {
   "cell_type": "markdown",
   "metadata": {},
   "source": [
    "Where f(x) is that variables probability density function. "
   ]
  },
  {
   "cell_type": "code",
   "execution_count": 1,
   "metadata": {},
   "outputs": [],
   "source": [
    "# Put some code here to demonstrate calculating expected value of continuous variables. "
   ]
  },