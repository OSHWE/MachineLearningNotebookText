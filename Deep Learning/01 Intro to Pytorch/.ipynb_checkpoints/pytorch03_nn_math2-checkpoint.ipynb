{
 "cells": [
  {
   "cell_type": "markdown",
   "metadata": {},
   "source": [
    "# Looking at the Math Behind Feed Forward\n",
    "This notebook looks at manually calculating the results of a feed forward pass in a neural network. This is accomplished through simple matrix multiplication with torch: `torch.mm`. Later we will use built in feed forward functions, but first we want to get an intuition for what is going on under the hood."
   ]
  },
  {
   "cell_type": "code",
   "execution_count": 89,
   "metadata": {},
   "outputs": [],
   "source": [
    "from torchvision import datasets, transforms\n",
    "import torch\n",
    "import numpy as np\n",
    "import matplotlib.pyplot as plt\n",
    "import seaborn as sns"
   ]
  },
  {
   "cell_type": "code",
   "execution_count": 90,
   "metadata": {},
   "outputs": [],
   "source": [
    "# Define a transform to normalize the data\n",
    "transform = transforms.Compose([transforms.ToTensor(),\n",
    "                              transforms.Normalize((0.5,), (0.5,)),\n",
    "                              ])"
   ]
  },
  {
   "cell_type": "code",
   "execution_count": 91,
   "metadata": {},
   "outputs": [],
   "source": [
    "# download and load MNIST training data:\n",
    "trainset = datasets.MNIST('~/.pytorch/MNIST_data/', download=True, train=True, transform=transform)\n",
    "trainloader = torch.utils.data.DataLoader(trainset, batch_size=64, shuffle=True)"
   ]
  },
  {
   "cell_type": "code",
   "execution_count": 92,
   "metadata": {},
   "outputs": [
    {
     "name": "stdout",
     "output_type": "stream",
     "text": [
      "<class 'torch.Tensor'>\n",
      "torch.Size([64, 1, 28, 28])\n",
      "torch.Size([64])\n"
     ]
    }
   ],
   "source": [
    "# Get first batch of images from the trainloader\n",
    "dataiter = iter(trainloader)\n",
    "images, labels = dataiter.next()\n",
    "print(type(images))\n",
    "print(images.shape)\n",
    "print(labels.shape)"
   ]
  },
  {
   "cell_type": "code",
   "execution_count": 93,
   "metadata": {},
   "outputs": [
    {
     "data": {
      "text/plain": [
       "<matplotlib.image.AxesImage at 0x2d2a753f1f0>"
      ]
     },
     "execution_count": 93,
     "metadata": {},
     "output_type": "execute_result"
    },
    {
     "data": {
      "image/png": "iVBORw0KGgoAAAANSUhEUgAAAPsAAAD4CAYAAAAq5pAIAAAABHNCSVQICAgIfAhkiAAAAAlwSFlzAAALEgAACxIB0t1+/AAAADh0RVh0U29mdHdhcmUAbWF0cGxvdGxpYiB2ZXJzaW9uMy4yLjAsIGh0dHA6Ly9tYXRwbG90bGliLm9yZy8GearUAAALUUlEQVR4nO3dX4gd9RnG8eepNSiJwaSaEGOoVkJtKSSWEAqRYpFIGi+iFw3mQlIqroKCQi8aLFKhFCRUexlYMZgWm1BQMUiphihNC0GykXRNTDWpbOuaJasEMV6IUd9enNmyxj1/cmbmzLHv9wOHOWfmzMzLkCe/3/w5+3NECMD/v681XQCAwSDsQBKEHUiCsANJEHYgia8Pcme2ufQP1CwiPNf8Ui277Q2237R90va2MtsCUC/3e5/d9kWS3pK0XtKkpEOStkTEGx3WoWUHalZHy75W0smIeDsiPpG0R9KmEtsDUKMyYV8u6Z1ZnyeLeV9ge8T2mO2xEvsCUFKZC3RzdRW+1E2PiFFJoxLdeKBJZVr2SUkrZn2+WtKpcuUAqEuZsB+StNL2tbbnSbpD0t5qygJQtb678RHxqe37Jb0o6SJJOyPiWGWVAahU37fe+toZ5+xA7Wp5qAbAVwdhB5Ig7EAShB1IgrADSRB2IAnCDiRB2IEkCDuQBGEHkiDsQBKEHUiCsANJEHYgCcIOJEHYgSQIO5AEYQeSIOxAEoQdSIKwA0kMdMhmfPXce++9HZdv37694/KRkZG2y/bs2dNXTegPLTuQBGEHkiDsQBKEHUiCsANJEHYgCcIOJMF9dnS0efPmjssXLFjQcfn1119fZTkooVTYbU9IOivpM0mfRsSaKooCUL0qWvYfRcT7FWwHQI04ZweSKBv2kPSS7cO253wI2vaI7THbYyX3BaCEst34dRFxyvYSSfts/zMiDsz+QkSMShqVJNtRcn8A+lSqZY+IU8V0WtJzktZWURSA6vUddtvzbV82817SLZKOVlUYgGqV6cYvlfSc7Znt/DEi/lJJVRga8+bNa7oEVKTvsEfE25JWVVgLgBpx6w1IgrADSRB2IAnCDiRB2IEk+IkrOpo/f37TJaAitOxAEoQdSIKwA0kQdiAJwg4kQdiBJAg7kARhB5Ig7EAShB1IgrADSRB2IAnCDiRB2IEkCDuQBL9nR0fFnwqvbTkGh5YdSIKwA0kQdiAJwg4kQdiBJAg7kARhB5LgPjs6iohal2NwurbstnfanrZ9dNa8xbb32T5RTBfVWyaAsnrpxj8lacN587ZJ2h8RKyXtLz4DGGJdwx4RBySdOW/2Jkm7ive7JN1WcV0AKtbvOfvSiJiSpIiYsr2k3Rdtj0ga6XM/ACpS+wW6iBiVNCpJtrlaAzSk31tvp20vk6RiOl1dSQDq0G/Y90raWrzfKun5asoBUJdebr3tlnRQ0rdtT9q+S9KjktbbPiFpffEZwBDres4eEVvaLLq54loA1IjHZYEkCDuQBGEHkiDsQBKEHUiCsANJEHYgCcIOJEHYgSQIO5AEYQeSIOxAEoQdSII/JZ3cJZdc0nH5lVdeOaBKUDdadiAJwg4kQdiBJAg7kARhB5Ig7EAShB1IgvvsyS1cuLDj8quuuqrjctsdl7/88ssXXBPqQcsOJEHYgSQIO5AEYQeSIOxAEoQdSIKwA0lwnz25u+++u9T6H3/8ccfl4+PjpbaP6vQyPvtO29O2j86a94jtd20fKV4b6y0TQFm9dOOfkrRhjvm/i4jVxevP1ZYFoGpdwx4RBySdGUAtAGpU5gL