{
 "cells": [
  {
   "cell_type": "markdown",
   "metadata": {},
   "source": [
    "# Looking at the Math Behind Feed Forward\n",
    "This notebook looks at manually calculating the results of a feed forward pass in a neural network. This is accomplished through simple matrix multiplication with torch: `torch.mm`. Later we will use built in feed forward functions, but first we want to get an intuition for what is going on under the hood."
   ]
  },
  {
   "cell_type": "code",
   "execution_count": 89,
   "metadata": {},
   "outputs": [],
   "source": [
    "from torchvision import datasets, transforms\n",
    "import torch\n",
    "import numpy as np\n",
    "import matplotlib.pyplot as plt\n",
    "import seaborn as sns"
   ]
  },
  {
   "cell_type": "code",
   "execution_count": 90,
   "metadata": {},
   "outputs": [],
   "source": [
    "# Define a transform to normalize the data\n",
    "transform = transforms.Compose([transforms.ToTensor(),\n",
    "                              transforms.Normalize((0.5,), (0.5,)),\n",
    "                              ])"
   ]
  },
  {
   "cell_type": "code",
   "execution_count": 91,
   "metadata": {},
   "outputs": [],
   "source": [
    "# download and load MNIST training data:\n",
    "trainset = datasets.MNIST('~/.pytorch/MNIST_data/', download=True, train=True, transform=transform)\n",
    "trainloader = torch.utils.data.DataLoader(trainset, batch_size=64, shuffle=True)"
   ]
  },
  {
   "cell_type": "code",
   "execution_count": 92,
   "metadata": {},
   "outputs": [
    {
     "name": "stdout",
     "output_type": "stream",
     "text": [
      "<class 'torch.Tensor'>\n",
      "torch.Size([64, 1, 28, 28])\n",
      "torch.Size([64])\n"
     ]
    }
   ],
   "source": [
    "# Get first batch of images from the trainloader\n",
    "dataiter = iter(trainloader)\n",
    "images, labels = dataiter.next()\n",
    "print(type(images))\n",
    "print(images.shape)\n",
    "print(labels.shape)"
   ]
  },
  {
   "cell_type": "code",
   "execution_count": 93,
   "metadata": {},
   "outputs": [
    {
     "data": {
      "text/plain": [
       "<matplotlib.image.AxesImage at 0x2d2a753f1f0>"
      ]
     },
     "execution_count": 93,
     "metadata": {},
     "output_type": "execute_result"
    },
    {
     "data": {
      "image/png": "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\n",
      "text/plain": [
       "<Figure size 432x288 with 1 Axes>"
      ]
     },
     "metadata": {
      "needs_background": "light"
     },
     "output_type": "display_data"
    }
   ],
   "source": [
    "# display first image in first batch:\n",
    "plt.imshow(images[0].numpy().squeeze(), cmap='Greys_r')"
   ]
  },
  {
   "cell_type": "code",
   "execution_count": 94,
   "metadata": {},
   "outputs": [],
   "source": [
    "# Define network architecture:\n",
    "n_in = 784\n",
    "n_hidden = 256\n",
    "n_out = 10\n",
    "\n",
    "# randomly initialize weight matrices:\n",
    "W1 = torch.randn((n_in, n_hidden))\n",
    "W2 = torch.randn((n_hidden, n_out))\n",
    "b1 = torch.randn((1, n_hidden))\n",
    "b2 = torch.randn((1, n_out))\n",
    "\n",
    "# define activation function:\n",
    "def activation(x):\n",
    "    return 1/(1 + torch.exp(-x))"
   ]
  },
  {
   "cell_type": "code",
   "execution_count": 95,
   "metadata": {},
   "outputs": [],
   "source": [
    "# Perform feedforward:\n",
    "a1 = activation(torch.mm(images.reshape(64, -1), W1) + b1)\n",
    "out = torch.mm(a1, W2) + b2"
   ]
  },
  {
   "cell_type": "code",
   "execution_count": 96,
   "metadata": {},
   "outputs": [
    {
     "data": {
      "text/plain": [
       "torch.Size([64, 10])"
      ]
     },
     "execution_count": 96,
     "metadata": {},
     "output_type": "execute_result"
    }
   ],
   "source": [
    "out.shape"
   ]
  },
  {
   "cell_type": "code",
   "execution_count": 97,
   "metadata": {},
   "outputs": [],
   "source": [
    "# Use a different activation function for the final layer:\n",
    "def softmax(z):\n",
    "    ez = torch.exp(z)\n",
    "    return ez/ez.sum(dim=1).view(-1, 1)"
   ]
  },
  {
   "cell_type": "code",
   "execution_count": 98,
   "metadata": {},
   "outputs": [
    {
     "data": {
      "