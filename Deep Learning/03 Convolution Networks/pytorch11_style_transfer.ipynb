{
 "cells": [
  {
   "cell_type": "markdown",
   "metadata": {},
   "source": [
    "# Introduction to Style Transfer\n",
    "Style transfer is a novel application of convolutional neural networks that has nothing to do with predicting or classifying anything. The idea is to take two template images, one for \"style\" and one for \"content\", and combine the stylistic elements of one image with the content of the other image to create a new piece of art. \n",
    "\n",
    "The mechanism by which this is achieved is still through gradient descent, with a few new twists:\n",
    "\n",
    "1. We are minimizing a new loss function, one that describes the difference of the network's output and the desired \"style\" and \"content\" of the two template images. \n",
    "\n",
    "2. Instead of updating kernel weights during gradient descent, we are updating the pixels of what is initially an image of white noise or perhaps the content template. \n",
    "\n",
    "The mystery in all of this is how we define the differences between style and content, and then how we mathematically extract them from an image. \n",
    "\n",
    "## Defining Content and Style\n",
    "If you've studied how convolutional neural networks learn, you probably know that each convolutional layer is made up of a stack of filters (AKA kernels) that are applied to incoming data to extract features. As general features are extracted, specific detail begins to be stripped away by pooling layers. This is on purpose, and is what allows our network to generalize to unseen data. \n",
    "\n",
    "### Content\n",
    "With the above in mind, we might guess that general \"content\" of an image is best encapsulated in later layers. Indeed, the authors of the original paper on style transfer chose to use the 10th of 16 convolutional layers to best represent an images content. It bears going over the network architecture they chose, which is VGG16.\n",
    "\n",
    "VGG16 contains a total of 16 convolutional layers. These layers come in 5 groups or stacks, where each stack contains either 2 or 4 conv layers each:\n",
    "\n",
    "     Conv 1: 2 conv layers, depth of 64, followed by a pooling layer\n",
    "     Conv 2: 2 conv layers, depth of 128, followed by a pooling layer\n",
    "     Conv 3: 4 conv layers, depth of 256, followed by a pooling layer\n",
    "     Conv 4: 4 conv layers, depth of 512, followed by a pooling layer\n",
    "     Conv 5: 4 conv layers, depth of 512, followed by a pooling layer\n",
    "\n",
    "Individual conv layers are identified with the notation $\\textbf{conv}_{i,j}$, where $i$ represents the $i$th stack and $j$ is the $j$th layer with in that stack. Therefore, the 10th convolutinal layer would be $\\textbf{conv}_{4, 2}$. Here's a visual:"
   ]
  },
  {
   "attachments": {
    "vgg_16_architecture.png": {
     "image/png": "iVBORw0KGgoAAAANSUhEUgAABnoAAAOuCAYAAAAgq8kDAAAMGGlDQ1BJQ0MgUHJvZmlsZQAASImV\nlwdUU0kXx+eVFEJCC0RASuhNkF6lhioISAcbIQkQSgiBoGIviwquXUSwoisgCq4FkEVFRLGwCNjr\nYkFFWRcLNlS+SQLoul853z1n3vvlzp07/5nMvDMDgKI9WyjMQJUAyBTkiiICfJhx8QlM0kOAAG1A\nAyZAic3JEXqHh4cAaKPvv9u76zAa2hVLSa5/1v9XU+bycjgAIOGQk7g5nEzIRwHANTlCUS4AhE7o\nN5idK5TwW8iqIigQACJZwiky1pJwkoytpTFRESzIvgCQqWy2KAUABUl+Zh4nBeZREEK2FnD5Asi7\nIHtwUtlcyD2QJ2RmZkFWpEI2TfouT8rfciaN5WSzU8ZYNhapkX35OcIM9tz/czr+t2VmiEf70IeF\nmioKjJCMGc5bZXpWsIShdqRJkBQaBlkF8nk+Vxov4dup4sDokfh+Tg4LzhlgAIACLts3GDKcS5Qh\nTo/2HmFbtkjaFsajofzcoKgRThJlRYzkR/MEGaEhI3lWpvKCRnkHL8cvcjQmme8fBBmuNPRofmpU\nrEwn2prHjwmFrAC5Myc9Mnik7f38VFboaIxIHCHRbAj5bbLIP0IWg6ln5oyOC7PisKV9qUP2yk2N\nCpS1xeJ4OXEhoxq4PF8/mQaMyxNEj2jD4OryiRhpWyDMCB+Jx3bwMgIiZPOMHcrJixxt250LF5hs\nHrCHaezJ4TL92DthbniUTBuOgxDAAr6ACcSwJIEskAb4Hf31/fCXrMYfsIEIpAAesBzxjLaIldYI\n4DMS5IM/IfFAzlg7H2ktD+RB/5cxr+xpCZKltXnSFungCeRMXBP3wN3wEPj0gsUWd8ZdRtsxFUd7\nJfoRfYmBRH+i2ZgODlSdAYsI8P+NLxi+eXB0Ei2C0TF8y0d4QugiPCRcI/QQboEY8FiaZSRqFn+p\n6AflTDAF9MBs/iOjS4I5+0ZjcGOo2gH3wd2hfqgdZ+CawBK3hyPxxj3h2Byg93uF4jFt3+byx/4k\nqr8fz4hfwVzBYURF0tg/wxqL+jEL67s54sJ38I+R2ErsCNaGncYuYE1YPWBip7AGrB07IeGxlfBY\nuhJGe4uQakuHefijMdbV1n3Wn//RO3tEgUj6f4Nc3pxcyYZgZQnnivgpqblMb/hF5jGDBByrCUxb\naxtnACTfd9nn4w1D+t1GGBe/+bKbAXAphM6Ubz62AQDHnwBAf/fNZ/Aabq91AJzo5IhFeTIfLnkQ\nAAUowp2hAXSAATCFY7IFjsANeAE/MBmEgSgQD2bCWU8FmVD1bDAfLAEFoAisA5tBKdgJ9oBKcBAc\nBvWgCZwG58Al0AmugTtwbfSCF2AAvANDCIKQEBpCRzQQXcQIsUBsEWfEA/FDQpAIJB5JRFIQASJG\n5iPLkCJkA1KK7EaqkF+R48hp5ALShdxCHiB9yGvkE4qhVFQV1UaN0YmoM+qNBqNR6Aw0Bc1G89Hl\n6Bq0BC1HD6B16Gn0EnoN7UFfoIMYwOQxBqaHWWLOGAsLwxKwZEyELcQKsWKsHKvBGuF/fQXrwfqx\njzgRp+NM3BKuz0A8Gufg2fhCfDVeilfidXgrfgV/gA/gXwk0ghbBguBKCCLEEVIIswkFhGLCPsIx\nwlm4d3oJ74hEIoNoQnSCezOemEacR1xN3E6sJTYTu4iPiIMk