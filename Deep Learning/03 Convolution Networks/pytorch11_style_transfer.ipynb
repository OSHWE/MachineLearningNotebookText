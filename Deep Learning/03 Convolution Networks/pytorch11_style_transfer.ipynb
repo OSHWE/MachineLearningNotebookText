{
 "cells": [
  {
   "cell_type": "markdown",
   "metadata": {},
   "source": [
    "# Introduction to Style Transfer\n",
    "Style transfer is a novel application of convolutional neural networks that has nothing to do with predicting or classifying anything. The idea is to take two template images, one for \"style\" and one for \"content\", and combine the stylistic elements of one image with the content of the other image to create a new piece of art. \n",
    "\n",
    "The mechanism by