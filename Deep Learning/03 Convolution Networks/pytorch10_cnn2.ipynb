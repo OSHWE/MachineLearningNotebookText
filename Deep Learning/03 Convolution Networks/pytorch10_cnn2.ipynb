{
 "cells": [
  {
   "cell_type": "markdown",
   "metadata": {},
   "source": [
    "# Classification with CNNs and the CIFAR10 Dataset\n",
    "We will now apply convolution and pooling layers combined with fully connected layers to classify images from the CIFAR10 dataset. CIFAR10 contains images in the RGB space that have dimensions of 32x32 pixels. Each image falls into 1 of 10 classes: planes, cars, birds, cats, deer, dogs, frogs, horses, ships and trucks. There are 6000 images in each class for a total of 60,000 images.\n",
    "\n",
    "Researching model architecture, I found an example in the Keras documentation that uses 4 `Conv2d` layers, 4 `MaxPool2d` layers, one hidden fully connected layer with 512 nodes and a final output layer utilizing softmax. \n",
    "\n",
    "The goal of this notebook is to implement the same network architecture found in the Keras documentation and apply it using PyTorch."
   ]
  },
  {
   "cell_type": "code",
   "execution_count": 1,
   "metadata": {},
   "outputs": [],
   "source": [
    "import torch\n",
    "import torch.nn.functional as F\n",
    "from torch import optim, nn\n",
    "from torchvision import datasets, transforms\n",
    "\n",
    "import matplotlib.pyplot as plt\n",
    "import numpy as np\n",
    "\n",
    "import cv2"
   ]
  },
  {
   "cell_type": "markdown",
   "metadata": {},
   "source": [
    "Let's define some transforms and get our datasets downloaded and into `DataLoader`s. \n",
    "\n",
    "Note the order of the transforms in the composition `augment`. While PyTorch docs say that all of these transforms can act on both PIL and Torch image tensors, they work best on PIL images, and can throw errors when acting on Torch image tensors that have not gone through some extra pre-processing. "
   ]
  },
  {
   "cell_type": "code",
   "execution_count": 2,
   "metadata": {},
   "outputs": [],
   "source": [
    "\n",
    "augment = transforms.Compose([transforms.RandomHorizontalFlip(),\n",
    "                              transforms.ToTensor(),\n",
    "                              transforms.Normalize((0.5, 0.5, 0.5),\n",
    "                                                   (0.5, 0.5, 0.5))])\n",
    "\n",
    "transform = transforms.Compose([transforms.ToTensor(),\n",
    "                              transforms.Normalize((0.5, 0.5, 0.5),\n",
    "                                                   (0.5, 0.5, 0.5))])\n"
   ]
  },
  {
   "cell_type": "code",
   "execution_count": 3,
   "metadata": {},
   "outputs": [
    {
     "name": "stdout",
     "output_type": "stream",
     "text": [
      "Files already downloaded and verified\n",
      "Files already downloaded and verified\n"
     ]
    }
   ],
   "source": [
    "trainset = datasets.CIFAR10('./data/cifar10/', download=True, train=True, transform=augment)\n",
    "testset = datasets.CIFAR10('./data/cifar10/', download=True, train=False, transform=transform)"
   ]
  },
  {
   "cell_type": "code",
   "execution_count": 4,
   "metadata": {},
   "outputs": [],
   "source": [
    "trainload = torch.utils.data.DataLoader(trainset, batch_size=32, shuffle=True, num_workers=4)\n",
    "testload = torch.utils.data.DataLoader(testset, batch_size=32, shuffle=True, nu