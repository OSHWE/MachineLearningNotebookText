{
 "cells": [
  {
   "cell_type": "markdown",
   "metadata": {},
   "source": [
    "# Classification with CNNs and the CIFAR10 Dataset\n",
    "We will now apply convolution and pooling layers combined with fully connected layers to classify images from the CIFAR10 dataset. CIFAR10 contains images in the RGB space that have dimensions of 32x32 pixels. Each image falls into 1 of 10 classes: planes, cars, birds, cats, deer, dogs, frogs, horses, ships and trucks. There are 6000 images in each class for a total of 60,000 images.\n",
    "\n",
    "Researching model architecture, I found an example in the Keras documentation that uses 4 `Conv2d` layers, 4 `MaxPool2d` layers, one hidden fully connected layer with 512 nodes and a final output layer utilizing softmax. \n",
    "\n",
    "The goal of this notebook is to implement the same network architecture found in the Keras documentation and apply it using PyTorch."
   ]
  },
  {
   "cell_type": "code",
   "execution_count": 1,
   "metadata": {},
   "outputs": [],
   "source": [
    "import torch\n",
    "import torch.nn.functional as F\n",
    "from torch import optim, nn\n",
    "from torchvision import datasets, transforms\n",
    "\n",
    "import matplotlib.pyplot as plt\n",
    "import numpy as np\n",
    "\n",
    "import cv2"
   ]
  },
  {
   "cell_type": "markdown",
   "metadata": {},
   "source": [
    "Let's define some transforms and get our datasets downloaded and into `DataLoader`s. \n",
    "\n",
    "Note the order of the transforms in the composition `augment`. While PyTorch docs say that all of these transforms can act on both PIL and Torch image tensors, they work best on PIL images, and can throw errors when acting on Torch image tensors that have not gone through some extra pre-processing. "
   ]
  },
  {
   "cell_type": "code",
   "execution_count": 2,
   "metadata": {},
   "outputs": [],
   "source": [
    "\n",
    "augment = transforms.Compose([transforms.RandomHorizontalFlip(),\n",
    "                              transforms.ToTensor(),\n",
    "                              transforms.Normalize((0.5, 0.5, 0.5),\n",
    "                                                   (0.5, 0.5, 0.5))])\n",
    "\n",
    "transform = transforms.Compose([transforms.ToTensor(),\n",
    "                              transforms.Normalize((0.5, 0.5, 0.5),\n",
    "                                                   (0.5, 0.5, 0.5))])\n"
   ]
  },
  {
   "cell_type": "code",
   "execution_count": 3,
   "metadata": {},
   "outputs": [
    {
     "name": "stdout",
     "output_type": "stream",
     "text": [
      "Files already downloaded and verified\n",
      "Files already downloaded and verified\n"
     ]
    }
   ],
   "source": [
    "trainset = datasets.CIFAR10('./data/cifar10/', download=True, train=True, transform=augment)\n",
    "testset = datasets.CIFAR10('./data/cifar10/', download=True, train=False, transform=transform)"
   ]
  },
  {
   "cell_type": "code",
   "execution_count": 4,
   "metadata": {},
   "outputs": [],
   "source": [
    "trainload = torch.utils.data.DataLoader(trainset, batch_size=32, shuffle=True, num_workers=4)\n",
    "testload = torch.utils.data.DataLoader(testset, batch_size=32, shuffle=True, num_workers=4)"
   ]
  },
  {
   "cell_type": "markdown",
   "metadata": {},
   "source": [
    "Let's take a look at our first batch, ensuring that everything is loading correctly:"
   ]
  },
  {
   "cell_type": "code",
   "execution_count": 5,
   "metadata": {},
   "outputs": [
    {
     "data": {
      "image/png": "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