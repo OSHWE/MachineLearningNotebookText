{
 "cells": [
  {
   "cell_type": "code",
   "execution_count": 1,
   "metadata": {},
   "outputs": [],
   "source": [
    "import torch\n",
    "from torch import nn, optim\n",
    "\n",
    "import numpy as np\n",
    "import pandas as pd\n",
    "from sklearn.preprocessing import OneHotEncoder, MinMaxScaler\n",
    "\n",
    "import matplotlib as mpl\n",
    "import matplotlib.pyplot as plt\n",
    "import seaborn as sns\n",
    "\n",
    "mpl.rcParams['figure.figsize'] = [12,8]\n",
    "viz_dict = {\n",
    "    'axes.titlesize':18,\n",
    "    'axes.labelsize':16,\n",
    "}\n",
    "sns.set_context(\"notebook\", rc=viz_dict)\n",
    "sns.set_style(\"whitegrid\")"
   ]
  },
  {
   "cell_type": "code",
   "execution_count": 2,
   "metadata": {},
   "outputs": [
    {
     "name": "stdout",
     "output_type": "stream",
     "text": [
      "Number of Entries: 144\n"
     ]
    },
    {
     "data": {
      "text/html": [
       "<div>\n",
       "<style scoped>\n",
       "    .dataframe tbody tr th:only-of-type {\n",
       "        vertical-align: middle;\n",
       "    }\n",
       "\n",
       "    .dataframe tbody tr th {\n",
       "        vertical-align: top;\n",
       "    }\n",
       "\n",
       "    .dataframe thead th {\n",
       "        text-align: right;\n",
       "    }\n",
       "</style>\n",
       "<table border=\"1\" class=\"dataframe\">\n",
       "  <thead>\n",
       "    <tr style=\"text-align: right;\">\n",
       "      <th></th>\n",
       "      <th>year</th>\n",
       "      <th>month</th>\n",
       "      <th>passengers</th>\n",
       "    </tr>\n",
       "  </thead>\n",
       "  <tbody>\n",
       "    <tr>\n",
       "      <th>0</th>\n",
       "      <td>1949</td>\n",
       "      <td>January</td>\n",
       "      <td>112</td>\n",
       "    </tr>\n",
       "    <tr>\n",
       "      <th>1</th>\n",
       "      <td>1949</td>\n",
       "      <td>February</td>\n",
       "      <td>118</td>\n",
       "    </tr>\n",
       "    <tr>\n",
       "      <th>2</th>\n",
       "      <td>1949</td>\n",
       "      <td>March</td>\n",
       "      <td>132</td>\n",
       "    </tr>\n",
       "    <tr>\n",
       "      <th>3</th>\n",
       "      <td>1949</td>\n",
       "      <td>April</td>\n",
       "      <td>129</td>\n",
       "    </tr>\n",
       "    <tr>\n",
       "      <th>4</th>\n",
       "      <td>1949</td>\n",
       "      <td>May</td>\n",
       "      <td>121</td>\n",
       "    </tr>\n",
       "  </tbody>\n",
       "</table>\n",
       "</div>"
      ],
      "text/plain": [
       "   year     month  passengers\n",
       "0  1949   January         112\n",
       "1  1949  February         118\n",
       "2  1949     March         132\n",
       "3  1949     April         129\n",
       "4  1949       May         121"
      ]
     },
     "execution_count": 2,
     "metadata": {},
     "output_type": "execute_result"
    }
   ],
   "source": [
    "data = sns.load_dataset(\"flights\")\n",
    "print(f'Number of Entries: {len(data)}')\n",
    "data.head()"
   ]
  },
  {
   "cell_type": "code",
   "execution_count": 3,
   "metadata": {},
   "outputs": [
    {
     "data": {
      "image/png": "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