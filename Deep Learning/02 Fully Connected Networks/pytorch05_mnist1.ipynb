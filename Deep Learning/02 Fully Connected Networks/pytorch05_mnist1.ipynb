{
 "cells": [
  {
   "cell_type": "markdown",
   "metadata": {},
   "source": [
    "# Classifying MNIST digits with PyTorch\n",
    "This notebook builds on the feed forward process in the last notebook. Here, we iteratively calculate loss based on each forward pass, and then use autograd on the loss function to update our weights and biases."
   ]
  },
  {
   "cell_type": "code",
   "execution_count": 1,
   "metadata": {},
   "outputs": [],
   "source": [
    "import torch\n",
    "from torch import nn\n",
    "from torch import optim\n",
    "import torch.nn.functional as F\n",
    "from torchvision import datasets, transforms\n",
    "import numpy as np\n",
    "import matplotlib.pyplot as plt\n",
    "import seaborn as sns\n",
    "\n",
    "sns.set_palette(sns.color_palette(\"Blues_d\", n_colors=10, desat=1))"
   ]
  },
  {
   "cell_type": "code",
   "execution_count": 2,
   "metadata": {},
   "outputs": [],
   "source": [
    "# Define a transform to normalize the data, load data:\n",
    "transform = transforms.Compose([transforms.ToTensor(),\n",
    "                              transforms.Normalize((0.5,), (0.5,)),\n",
    "                              ])\n",
    "\n",
    "# download and load MNIST training data:\n",
    "trainset = datasets.MNIST('~/.pytorch/MNIST_data/', download=True, train=True, transform=transform)\n",
    "trainloader = torch.utils.data.DataLoader(trainset, batch_size=64, shuffle=True)"
   ]
  },
  {
   "cell_type": "code",
   "execution_count": 3,
   "metadata": {},
   "outputs": [],
   "source": [
    "# using pre-built sequential model rather than custom made class. \n",
    "# Equivilent to previous notebook (pytorch04)\n",
    "\n",
    "# define architecture\n",
    "input_size   = 784\n",
    "hidden_sizes = (128,64)\n",
    "output_size  = 10\n",
    "\n",
    "# Build a feed-forward network\n",
    "model = nn.Sequential(nn.Linear(input_size, hidden_sizes[0]),\n",
    "                      nn.ReLU(),\n",
    "                      nn.Linear(hidden_sizes[0], hidden_sizes[1]),\n",
    "                      nn.ReLU(),\n",
    "                      nn.Linear(hidden_sizes[1], output_size),\n",
    "                      nn.LogSoftmax(dim=1))\n",
    "\n",
    "# Define loss function\n",
    "criterion = nn.NLLLoss()\n",
    "\n",
    "# Set up optimizer by keying in parameters for which gradient will be calculated:\n",
    "optimizer = optim.SGD(model.parameters(), lr=0.01)"
   ]
  },
  {
   "cell_type": "code",
   "execution_count": 5,
   "metadata": {},
   "outputs": [],
   "source": [
    "# Train network for 5 epochs\n",
    "\n",
    "epochs = 5\n",
    "for e in range(epochs):\n",
    "    running_loss = 0\n",
    "    for images, labels in trainloader:\n",
    "        optimizer.zero_grad()\n",
    "        images = images.view(images.shape[0], -1)\n",
    "        loss = criterion(model(images), labels)\n",
    "        loss.backward()\n",
    "        optimizer.step()\n",
    "        running_loss += loss.item()\n",
    "        "
   ]
  },
  {
   "cell_type": "code",
   "execution_count": 6,
   "metadata": {},
   "outputs": [
    {
     "data": {
      "text/plain": [
       "<matplotlib.axes._subplots.AxesSubplot at 0x2a5c6604c40>"
      ]
     },
     "execution_count": 6,
     "metadata": {},
     "output_type": "execute_result"
    },
    {
     "data": {
      "image/png": "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