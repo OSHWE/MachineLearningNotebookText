
{
 "cells": [
  {
   "cell_type": "markdown",
   "metadata": {},
   "source": [
    "# Moving From Digits to Fashion:\n",
    "This notebook will take techniques learned in the previous notebook and apply them to a slightly harder data set: MNIST Fashion."
   ]
  },
  {
   "cell_type": "code",
   "execution_count": 1,
   "metadata": {},
   "outputs": [],
   "source": [
    "import torch\n",
    "import torch.nn.functional as F\n",
    "from torch import nn, optim\n",
    "from torchvision import datasets, transforms\n",
    "import numpy as np\n",
    "\n",
    "from collections import OrderedDict\n",
    "\n",
    "import matplotlib.pyplot as plt\n",
    "import seaborn as sns\n",
    "\n",
    "sns.set_palette(sns.color_palette(\"Blues_d\", n_colors=10, desat=1))"
   ]
  },
  {
   "cell_type": "code",
   "execution_count": 2,
   "metadata": {},
   "outputs": [],
   "source": [
    "# Define a transform to normalize the data\n",
    "transform = transforms.Compose([transforms.ToTensor(),\n",
    "                                transforms.Normalize((0.5,), (0.5,))])\n",
    "\n",
    "# Download and load the training data\n",
    "trainset = datasets.FashionMNIST('~/.pytorch/F_MNIST_data/', download=True, train=True, transform=transform)\n",
    "trainloader = torch.utils.data.DataLoader(trainset, batch_size=64, shuffle=True)\n",
    "\n",
    "# Download and load the test data\n",
    "testset = datasets.FashionMNIST('~/.pytorch/F_MNIST_data/', download=True, train=False, transform=transform)\n",
    "testloader = torch.utils.data.DataLoader(testset, batch_size=64, shuffle=True)"
   ]
  },
  {
   "cell_type": "code",
   "execution_count": 3,
   "metadata": {},
   "outputs": [
    {
     "data": {
      "text/plain": [
       "<matplotlib.image.AxesImage at 0x20e7e63faf0>"
      ]
     },
     "execution_count": 3,
     "metadata": {},
     "output_type": "execute_result"
    },
    {
     "data": {
      "image/png": "[encoded data removed]",
      "text/plain": [
       "<Figure size 432x288 with 1 Axes>"
      ]
     },
     "metadata": {
      "needs_background": "light"
     },
     "output_type": "display_data"
    }
   ],
   "source": [
    "# Load batch and take a look at a sample image:\n",
    "train_iter = iter(trainloader)\n",
    "images, labels = train_iter.next()\n",
    "\n",
    "image_0 = images[0].squeeze().numpy()\n",
    "plt.imshow(image_0, cmap=\"Greys_r\")"
   ]
  },
  {
   "cell_type": "code",
   "execution_count": 16,
   "metadata": {},
   "outputs": [],
   "source": [
    "class LSequential(nn.Sequential):\n",
    "    \"\"\"\n",
    "    A Small extension for ease of use of PyTorch's nn.Sequential model. Rather than define each layer's\n",
    "    activations one at a time, the model is passed a tuple on initialization. The tuple contains the number of\n",
    "    nodes desired at each layer. The model is then automatically initialized with ReLU activations at each inner\n",
    "    layer and a log softmax activation at the final layer.\n",
    "\n",
    "    All other behavior should match that of `torch.nn.Sequential`\n",
    "    \"\"\"\n",
    "    def __init__(self, architecture, activation=(\"RelU\", nn.ReLU()), out=(\"lsmax\", nn.LogSoftmax(dim=1)), do=0.2):\n",
    "        self.layers = architecture\n",
    "        super().__init__(self.init_modules(architecture, activation, out, do))\n",
    "\n",
    "    def init_modules(self, arch, activation, out, dropout):\n",
    "        \"\"\"\n",
    "        A helper method that creates sequential modules and adds them to an `OrderedDict` object for passing\n",
    "        to the super class `nn.Sequential`\n",
    "        :param arch: Tuple where each element is the number of nodes in the corresponding layer\n",
    "        :param activation: Default nn.ReLU(). This activation will be used for each internal layer, but not\n",
    "            the output layer.\n",
    "        :param out: Default nn.LogSoftmax. Output layer activation.\n",
    "        :param dropout: Default 0.2, the dropout rate.\n",
    "        :return: OrderedDict containing activation modules for passing to `nn.sequential`\n",
    "        \"\"\"\n",
    "        n_layers = len(arch)\n",
    "        modules = OrderedDict()\n",
    "        a_name = activation[0]\n",
    "        o_name = out[0]\n",
    "\n",
    "        for i in range(n_layers - 2):\n",
    "            modules[f'fc{i}'] = nn.Linear(layers[i], layers[i + 1])\n",
    "            modules[f'{a_name}{i}'] = activation[1]\n",
    "            modules[f'drop{i}'] = nn.Dropout(p=dropout)\n",
    "        modules['fc_out'] = nn.Linear(layers[-2], layers[-1])\n",
    "        modules[f'{o_name}'] = out[1]\n",
    "\n",
    "        return modules\n",
    "\n",
    "    def train_model(self, trainload, epochs, criterion=nn.NLLLoss(), optimizer=optim.Adam, lr=0.003, testload=None):\n",
    "        \"\"\"\n",
    "        Train network parameters for given number of epochs.\n",
    "\n",
    "        :param trainload: a DataLoader object containing training variables and targets used for training.\n",
    "        :param testload: Optional. a DataLoader containing the validation set. If included, both training and\n",
    "            validation loss will be tracked and can be plotted using model.plot_loss().\n",
    "        :param epochs: Number of times the network will view the entire data set\n",
    "        :param optimizer: Learning method. Default optim.Adam\n",
    "        :param lr: Learning Rate. Default 0.003\n",
    "        :param criterion: Loss function. Default nn.NLLLoss,\n",
    "        :return:\n",
    "        \"\"\"\n",
    "        opt = optimizer(self.parameters(), lr)\n",
    "\n",
    "        self.testload = testload\n",
    "        self.train_loss = []\n",
    "        self.valid_loss = []\n",
    "        self.accuracy = []\n",
    "\n",
    "        for e in range(epochs):\n",
    "            running_tl = 0\n",
    "            running_vl = 0\n",
    "            running_ac = 0\n",
    "            for x, y in trainload:\n",
    "                x = x.view(x.shape[0], -1)\n",
    "                opt.zero_grad()\n",
    "                loss = criterion(self(x), y)\n",
    "                loss.backward()\n",
    "                opt.step()\n",
    "                running_tl += loss.item()\n",
    "\n",
    "            if testload is not None:\n",
    "                self.eval()\n",
    "                with torch.no_grad():\n",
    "                    for x, y in testload:\n",
    "                        x = x.view(x.shape[0], -1)\n",
    "                        lps = self(x)\n",
    "                        ps = torch.exp(lps)\n",
    "                        loss = criterion(lps, y)\n",
    "                        _, topclass = ps.topk(1, dim=1)\n",
    "                        acc = (topclass == y.view(*topclass.shape)).numpy()\n",
    "                        running_ac += acc.mean()\n",
    "                        running_vl += loss.item()\n",
    "                    self.accuracy.append(running_ac / len(testload))\n",
    "                    self.valid_loss.append(running_vl / len(testload))\n",
    "\n",
    "            self.train()\n",
    "            self.train_loss.append(running_tl / len(trainload))\n",
    "\n",
    "    def plot_loss(self):\n",
    "        \"\"\"\n",
    "        Plot training loss per epoch. Will also plot validation loss if a validation set was included.\n",
    "        \"\"\"\n",
    "        if self.valid_loss:\n",
    "            plt.plot(self.valid_loss, label='Validation Loss')\n",
    "        plt.plot(self.train_loss, label='Training Loss')\n",
    "        plt.legend()\n",
    "        plt.show()\n",
    "\n",
    "    def save(self, filepath):\n",
    "        checkpoint = {\n",
    "            'layers': self.layers,\n",
    "            'state_dict': self.state_dict()\n",
    "        }\n",
    "        torch.save(checkpoint, filepath)"
   ]
  },
  {
   "cell_type": "code",
   "execution_count": 17,
   "metadata": {},
   "outputs": [
    {
     "data": {
      "text/plain": [
       "Network(\n",
       "  (drop0): Dropout(p=0.2, inplace=False)\n",
       "  (fc0): Linear(in_features=784, out_features=392, bias=True)\n",
       "  (relu0): ReLU()\n",
       "  (drop1): Dropout(p=0.2, inplace=False)\n",
       "  (fc1): Linear(in_features=392, out_features=196, bias=True)\n",
       "  (relu1): ReLU()\n",
       "  (drop2): Dropout(p=0.2, inplace=False)\n",
       "  (fc2): Linear(in_features=196, out_features=98, bias=True)\n",
       "  (relu2): ReLU()\n",
       "  (fc_out): Linear(in_features=98, out_features=10, bias=True)\n",
       "  (smax_out): LogSoftmax()\n",
       ")"
      ]
     },
     "execution_count": 17,
     "metadata": {},
     "output_type": "execute_result"
    }
   ],
   "source": [
    "# Define network architecture:\n",
    "layers = (784, 392, 196, 98, 10)\n",
    "model = Network(layers)\n",
    "model"
   ]
  },
  {
   "cell_type": "code",
   "execution_count": 18,
   "metadata": {},
   "outputs": [
    {
     "data": {
      "image/png": "[encoded data removed]",
      "text/plain": [
       "<Figure size 432x288 with 1 Axes>"
      ]
     },
     "metadata": {
      "needs_background": "light"
     },
     "output_type": "display_data"
    }
   ],
   "source": [
    "model.train(trainloader, 5, plot_loss=True)"
   ]
  },
  {
   "cell_type": "code",
   "execution_count": 54,
   "metadata": {},
   "outputs": [
    {
     "data": {
      "image/png": "[encoded data removed]",
      "text/plain": [
       "<Figure size 432x288 with 2 Axes>"
      ]
     },
     "metadata": {
      "needs_background": "light"
     },
     "output_type": "display_data"
    },
    {
     "data": {
      "image/png": "[encoded data removed]",
      "text/plain": [
       "<Figure size 432x288 with 2 Axes>"
      ]
     },
     "metadata": {
      "needs_background": "light"
     },
     "output_type": "display_data"
    },
    {
     "data": {
      "image/png": "[encoded data removed]",
      "text/plain": [
       "<Figure size 432x288 with 2 Axes>"
      ]
     },
     "metadata": {
      "needs_background": "light"
     },
     "output_type": "display_data"
    }
   ],
   "source": [
    "test_images, _ = iter(testloader).next()\n",
    " \n",
    "for img in test_images[0:3]:\n",
    "    fig, axes = plt.subplots(1, 2, gridspec_kw={'width_ratios':[1,2], 'height_ratios':[1]})\n",
    "    ps = torch.exp(model(img.view(1, -1)))\n",
    "    axes[0].imshow(img.numpy().squeeze(), cmap='Greys_r')\n",
    "    sns.barplot(x=np.arange(10), y=ps.detach().numpy().squeeze(), ax=axes[1])\n",
    "    plt.show()\n"
   ]
  }
 ],
 "metadata": {
  "environment": {
   "name": "pytorch-gpu.1-4.m49",
   "type": "gcloud",
   "uri": "gcr.io/deeplearning-platform-release/pytorch-gpu.1-4:m49"
  },
  "kernelspec": {
   "display_name": "Python 3",
   "language": "python",
   "name": "python3"
  },
  "language_info": {
   "codemirror_mode": {
    "name": "ipython",
    "version": 3
   },
   "file_extension": ".py",
   "mimetype": "text/x-python",
   "name": "python",
   "nbconvert_exporter": "python",
   "pygments_lexer": "ipython3",
   "version": "3.8.3"
  }
 },
 "nbformat": 4,
 "nbformat_minor": 4
}