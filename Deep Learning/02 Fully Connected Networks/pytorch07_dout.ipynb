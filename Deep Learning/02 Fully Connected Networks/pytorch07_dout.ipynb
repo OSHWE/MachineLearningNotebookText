{
 "cells": [
  {
   "cell_type": "markdown",
   "metadata": {},
   "source": [
    "# Studying Validation Loss of Test Set With and Without Dropout\n",
    "In this section we see how our model generalizes to never before seen data. What we will discover is that after a certain number of epochs, our model will begin to perform worse on data it hasn't seen before. This is a sign of over-fitting, and is combated through dropout. "
   ]
  },
  {
   "cell_type": "code",
   "execution_count": 1,
   "metadata": {},
   "outputs": [],
   "source": [
    "import torch\n",
    "import torch.nn.functional as F\n",
    "from torch import nn, optim\n",
    "from torchvision import datasets, transforms\n",
    "import numpy as np\n",
    "\n",
    "from collections import OrderedDict\n",
    "\n",
    "import matplotlib.pyplot as plt\n",
    "import seaborn as sns\n",
    "\n",
    "sns.set_palette(sns.color_palette(\"bright\", n_colors=10,))"
   ]
  },
  {
   "cell_type": "code",
   "execution_count": 2,
   "metadata": {},
   "outputs": [],
   "source": [
    "transform = transforms.Compose([transforms.ToTensor(),\n",
    "                               transforms.Normalize((0.5,), (0.5,))])\n",
    "\n",
    "trainset = datasets.FashionMNIST('~/.pytorch/F_MNIST_data/', download=True, train=True, transform=transform)\n",
    "trainloader = torch.utils.data.DataLoader(trainset, batch_size=64, shuffle=True)\n",
    "\n",
    "testset = datasets.FashionMNIST('~/.pytorch/F_MNIST_data/', download=True, train=False, transform=transform)\n",
    "testloader = torch.utils.data.DataLoader(testset, batch_size=64, shuffle=True)"
   ]
  },
  {
   "cell_type": "markdown",
   "metadata": {},
   "source": [
    "## Without Dropout: \n",
    "Let's write a simple network without dropout, train and track its losses."
   ]
  },
  {
   "cell_type": "code",
   "execution_count": 3,
   "metadata": {},
   "outputs": [],
   "source": [
    "class Classifier(nn.Module):\n",
    "    def __init__(self):\n",
    "        super().__init__()\n",
    "        self.fc1 = nn.Linear(784, 256)\n",
    "        self.fc2 = nn.Linear(256, 128)\n",
    "        self.fc3 = nn.Linear(128, 64)\n",
    "        self.fc4 = nn.Linear(64, 10)\n",
    "    \n",
    "    def forward(self, x):\n",
    "        x = x.view(x.shape[0], -1)\n",
    "        x = F.relu(self.fc1(x))\n",
    "        x = F.relu(self.fc2(x))\n",
    "        x = F.relu(self.fc3(x))\n",
    "        return F.log_softmax(self.fc4(x), dim=1)"
   ]
  },
  {
   "cell_type": "code",
   "execution_count": 4,
   "metadata": {},
   "outputs": [],
   "source": [
    "model = Classifier()\n",
    "criterion = nn.NLLLoss()\n",
    "opt = optim.Adam(model.parameters(), lr = 0.003)\n",
    "epochs = 20\n",
    "\n",
    "train_losses = []\n",
    "test_losses = []\n",
    "accuracy = []\n",
    "\n",
    "for e in range(epochs):\n",
    "    test_loss = 0\n",
    "    train_loss = 0\n",
    "    acc = 0\n",
    "    for images, labels in trainloader:\n",
    "        opt.zero_grad()\n",
    "        loss = criterion(model(images), labels)\n",
    "        loss.backward()\n",
    "        opt.step()\n",
    "        train_loss += loss.item()\n",
    "    train_losses.append(train_loss/len(trainloader))\n",
    "    \n",
    "    with torch.no_grad():\n",
    "        model.eval()\n",
    "        for images, labels in testloader:\n",
    "            logps = model(images)\n",
    "            loss = criterion(logps, labels)\n",
    "            test_loss += loss.item()\n",
    "            \n",
    "            ps = torch.exp(logps)\n",
    "            _, top_class = ps.topk(1, dim = 1)\n",
    "            equals = (top_class == labels.view(*top_class.shape)).numpy()\n",
    "            acc += equals.mean()\n",
    "            \n",
    "        accuracy.append(acc/len(testloader))\n",
    "        test_losses.append(test_loss/len(testloader))"
   ]
  },
  {
   "cell_type": "code",
   "execution_count": 5,
   "metadata": {},
   "outputs": [
    {
     "data": {
      "text/plain": [
       "<matplotlib.legend.Legend at 0x221666d8580>"
      ]
     },
     "execution_count": 5,
     "metadata": {},
     "output_type": "execute_result"
    },
    {
     "data": {
      "image/png": "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