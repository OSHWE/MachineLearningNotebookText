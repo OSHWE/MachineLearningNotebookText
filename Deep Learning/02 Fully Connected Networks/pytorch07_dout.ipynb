{
 "cells": [
  {
   "cell_type": "markdown",
   "metadata": {},
   "source": [
    "# Studying Validation Loss of Test Set With and Without Dropout\n",
    "In this section we see how our model generalizes to never before seen data. What we will discover is that after a certain number of epochs, our model will begin to perform worse on data it hasn't seen before. This is a sign of over-fitting, and is combated through dropout. "
   ]
  },
  {
   "cell_type": "code",
   "execution_count": 1,
   "metadata": {},
   "outputs": [],
   "source": [
    "import torch\n",
    "import torch.nn.functional as F\n",
    "from torch import nn, optim\n",
    "from torchvision import datasets, transforms\n",
    "import numpy as np\n",
    "\n",
    "from collections import OrderedDict\n",
    "\n",
    "import matplotlib.pyplot as plt\n",
    "import seaborn as sns\n",
    "\n",
    "sns.set_palette(sns.color_palette(\"bright\", n_colors=10,))"
   ]
  },
  {
   "cell_type": "code",
   "execution_count": 2,
   "metadata": {},
   "outputs": [],
   "source": [
    "transform = transforms.Compose([transforms.ToTensor(),\n",
    "                               transforms.Normalize((0.5,), (0.5,))])\n",
    "\n",
    "trainset = datasets.FashionMNIST('~/.pytorch/F_MNIST_data/', download=True, train=True, transform=transform)\n",
    "trainloader = torch.utils.data.DataLoader(trainset, batch_size=64, shuffle=True)\n",
    "\n",
    "testset = datasets.FashionMNIST('~/.pytorch/F_MNIST_data/', download=True, train=False, transform=transform)\n",
    "testloader = torch.utils.data.DataLoader(testset, batch_size=64, shuffle=True)"
   ]
  },
  {
   "cell_type": "markdown",
   "metadata": {},
   "source": [
    "## Without Dropout: \n",
    "Let's write a simple network without dropout, train and track its losses."
   ]
  },
  {
   "cell_type": "code",
   "execution_count": 3,
   "metadata": {},
   "outputs": [],
   "source": [
    "class Classifier(nn.Module):\n",
    "    def __init__(self):\n",
    "        super().__init__()\n",
    "        self.fc1 = nn.Linear(784, 256)\n",
    "        self.fc2 = nn.Linear(256, 128)\n",
    "        self.fc3 = nn.Linear(128, 64)\n",
    "        self.fc4 = nn.Linear(64, 10)\n",
    "    \n",
    "    def forward(self, x):\n",
    "        x = x.view(x.shape[0], -1)\n",
    "        x = F.relu(self.fc1(x))\n",
    "        x = F.relu(self.fc2(x))\n",
    "        x = F.relu(self.fc3(x))\n",
    "        return F.log_softmax(self.fc4(x), dim=1)"
   ]
  },
  {
   "cell_type": "code",
   "execution_count": 4,
   "metadata": {},
   "outputs": [],
   "source": [
    "model = Classifier()\n",
    "criterion = nn.NLLLoss()\n",
    "opt = optim.Adam(model.parameters(), lr = 0.003)\n",
    "epochs = 20\n",
    "\n",
    "train_losses = []\n",
    "test_losses = []\n",
    "accuracy = []\n",
    "\n",
    "for e in range(epochs):\n",
    "    test_loss = 0\n",
    "    train_loss = 0\n",
    "    acc = 0\n",
    "    for images, labels in trainloader:\n",
    "        opt.zero_grad()\n",
    "        loss = criterion(model(images), labels)\n",
    "        loss.backward()\n",
    "        opt.step()\n",
    "        train_loss += loss.item()\n",
    "    train_losses.append(train_loss/len(trainloader))\n",
    "    \n",
    "    with torch.no_grad():\n",
    "        model.eval()\n",
    "        for images, labels in testloader:\n",
    "            logps = model(images)\n",
    "            loss = criterion(logps, labels)\n",
    "            test_loss += loss.item()\n",
    "            \n",
    "            ps = torch.exp(logps)\n",
    "            _, top_class = ps.topk(1, dim = 1)\n",
    "            equals = (top_class == labels.view(*top_class.shape)).numpy()\n",
    "            acc += equals.mean()\n",
    "            \n",
    "        accuracy.append(acc/len(testloader))\n",
    "        test_losses.append(test_loss/len(testloader))"
   ]
  },
  {
   "cell_type": "code",
   "execution_count": 5,
   "metadata": {},
   "outputs": [
    {
     "data": {
      "text/plain": [
       "<matplotlib.legend.Legend at 0x221666d8580>"
      ]
     },
     "execution_count": 5,
     "metadata": {},
     "output_type": "execute_result"
    },
    {
     "data": {
      "image/png": "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\n",
      "text/plain": [
       "<Figure size 432x288 with 1 Axes>"
      ]
     },
     "metadata": {
      "needs_background": "light"
     },
     "output_type": "display_data"
    }
   ],
   "source": [
    "plt.plot(train_losses, label='Training Loss')\n",
    "plt.plot(test_losses, label='Validation Loss')\n",
    "plt.legend()"
   ]
  },
  {
   "cell_type": "markdown",
   "metadata": {},
   "source": [
    "## With Dropout\n",
    "Next, let's write another model but this time with dropout included. We'll include a reusable training method in this class. No point in writing the same code over and over again. "
   ]
  },
  {
   "cell_type": "code",
   "execution_count": 6,
   "metadata": {},
   "outputs": [],
   "source": [
    "class DOClassifier(nn.Sequential):\n",
    "    def __init__(self, layers):\n",
    "        self.layers = layers\n",
    "        super().__init__(self.init_modules(layers))\n",
    "    \n",
    "    def init_modules(self, layers):\n",
    "        n_layers = len(layers)\n",
    "        modules = OrderedDict()\n",
    "        \n",
    "        for i in range(n_layers - 2):\n",
    "            modules[f'fc{i}']   = nn.Linear(layers[i], layers[i+1])\n",
    "            modules[f'ReLu{i}'] = nn.ReLU()  \n",
    "            modules[f'drop{i}'] = nn.Dropout(p=0.2)\n",
    "        modules['fc_out'] = nn.Linear(layers[-2], layers[-1])\n",
    "        modules['smax_out'] = nn.LogSoftmax(dim=1)   \n",
    "        \n",
    "        return modules\n",
    "    \n",
    "    def train_model(self, trainload, epochs, criterion=nn.NLLLoss(), optimizer=optim.Adam, lr=0.003, testload=None):\n",
    "        \"\"\"\n",
    "        Train network parameters for given number of epochs.\n",
    "\n",
    "\n",
    "        :param trainloader: a DataLoader object containing training variables and targets.\n",
    "        :param epochs: Number of times the network will view the entire dataset\n",
    "        :param optimizer: Learning method. Default optim.Adam\n",
    "        :param lr: Learning Rate. Default 0.01\n",
    "        :param criterion: Loss function. defualt nn.NLLLoss,\n",
    "        :param plot_loss: Set to True for a plot of training los