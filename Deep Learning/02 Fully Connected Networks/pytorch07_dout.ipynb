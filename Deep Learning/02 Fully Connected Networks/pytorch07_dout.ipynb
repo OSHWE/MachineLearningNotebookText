{
 "cells": [
  {
   "cell_type": "markdown",
   "metadata": {},
   "source": [
    "# Studying Validation Loss of Test Set With and Without Dropout\n",
    "In this section we see how our model generalizes to never before seen data. What we will discover is that after a certain number of epochs, our model will begin to perform worse on data it hasn't seen before. This is a sign of over-fitting, and is combated through dropout. "
   ]
  },
  {
   "cell_type": "code",
   "execution_count": 1,
   "metadata": {},
   "outputs": [],
   "source": [
    "import torch\n",
    "import torch.nn.functional as F\n",
    "from torch import nn, optim\n",
    "from torchvision import datasets, transforms\n",
    "import numpy as np\n",
    "\n",
    "from collections import OrderedDict\n",
    "\n",
    "import matplotlib.pyplot as plt\n",
    "import seaborn as sns\n",
    "\n",
    "sns.set_palette(sns.color_palette(\"bright\", n_colors=10,))"
   ]
  },
  {
   "cell_type": "code",
   "execution_count": 2,
   "metadata": {},
   "outputs": [],
   "source": [
    "transform = transforms.Compose([transforms.ToTensor(),\n",
    "                               transforms.Normalize((0.5,), (0.5,))])\n",
    "\n",
    "trainset = datasets.FashionMNIST('~/.pytorch/F_MNIST_data/', download=True, train=True, transform=transform)\n",
    "trainloader = torch.utils.data.DataLoader(trainset, batch_size=64, shuffle=True)\n",
    "\n",
    "testset = datasets.FashionMNIST('~/.pytorch/F_MNIST_data/', download=True, train=False, transform=transform)\n",
    "testloader = torch.utils.data.DataLoader(testset, batch_size=64, shuffle=True)"
   ]
  },
  {
   "cell_type": "markdown",
   "metadata": {},
   "source": [
    "## Without Dropout: \n",
    "Let's write a simple network without dropout, train and track its losses."
   ]
  },
  {
   "cell_type": "code",
   "execution_count": 3,
   "metadata": {},
   "outputs": [],
   "source": [
    "class Classifier(nn.Module):\n",
    "    def __init__(self):\n",
    "        super().__init__()\n",
    "        self.fc1 = nn.Linear(784, 256)\n",
    "        self.fc2 = nn.Linear(256, 128)\n",
    "        self.fc3 = nn.Linear(128, 64)\n",
    "        self.fc4 = nn.Linear(64, 10)\n",
    "    \n",
    "    def forward(self, x):\n",
    "        x = x.view(x.shape[0], -1)\n",
    "        x = F.relu(self.fc1(x))\n",
    "        x = F.relu(self.fc2(x))\n",
    "        x = F.relu(self.fc3(x))\n",
    "        return F.log_softmax(self.fc4(x), dim=1)"
   ]
  },
  {
   "cell_type": "code",
   "execution_count": 4,
   "metadata": {},
   "outputs": [],
   "source": [
    "model = Classifier()\n",
    "criterion = nn.NLLLoss()\n",
    "opt = optim.Adam(model.parameters(), lr = 0.003)\n",
    "epochs = 20\n",
    "\n",
    "train_losses = []\n",
    "test_losses = []\n",
    "accuracy = []\n",
    "\n",
    "for e in range(epochs):\n",
    "    test_loss = 0\n",
    "    train_loss = 0\n",
    "    acc = 0\n",
    "    for images, labels in trainloader:\n",
    "        opt.zero_grad()\n",
    "        loss = criterion(model(images), labels)\n",
    "        loss.backward()\n",
    "        opt.step()\n",
    "        train_loss += loss.item()\n",
    "    train_losses.append(train_loss/len(trainloader))\n",
    "    \n",
    "    with torch.no_grad():\n",
    "        model.eval()\n",
    "        for images, labels in testloader:\n",
    "            logps = model(images)\n",
    "            loss = criterion(logps, labels)\n",
    "            test_loss += loss.item()\n",
    "            \n",
    "            ps = torch.exp(logps)\n",
    "            _, top_class = ps.topk(1, dim = 1)\n",
    "            equals = (top_class == labels.view(*top_class.shape)).numpy()\n",
    "            acc += equals.mean()\n",
    "            \n",
    "        accuracy.append(acc/len(testloader))\n",
    "        test_losses.append(test_loss/len(testloader))"
   ]
  },
  {
   "cell_type": "code",
   "execution_count": 5,
   "metadata": {},
   "outputs": [
    {
     "data": {
      "text/plain": [
       "<matplotlib.legend.Legend at 0x221666d8580>"
      ]
     },
     "execution_count": 5,
     "metadata": {},
     "output_type": "execute_result"
    },
    {
     "data": {
      "image/png": "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