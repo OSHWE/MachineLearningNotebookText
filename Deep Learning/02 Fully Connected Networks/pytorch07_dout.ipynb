{
 "cells": [
  {
   "cell_type": "markdown",
   "metadata": {},
   "source": [
    "# Studying Validation Loss of Test Set With and Without Dropout\n",
    "In this section we see how our model generalizes to never before seen data. What we will discover is that after a certain number of epochs, our model will begin to perform worse on data it hasn't seen before. This is a sign of over-fitting, and is combated through dropout. "
   ]
  },
  {
   "cell_type": "code",
   "execution_count": 1,
   "metadata": {},
   "outputs": [],
   "source": [
    "import torch\n",
    "import torch.nn.functional as F\n",
    "from torch import nn, optim\n",
    "from torchvision import datasets, transforms\n",
    "import numpy as np\n",
    "\n",
    "from collections import OrderedDict\n",
    "\n",
    "import matplotlib.pyplot as plt\n",
    "import seaborn as sns\n",
    "\n",
    "sns.set_palette(sns.color_palette(\"bright\", n_colors=10,))"
   ]
  },
  {
   "cell_type": "code",
   "execution_count": 2,
   "metadata": {},
   "outputs": [],
   "source": [
    "transform = transforms.Compose([transforms.ToTensor(),\n",
    "                               transforms.Normalize((0.5,), (0.5,))])\n",
    "\n",
    "trainset = datasets.FashionMNIST('~/.pytorch/F_MNIST_data/', download=True, train=True, transform=transform)\n",
    "trainloader = torch.utils.data.DataLoader(trainset, batch_size=64, shuffle=True)\n",
    "\n",
    "testset = datasets.FashionMNIST('~/.pytorch/F_MNIST_data/', download=True, train=False, transform=transform)\n",
    "testloader = torch.utils.data.DataLoader(testset, batch_size=64, shuffle=True)"
   ]
  },
  {
   "cell_type": "markdown",
   "metadata": {},
   "source": [
    "## Without Dropout: \n",
    "Let's write a simple network without dropout, train and track its losses."
   ]
  },
  {
   "cell_type": "code",
   "execution_count": 3,
   "metadata": {},
   "outputs": [],
   "source": [
    "class Classifier(nn.Module):\n",
    "    def __init__(self):\n",
    "        super().__init__()\n",
    "        self.fc1 = nn.Linear(784, 256)\n",
    "        self.fc2 = nn.Linear(256, 128)\n",
    "        self.fc3 = nn.Linear(128, 64)\n",
    "        self.fc4 = nn.Linear(64, 10)\n",
    "    \n",
    "    def forward(self, x):\n",
    "        x = x.view(x.shape[0], -1)\n",
    "        x = F.relu(self.fc1(x))\n",
    "        x = F.relu(self.fc2(x))\n",
    "        x = F.relu(self.fc3(x))\n",
    "        return F.log_softmax(self.fc4(x), dim=1)"
   ]
  },
  {
   "cell_type": "code",
   "execution_count": 4,
   "metadata": {},
   "outputs": [],
   "source": [
    "model = Classifier()\n",
    "criterion = nn.NLLLoss()\n",
    "opt = optim.Adam(model.parameters(), lr = 0.003)\n",
    "epochs = 20\n",
    "\n",
    "train_losses = []\n",
    "test_losses = []\n",
    "accuracy = []\n",
    "\n",
    "for e in range(epochs):\n",
    "    test_loss = 0\n",
    "    train_loss = 0\n",
    "    acc = 0\n",
    "    for images, labels in trainloader:\n",
    "        opt.zero_grad()\n",
    "        loss = criterion(model(images), labels)\n",
    "        loss.backward()\n",
    "        opt.step()\n",
    "        train_loss += loss.item()\n",
    "    train_losses.append(train_loss/len(trainloader))\n",
    "    \n",
    "    with torch.no_grad():\n",
    "        model.eval()\n",
    "        for images, labels in testloader:\n",
    "            logps = model(images)\n",
    "            loss = criterion(logps, labels)\n",
    "            test_loss += loss.item()\n",
    "            \n",
    "            ps = torch.exp(logps)\n",
    "            _, top_class = ps.topk(1, dim = 1)\n",
    "            equals = (top_class == labels.view(*top_class.shape)).numpy()\n",
    "            acc += equals.mean()\n",
    "            \n",
    "        accuracy.append(acc/len(testloader))\n",
    "        test_losses.append(test_loss/len(testloader))"
   ]
  },
  {
   "cell_type": "code",
   "execution_count": 5,
   "metadata": {},
   "outputs": [
    {
     "data": {
      "text/plain": [
       "<matplotlib.legend.Legend at 0x221666d8580>"
      ]
     },
     "execution_count": 5,
     "metadata": {},
     "output_type": "execute_result"
    },
    {
     "data": {
      "image/png": "[encoded data removed]",
      "text/plain": [
       "<Figure size 432x288 with 1 Axes>"
      ]
     },
     "metadata": {
      "needs_background": "light"
     },
     "output_type": "display_data"
    }
   ],
   "source": [
    "plt.plot(train_losses, label='Training Loss')\n",
    "plt.plot(test_losses, label='Validation Loss')\n",
    "plt.legend()"
   ]
  },
  {
   "cell_type": "markdown",
   "metadata": {},
   "source": [
    "## With Dropout\n",
    "Next, let's write another model but this time with dropout included. We'll include a reusable training method in this class. No point in writing the same code over and over again. "
   ]
  },
  {
   "cell_type": "code",
   "execution_count": 6,
   "metadata": {},
   "outputs": [],
   "source": [
    "class DOClassifier(nn.Sequential):\n",
    "    def __init__(self, layers):\n",
    "        self.layers = layers\n",
    "        super().__init__(self.init_modules(layers))\n",
    "    \n",
    "    def init_modules(self, layers):\n",
    "        n_layers = len(layers)\n",
    "        modules = OrderedDict()\n",
    "        \n",
    "        for i in range(n_layers - 2):\n",
    "            modules[f'fc{i}']   = nn.Linear(layers[i], layers[i+1])\n",
    "            modules[f'ReLu{i}'] = nn.ReLU()  \n",
    "            modules[f'drop{i}'] = nn.Dropout(p=0.2)\n",
    "        modules['fc_out'] = nn.Linear(layers[-2], layers[-1])\n",
    "        modules['smax_out'] = nn.LogSoftmax(dim=1)   \n",
    "        \n",
    "        return modules\n",
    "    \n",
    "    def train_model(self, trainload, epochs, criterion=nn.NLLLoss(), optimizer=optim.Adam, lr=0.003, testload=None):\n",
    "        \"\"\"\n",
    "        Train network parameters for given number of epochs.\n",
    "\n",
    "\n",
    "        :param trainloader: a DataLoader object containing training variables and targets.\n",
    "        :param epochs: Number of times the network will view the entire dataset\n",
    "        :param optimizer: Learning method. Default optim.Adam\n",
    "        :param lr: Learning Rate. Default 0.01\n",
    "        :param criterion: Loss function. defualt nn.NLLLoss,\n",
    "        :param plot_loss: Set to True for a plot of training loss vs epochs.\n",
    "        :return:\n",
    "        \"\"\"\n",
    "        opt = optimizer(self.parameters(), lr)\n",
    "        \n",
    "        self.testload = testload\n",
    "        self.train_loss = []\n",
    "        self.valid_loss = []\n",
    "        self.accuracy   = []\n",
    "\n",
    "        for e in range(epochs):\n",
    "            running_tl = 0\n",
    "            running_vl = 0\n",
    "            running_ac = 0\n",
    "            for x, y in trainload:\n",
    "                x = x.view(x.shape[0], -1)\n",
    "                opt.zero_grad()\n",
    "                loss = criterion(self(x), y)\n",
    "                loss.backward()\n",
    "                opt.step()\n",
    "                running_tl += loss.item()\n",
    "\n",
    "            if testload != None:\n",
    "                self.eval()\n",
    "                with torch.no_grad():\n",
    "                    for x, y in testload:\n",
    "                        x = x.view(x.shape[0], -1)\n",
    "                        lps = self(x)\n",
    "                        ps = torch.exp(lps)\n",
    "                        loss = criterion(lps, y)\n",
    "                        _, topclass = ps.topk(1, dim=1)\n",
    "                        acc = (topclass == y.view(*topclass.shape)).numpy()\n",
    "                        running_ac += acc.mean()\n",
    "                        running_vl += loss.item()\n",
    "                    self.accuracy.append(running_ac/len(testload))\n",
    "                    self.valid_loss.append(running_vl/len(testload))\n",
    "                \n",
    "            self.train()\n",
    "            self.train_loss.append(running_tl/len(trainload))\n",
    "    \n",
    "    def plot_loss(self):\n",
    "        if self.valid_loss:\n",
    "            plt.plot(self.valid_loss, label='Validation Loss')\n",
    "        plt.plot(self.train_loss, label='Training Loss')\n",
    "        plt.legend()"
   ]
  },
  {
   "cell_type": "code",
   "execution_count": 7,
   "metadata": {},
   "outputs": [],
   "source": [
    "model2 = DOClassifier((784,256,128,64,10))"
   ]
  },
  {
   "cell_type": "code",
   "execution_count": 8,
   "metadata": {},
   "outputs": [],
   "source": [
    "model2.train_model(trainloader, 20, testload=testloader)"
   ]
  },
  {
   "cell_type": "code",
   "execution_count": 9,
   "metadata": {},
   "outputs": [
    {
     "data": {
      "image/png": "[encoded data removed]",
      "text/plain": [
       "<Figure size 432x288 with 1 Axes>"
      ]
     },
     "metadata": {
      "needs_background": "light"
     },
     "output_type": "display_data"
    }
   ],
   "source": [
    "model2.plot_loss()"
   ]
  },
  {
   "cell_type": "markdown",
   "metadata": {},
   "source": [
    "## Save Model Architecture and Trained Weights\n",
    "We'll define a small function that saves our model's layer architecture and trained weights. Note that this function is specific to the the class we wrote above called `DOClassifier`. If you define your network class differently, you may need to save your checkpoints in a different way."
   ]
  },
  {
   "cell_type": "code",
   "execution_count": 10,
   "metadata": {},
   "outputs": [],
   "source": [
    "def save_checkpoint(model): \n",
    "    checkpoint = {\n",
    "        'layers': model.layers,\n",
    "        'state_dict': model.state_dict()\n",
    "    }\n",
    "    torch.save(checkpoint, 'chckpoint.pth')\n",
    "\n",
    "def load_checkpoint(filepath):\n",
    "    checkpoint = torch.load(filepath)\n",
    "    model = DOClassifier(checkpoint['layers'])\n",
    "    model.load_state_dict(checkpoint['state_dict'])\n",
    "    return model\n",
    "\n",
    "save_checkpoint(model2)"
   ]
  },
  {
   "cell_type": "markdown",
   "metadata": {},
   "source": [
    "## Check to see if our model properly saved and loaded:\n",
    "We'll compare `model2` with `model3`, where `model3` was created by loading our checkpoint from file."
   ]
  },
  {
   "cell_type": "code",
   "execution_count": 11,
   "metadata": {},
   "outputs": [
    {
     "data": {
      "text/plain": [
       "(784, 256, 128, 64, 10)"
      ]
     },
     "execution_count": 11,
     "metadata": {},
     "output_type": "execute_result"
    }
   ],
   "source": [
    "model2.layers"
   ]
  },
  {
   "cell_type": "code",
   "execution_count": 12,
   "metadata": {},
   "outputs": [
    {
     "data": {
      "text/plain": [
       "tensor([[ 0.1895,  0.1610,  0.1723,  ...,  0.1874,  0.2213,  0.2024],\n",
       "        [ 0.1956,  0.2496,  0.2213,  ...,  0.2568,  0.2186,  0.2090],\n",
       "        [-0.2020, -0.1504, -0.2025,  ..., -0.2292, -0.1865, -0.1821],\n",
       "        ...,\n",
       "        [ 0.3308,  0.3273,  0.3853,  ...,  0.3952,  0.3763,  0.3959],\n",
       "        [ 0.1360,  0.1809,  0.1597,  ...,  0.0811,  0.1266,  0.1550],\n",
       "        [ 0.2551,  0.2899,  0.2208,  ...,  0.2371,  0.2434,  0.2662]])"
      ]
     },
     "execution_count": 12,
     "metadata": {},
     "output_type": "execute_result"
    }
   ],
   "source": [
    "model2.state_dict()['fc0.weight']"
   ]
  },
  {
   "cell_type": "code",
   "execution_count": 13,
   "metadata": {},
   "outputs": [],
   "source": [
    "model3 = load_checkpoint('chckpoint.pth')"
   ]
  },
  {
   "cell_type": "code",
   "execution_count": 14,
   "metadata": {},
   "outputs": [
    {
     "data": {
      "text/plain": [
       "tensor([[ 0.1895,  0.1610,  0.1723,  ...,  0.1874,  0.2213,  0.2024],\n",
       "        [ 0.1956,  0.2496,  0.2213,  ...,  0.2568,  0.2186,  0.2090],\n",
       "        [-0.2020, -0.1504, -0.2025,  ..., -0.2292, -0.1865, -0.1821],\n",
       "        ...,\n",
       "        [ 0.3308,  0.3273,  0.3853,  ...,  0.3952,  0.3763,  0.3959],\n",
       "        [ 0.1360,  0.1809,  0.1597,  ...,  0.0811,  0.1266,  0.1550],\n",
       "        [ 0.2551,  0.2899,  0.2208,  ...,  0.2371,  0.2434,  0.2662]])"
      ]
     },
     "execution_count": 14,
     "metadata": {},
     "output_type": "execute_result"
    }
   ],
   "source": [
    "model3.state_dict()['fc0.weight']"
   ]
  },
  {
   "cell_type": "markdown",
   "metadata": {},
   "source": [
    "## All done.\n",
    "Looks like the first layer's weights are identical."
   ]
  }
 ],
 "metadata": {
  "environment": {
   "name": "pytorch-gpu.1-4.m49",
   "type": "gcloud",
   "uri": "gcr.io/deeplearning-platform-release/pytorch-gpu.1-4:m49"
  },
  "kernelspec": {
   "display_name": "Python 3",
   "language": "python",
   "name": "python3"
  },
  "language_info": {
   "codemirror_mode": {
    "name": "ipython",
    "version": 3
   },
   "file_extension": ".py",
   "mimetype": "text/x-python",
   "name": "python",
   "nbconvert_exporter": "python",
   "pygments_lexer": "ipython3",
   "version": "3.8.0"
  }
 },
 "nbformat": 4,
 "nbformat_minor": 4
}
