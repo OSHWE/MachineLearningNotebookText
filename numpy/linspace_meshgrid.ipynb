{
 "cells": [
  {
   "cell_type": "markdown",
   "metadata": {},
   "source": [
    "# Understanding Numpy `linspace` and `meshgrid`:\n",
    "\n",
    "## Part 1 - NumPy linspace:\n",
    "\n",
    "`numpy.linspace` is similar in function to `numpy.arange` in that it generates a 1-d array of evenly spaced data. However, where `arange` uses parameters `start`, `stop` and `step`, `linspace` uses `start` `stop` and `num`, where `num` is _sample size_."
   ]
  },
  {
   "cell_type": "code",
   "execution_count": 18,
   "metadata": {},
   "outputs": [],
   "source": [
    "import numpy as np\n",
    "import matplotlib.pyplot as plt\n",
    "from matplotlib import cm"
   ]
  },
  {
   "cell_type": "markdown",
   "metadata": {},
   "source": [
    "### np.linspace with endpoint=True (default). \n",
    "`linspace` takes positional arguments `start`, `stop` and `num`. \n",
    "\n",
    "With the default keyword argument `endpoint=True`, `linspace` takes `num` evenly spaced samples from the range $[\\text{start}, \\text{stop}]$ where `stop` is guaranteed to be the last sample point. \n",
    "\n",
    "Some examples:"
   ]
  },
  {
   "cell_type": "code",
   "execution_count": 19,
   "metadata": {},
   "outputs": [
    {
     "data": {
      "text/plain": [
       "array([ 0.        ,  1.11111111,  2.22222222,  3.33333333,  4.44444444,\n",
       "        5.55555556,  6.66666667,  7.77777778,  8.88888889, 10.        ])"
      ]
     },
     "execution_count": 19,
     "metadata": {},
     "output_type": "execute_result"
    }
   ],
   "source": [
    "np.linspace(0,10,10)"
   ]
  },
  {
   "cell_type": "code",
   "execution_count": 20,
   "metadata": {},
   "outputs": [
    {
     "data": {
      "text/plain": [
       "array([ 0.,  1.,  2.,  3.,  4.,  5.,  6.,  7.,  8.,  9., 10.])"
      ]
     },
     "execution_count": 20,
     "metadata": {},
     "output_type": "execute_result"
    }
   ],
   "source": [
    "np.linspace(0, 10, 11) "
   ]
  },
  {
   "cell_type": "markdown",
   "metadata": {},
   "source": [
    "The above examples illustrate what, for me, was a confusing point at first. Namely, `num` is not the number of divisions or parts of the range, but rather the number of sample points. This is stated clearly in the docs, but somehow it remained a point of confusion or some time. \n",
    "\n",
    "### numpy.linspace with endpoint=False\n",
    "\n",
    "If you choose to make use of the optional keyword argument `endpoint=False`, then the value of `stop` is _excluded_ from the returned results:"
   ]
  },
  {
   "cell_type": "code",
   "execution_count": 21,
   "metadata": {},
   "outputs": [
    {
     "data": {
      "text/plain": [
       "array([0., 1., 2., 3., 4., 5., 6., 7., 8., 9.])"
      ]
     },
     "execution_count": 21,
     "metadata": {},
     "output_type": "execute_result"
    }
   ],
   "source": [
    "np.linspace(0,10, 10, endpoint=False)"
   ]
  },
  {
   "cell_type": "code",
   "execution_count": 22,
   "metadata": {},
   "outputs": [
    {
     "data": {
      "text/plain": [
       "array([0., 5.])"
      ]
     },
     "execution_count": 22,
     "metadata": {},
     "output_type": "execute_result"
    }
   ],
   "source": [
    "np.linspace(0,10,2, endpoint=False)"
   ]
  },
  {
   "cell_type": "markdown",
   "metadata": {},
   "source": [
    "__Note:__ Whether or not you use the default endpoint argument, the `start` argument value is always included in the returned array. This knowledge will help you predict what values you can expect the function to return."
   ]
  },
  {
   "cell_type": "markdown",
   "metadata": {},
   "source": [
    "## 2 - NumPy meshgrid\n",
    "\n",
    "`meshgrid` takes mandatory arguments of at least two array like objects. For array like arguments $x_1, x_2, \\dots , x_n$, meshgrid will return $n$ \"coordinate\" matrices. \n",
    "\n",
    "Let's say that we pass two arrays to `meshgrid`, like so:"
   ]
  },
  {
   "cell_type": "code",
   "execution_count": 23,
   "metadata": {},
   "outputs": [
    {
     "data": {
      "text/plain": [
       "array([[ 0.,  1.,  2.,  3.,  4.,  5.,  6.,  7.,  8.,  9., 10.],\n",
       "       [ 0.,  1.,  2.,  3.,  4.,  5.,  6.,  7.,  8.,  9., 10.],\n",
       "       [ 0.,  1.,  2.,  3.,  4.,  5.,  6.,  7.,  8.,  9., 10.],\n",
       "       [ 0.,  1.,  2.,  3.,  4.,  5.,  6.,  7.,  8.,  9., 10.],\n",
       "       [ 0.,  1.,  2.,  3.,  4.,  5.,  6.,  7.,  8.,  9., 10.],\n",
       "       [ 0.,  1.,  2.,  3.,  4.,  5.,  6.,  7.,  8.,  9., 10.],\n",
       "       [ 0.,  1.,  2.,  3.,  4.,  5.,  6.,  7.,  8.,  9., 10.],\n",
       "       [ 0.,  1.,  2.,  3.,  4.,  5.,  6.,  7.,  8.,  9., 10.],\n",
       "       [ 0.,  1.,  2.,  3.,  4.,  5.,  6.,  7.,  8.,  9., 10.],\n",
       "       [ 0.,  1.,  2.,  3.,  4.,  5.,  6.,  7.,  8.,  9., 10.],\n",
       "       [ 0.,  1.,  2.,  3.,  4.,  5.,  6.,  7.,  8.,  9., 10.]])"
      ]
     },
     "execution_count": 23,
     "metadata": {},
     "output_type": "execute_result"
    }
   ],
   "source": [
    "x = np.linspace(0, 10, 11)\n",
    "y = np.linspace(0, 10, 11)\n",
    "xx, yy = np.meshgrid(x, y)\n",
    "\n",
    "xx"
   ]
  },
  {
   "cell_type": "markdown",
   "metadata": {},
   "source": [
    "Now, documentation calls xx a \"coordinate matrix\", but why? Notice that each row of `xx` is a repetition of what the x-axis would look like on a 2-D grid space. \n",
    "\n",
    "Let's take a look at `yy`:"
   ]
  },
  {
   "cell_type": "code",
   "execution_count": 24,
   "metadata": {},
   "outputs": [
    {
     "data": {
      "text/plain": [
       "array([[ 0.,  0.,  0.,  0.,  0.,  0.,  0.,  0.,  0.,  0.,  0.],\n",
       "       [ 1.,  1.,  1.,  1.,  1.,  1.,  1.,  1.,  1.,  1.,  1.],\n",
       "       [ 2.,  2.,  2.,  2.,  2.,  2.,  2.,  2.,  2.,  2.,  2.],\n",
       "       [ 3.,  3.,  3.,  3.,  3.,  3.,  3.,  3.,  3.,  3.,  3.],\n",
       "       [ 4.,  4.,  4.,  4.,  4.,  4.,  4.,  4.,  4.,  4.,  4.],\n",
       "       [ 5.,  5.,  5.,  5.,  5.,  5.,  5.,  5.,  5.,  5.,  5.],\n",
       "       [ 6.,  6.,  6.,  6.,  6.,  6.,  6.,  6.,  6.,  6.,  6.],\n",
       "       [ 7.,  7.,  7.,  7.,  7.,  7.,  7.,  7.,  7.,  7.,  7.],\n",
       "       [ 8.,  8.,  8.,  8.,  8.,  8.,  8.,  8.,  8.,  8.,  8.],\n",
       "       [ 9.,  9.,  9.,  9.,  9.,  9.,  9.,  9.,  9.,  9.,  9.],\n",
       "       [10., 10., 10., 10., 10., 10., 10., 10., 10., 10., 10.]])"
      ]
     },
     "execution_count": 24,
     "metadata": {},
     "output_type": "execute_result"
    }
   ],
   "source": [
    "yy"
   ]
  },
  {
   "cell_type": "markdown",
   "metadata": {},
   "source": [
    "Notice here, that each _column_ is a repetition of what the y-axis would look like in a 2-D grid space. If you can't quite see this, try reversing the order of the rows:"
   ]
  },
  {
   "cell_type": "code",
   "execution_count": 25,
   "metadata": {},
   "outputs": [
    {
     "data": {
      "text/plain": [
       "array([[10., 10., 10., 10., 10., 10., 10., 10., 10., 10., 10.],\n",
       "       [ 9.,  9.,  9.,  9.,  9.,  9.,  9.,  9.,  9.,  9.,  9.],\n",
       "       [ 8.,  8.,  8.,  8.,  8.,  8.,  8.,  8.,  8.,  8.,  8.],\n",
       "       [ 7.,  7.,  7.,  7.,  7.,  7.,  7.,  7.,  7.,  7.,  7.],\n",
       "       [ 6.,  6.,  6.,  6.,  6.,  6.,  6.,  6.,  6.,  6.,  6.],\n",
       "       [ 5.,  5.,  5.,  5.,  5.,  5.,  5.,  5.,  5.,  5.,  5.],\n",
       "       [ 4.,  4.,  4.,  4.,  4.,  4.,  4.,  4.,  4.,  4.,  4.],\n",
       "       [ 3.,  3.,  3.,  3.,  3.,  3.,  3.,  3.,  3.,  3.,  3.],\n",
       "       [ 2.,  2.,  2.,  2.,  2.,  2.,  2.,  2.,  2.,  2.,  2.],\n",
       "       [ 1.,  1.,  1.,  1.,  1.,  1.,  1.,  1.,  1.,  1.,  1.],\n",
       "       [ 0.,  0.,  0.,  0.,  0.,  0.,  0.,  0.,  0.,  0.,  0.]])"
      ]
     },
     "execution_count": 25,
     "metadata": {},
     "output_type": "execute_result"
    }
   ],
   "source": [
    "yy[::-1]"
   ]
  },
  {
   "cell_type": "markdown",
   "metadata": {},
   "source": [
    "So why are these called 'coordinate matrices'? Well imagine that every value of `xx` was paired with it's corresponding value in `yy`, and what you'd get is a matrix of ordered pairs:\n",
    "```\n",
    "[[ (0., 0.), (1, 0.),  (2, 0.),  ... (10, 0)],\n",
    "[  (0., 1.), (1., 1),    ...     ... (10, 1)], \n",
    "[  (0., 2.),      .       .             .   ],\n",
    "[     .                   .       .     .   ],\n",
    "[     .                           .     .   ],\n",
    "[  (0, 10).  (1, 10),    ...     ... (10,10)]]\n",
    "```"
   ]
  },
  {
   "cell_type": "markdown",
   "metadata": {},
   "source": [
    "To see this visually, let's plot:"
   ]
  },
  {
   "cell_type": "code",
   "execution_count": 26,
   "metadata": {},
   "outputs": [
    {
     "data": {
      "text/plain": [
       "<matplotlib.collections.PathCollection at 0x1b726f3d460>"
      ]
     },
     "execution_count": 26,
     "metadata": {},
     "output_type": "execute_result"
    },
    {
     "data": {
      "image/png": "iVBORw0KGgoAAAANSUhEUgAAAlAAAAHSCAYAAAAjcvULAAAABHNCSVQICAgIfAhkiAAAAAlwSFlzAAALEgAACxIB0t1+/AAAADh0RVh0U29mdHdhcmUAbWF0cGxvdGxpYiB2ZXJzaW9uMy4yLjAsIGh0dHA6Ly9tYXRwbG90bGliLm9yZy8GearUAAAgAElEQVR4nO3cf4zteV3f8efbvRJgt3bUhSky2qspQeimrJ4bhBLJjli6KhFrSgpJqTHU20TEw63Goo11bNJW602vk2h/GKDQSHeiq0ZDDUjo4WqaiL2zsLLrSqSIOBVdrExxoRHovPvHd9y9d7wzdz7nzDnnfT59PpKTc79n5s75Ps/Ocl/7PZeJzESSJEmn93nLPgFJkqRV44CSJElq5ICSJElq5ICSJElq5ICSJElq5ICSJElqdG6RT3bnnXfm+fPn5/ocn/rUp7j99tvn+hyLYks9vXSALVX10tJLB9hS1SJadnd3/zgzn3azjy10QJ0/f55r167N9Tne8573cM8998z1ORbFlnp66QBbquqlpZcOsKWqRbRExO8d9zHfwpMkSWrkgJIkSWrkgJIkSWrkgJIkSWrkgJIkSWrkgJIkSWrkgJIkSWrkgJIkSWrkgJIkSWrkgJIkSWrkgJIkSWrkgJIkSWrkgJIkSWrkgJIkSWp0ywEVEW+OiEcj4qHrHvuiiHhXRPzO4f0Xzvc0TyHz5ONVYks9vXSALVX10tJLB9hSVZGW01yBegtw75HH3gC8OzOfBbz78Hh5trbg0qUnXsTM4Xhra5lnNR1b6umlA2ypqpeWXjrAlqoKtdxyQGXmrwJ/cuThlwNvPfz1W4FvOePzOr1M2N+H7e3hRYThfnt7eHyVVrYt9fTSAbZU1UtLLx1gS1XVWjLzljfgPPDQdcf7Rz7+idN8ndFolHNxcJA5HmdCTi5fzoTh+OBgPs83T7bU00tHpi1V9dLSS0emLVUtuAW4lsdsmshTLLaIOA+8PTPvOjzez8y16z7+icy86d+DioiLwEWA9fX10c7OzvRr71Z2d3lsY4M79vZgNJrf8yyCLfX00gG2VNVLSy8dYEtVC2rZ3NzczcwLN/3gccvq+ht/8QrUB4FnHP76GcAHT/N1vAJ1CrbU00tHpi1V9dLSS0emLVUVugI17YD6MeANh79+A/CvT/N15jKgrnsxczzOyWRyw/FKfYPYUk8vHZm2VNVLSy8dmbZUtYSWkwbUuVtdvoqI+4B7gDsjYg/4IeBHgJ+JiNcAHwVeMcWVsbMRAWtrMB7DlStw9epwD8PjEUs7tWa21NNLB9hSVS8tvXSALVVVazluWc3jNre38DIfX56TyeSG45VkSz29dGTaUlUvLb10ZNpS1QJbOOEKVD8/ifzo8lylVX2ULfX00gG2VNVLSy8dYEtVRVr6GVCSJEkL4oCSJElq5ICSJElq5ICSJElq5ICSJElq5ICSJElq5ICSJElq5ICSJElq5ICSJElq5ICSJElq5ICSJElq5ICSJElq5ICSJElq5ICSJElq5ICSJElq5ICSJElq5ICSJElq5ICSJElq5ICSJElq5ICSJElq5ICSJElq5ICSJElq5ICSJElq5ICSJElq5ICSJElq5ICSJElq5ICSJElq5ICSJElq5ICSJElq1M+Ayjz5eJXYUk8vHWBLVb209NIBtlRVpGWmARUR44h4KCIejojXn9VJNdvagkuXnngRM4fjra2lndLUbKmnlw6wpapeWnrpAFuqKtQy9YCKiLuA7wCeDzwPeFlEPOusTuzUMmF/H7a3hxcRhvvt7eHxVVrZttTTSwfYUlUvLb10gC1VVWvJzKluwCuAN153/IPA9530e0ajUc7FwUHmeJwJObl8OROG44OD+TzfPNlSTy8dmbZU1UtLLx2ZtlS14BbgWh6zaSKnXGwR8RzgF4EXAv8HePfhE73uyOddBC4CrK+vj3Z2dqZbeqexu8tjGxvcsbcHo9H8nmcRbKmnlw6wpapeWnrpAFuqWlDL5ubmbmZeuOkHj1tWp7kBrwEeAH4V+PfAlZM+3ytQp2BLPb10ZNpSVS8tvXRk2lJVoStQMw2oG74Q/EvgO0/6nLkMqOtezByPczKZ3HC8Ut8gttTTS0emLVX10tJLR6YtVS2h5aQBdW6WS1sR8fTMfDQivgz4Voa38xYrAtbWYDyGK1fg6tXhHobHIxZ+SlOzpZ5eOsCWqnpp6aUDbKmqWstxy+o0N+DXgN8CHgRecqvPn9tbeJmPL8/JZHLD8UqypZ5eOjJtqaqXll46Mm2paoEtzOsKVGZ+7ewT7owcXZ6rtKqPsqWeXjrAlqp6aemlA2ypqkhLPz+JXJIkaUEcUJIkSY0cUJIkSY0cUJIkSY0cUJIkSY0cUJIkSY0cUJIkSY0cUJIkSY0cUJIkSY0cUJIkSY0cUJIkSY0cUJIkSY0cUJIkSY0cUJIkSY0cUJIkSY0cUJIkSY0cUJIkSY0cUJIkSY0cUJIkSY0cUJIkSY0cUJIkSY0cUJIkSY0cUJIkSY0cUJIkSY0cUJIkSY0cUJIkSY0cUJIkSY0cUJIkSY0cUJIkSY0cUJIkSY1mGlARcSkiHo6IhyLivoh48lmdWLPMk49XiS319NIBtlTVS0svHWBLVUVaph5QEfFM4LuBC5l5F3Ab8MqzOrEmW1tw6dITL2LmcLy1tZTTmYkt9fTSAbZU1UtLLx1gS1WFWmZ9C+8c8JSIOAc8FfiD2U+pUSbs78P29vAiwnC/vT08vkor25Z6eukAW6rqpaWXDrClqmotmTn1DRgDjwEfB952q88fjUY5FwcHmeNxJuTk8uVMGI4PDubzfPNkSz29dGTaUlUvLb10ZNpS1YJbgGt5zKaJnHKxRcQXAj8H/D1gH/hZ4P7M/Okjn3cRuAiwvr4+2tnZmXLqncLuLo9tbHDH3h6MRvN7nkWwpZ5eOsCWqnpp6aUDbKlqQS2bm5u7mXnhph88blnd6ga8AnjTdcf/APi3J/0er0Cdgi319NKRaUtVvbT00pFpS1WFrkDNMqC+BniY4e8+BfBW4HUn/Z65DKjrXswcj3MymdxwvFLfILbU00tHpi1V9dLSS0emLVUtoeWkAXVu2stamfneiLgfeAD4HPA+4Kem/XpTi4C1NRiP4coVuHp1uIfh8YiFn9LUbKmnlw6wpapeWnrpAFuqqtZy3LKax21ub+FlPr48J5PJDccryZZ6eunItKWqXlp66ci0paoFtnDCFah+fhL50eW5Sqv6KFvq6aUDbKmql5ZeOsCWqoq09DOgJEmSFsQBJUmS1MgBJUmS1MgBJUmS1MgBJUmS1MgBJUmS1MgBJUmS1MgBJUmS1MgBJUmS1MgBJUmS1MgBJUmS1MgBJUmS1MgBJUmS1MgBJUmS1MgBJUmS1MgBJUmS1MgBJUmS1MgBJUmS1MgBJUmS1MgBJUmS1MgBJUmS1MgBJUmS1MgBJUmS1MgBJUmS1MgBJUmS1MgBJUmS1MgBJUmS1MgBJUmS1MgBJUmS1KifAZV58vEqsaWeXjrAlqp6aemlA2ypqkjL1AMqIp4dEe+/7vbJiHj9WZ7cqW1twaVLT7yImcPx1tZSTmcmttTTSwfYUlUvLb10gC1VFWqZekBl5gcz8+7MvBsYAZ8GfuHMzuz0JwL7+7C9PbyIMNxvbw+Pr9LKtqWeXjrAlqp6aemlA2ypqlpLZs58A14K/Ldbfd5oNMq5ODjIHI8zISeXL2fCcHxwMJ/nmydb6umlI9OWqnpp6aUj05aqFtwCXMtjNk3kGSy2iHgz8EBm/sRNPnYRuAiwvr4+2tnZmfn5jrW7y2MbG9yxtwej0fyeZxFsqaeXDrClql5aeukAW6paUMvm5uZuZl646QePW1anvQFPAv4YWL/V53oF6hRsqaeXjkxbquqlpZeOTFuqKnQF6iwG1MuBXznN585lQF33YuZ4nJPJ5IbjlfoGsaWeXjoybamql5ZeOjJtqWoJLScNqHNncIXrVcB9Z/B1phMBa2swHsOVK3D16nAPw+MRSzu1ZrbU00sH2FJVLy29dIAtVVVrOW5ZneYGPBX4X8BfPs3nz+0tvMzHl+dkMrnheCXZUk8vHZm2VNVLSy8dmbZUtcAW5nUFKjM/DXzx7DPuDBxdnqu0qo+ypZ5eOsCWqnpp6aUDbKmqSEs/P4lckiRpQRxQkiRJjRxQkiRJjRxQkiRJjRxQkiRJjRxQkiRJjRxQkiRJjRxQkiRJjRxQkiRJjRxQkiRJjRxQkiRJjRxQkiRJjRxQkiRJjRxQkiRJjRxQkiRJjRxQkiRJjRxQkiRJjRxQkiRJjRxQkiRJjRxQkiRJjRxQkiRJjRxQkiRJjRxQkiRJjRxQkiRJjRxQkiRJjRxQkiRJjRxQkiRJjRxQkiRJjRxQkiRJjRxQkiRJjWYaUBGxFhH3R8RvR8QjEfHCszqxZpknH68SW+rppQNsqaqXll46wJaqirTMegVqG3hHZn4l8DzgkdlPaQpbW3Dp0hMvYuZwvLW1lNOZiS319NIBtlTVS0svHWBLVYVaph5QEfEFwIuBNwFk5mcyc/+sTuzUMmF/H7a3hxcRhvvt7eHxVVrZttTTSwfYUlUvLb10gC1VVWvJzKluwN3AbwBvAd4HvBG4/aTfMxqNci4ODjLH40zIyeXLmTAcHxzM5/nmyZZ6eunItKWqXlp66ci0paoFtwDX8phNEznlYouIC8CvAy/KzPdGxDbwycz8wSOfdxG4CLC+vj7a2dmZbumdxu4uj21scMfeHoxG83ueRbClnl46wJaqemnppQNsqWpBLZubm7uZeeGmHzxuWd3qBvwV4CPXHX8t8F9O+j1egToFW+rppSPTlqp6aemlI9OWqgpdgZp6QA1fl18Dnn346y3gx076/LkMqOtezByPczKZ3HC8Ut8gttTTS0emLVX10tJLR6YtVS2h5aQBdW7Gq1uvA94WEU8CPgx8+4xfr10ErK3BeAxXrsDVq8M9DI9HLPyUpmZLPb10gC1V9dLSSwfYUlW1luOW1Txuc3sLL/Px5TmZTG44Xkm21NNLR6YtVfXS0ktHpi1VLbCFE65A9fOTyI8uz1Va1UfZUk8vHWBLVb209NIBtlRVpKWfASVJkrQgDihJkqRGDihJkqRGDihJkqRGDihJkqRGDihJkqRGDihJkqRGDihJkqRGDihJkqRGDihJkqRGDihJkqRGDihJkqRGDihJkqRGDihJkqRGDihJkqRGDihJkqRGDihJkqRGDihJkqRGDihJkqRGDihJkqRGDihJkqRGDihJkqRGDihJkqRGDihJkqRGDihJkqRGDihJkqRGDihJkqRGDihJkqRGDihJkqRG/QyozJOPV4kt9fTSAbZU1UtLLx1gS1VFWmYaUBHxkYj4QES8PyKundVJNdvagkuXnngRM4fjra2lndLUbKmnlw6wpapeWnrpAFuqKtRyFlegNjPz7sy8cAZfq10m7O/D9vbwIsJwv709PL5KK9uWenrpAFuq6qWllw6wpapqLZk59Q34CHDnaT9/NBrlXBwcZI7HmZCTy5czYTg+OJjP882TLfX00pFpS1W9tPTSkWlLVQtuAa7lMZsmcobFFhG/C3wCSOA/ZOZP3eRzLgIXAdbX10c7OztTP98t7e7y2MYGd+ztwWg0v+dZBFvq6aUDbKmql5ZeOsCWqhbUsrm5uZvHvcN23LI6zQ34ksP7pwMPAi8+6fO9AnUKttTTS0emLVX10tJLR6YtVRW6AjXTgLrhC8EW8L0nfc5cBtR1L2aOxzmZTG44XqlvEFvq6aUj05aqemnppSPTlqqW0HLSgDo37WWtiLgd+LzM/NPDX78U+OfTfr2pRcDaGozHcOUKXL063MPweMTCT2lqttTTSwfYUlUvLb10gC1VVWs5blnd6gZ8BcPbdg8CDwP/9Fa/Z25v4WU+vjwnk8kNxyvJlnp66ci0papeWnrpyLSlqgW2MI8rUJn5YeB5ZzHizsTR5blKq/ooW+rppQNsqaqXll46wJaqirT085PIJUmSFsQBJUmS1MgBJUmS1MgBJUmS1MgBJUmS1MgBJUmS1MgBJUmS1MgBJUmS1MgBJUmS1MgBJUmS1MgBJUmS1MgBJUmS1MgBJUmS1MgBJUmS1MgBJUmS1MgBJUmS1MgBJUmS1MgBJUmS1MgBJUmS1MgBJUmS1MgBJUmS1MgBJUmS1MgBJUmS1MgBJUmS1MgBJUmS1MgBJUmS1MgBJUmS1MgBJUmS1MgBJUmS1MgBJUmS1GjmARURt0XE+yLi7WdxQlPLPPl4ldhSTy8dYEtVvbT00gG2VFWk5SyuQI2BR87g60xvawsuXXriRcwcjre2lnlW07Glnl46wJaqemnppQNsqapQy0wDKiI2gG8C3ng2pzOFTNjfh+3t4UWE4X57e3h8lVa2LfX00gG2VNVLSy8dYEtV1Voyc+obcD8wAu4B3n6rzx+NRjkXBweZ43Em5OTy5UwYjg8O5vN882RLPb10ZNpSVS8tvXRk2lLVgluAa3nMpomccrFFxMuAb8zM74yIe4DvzcyX3eTzLgIXAdbX10c7OztTPd+p7O7y2MYGd+ztwWg0v+dZBFvq6aUDbKmql5ZeOsCWqhbUsrm5uZuZF276weOW1a1uwL8C9oCPAH8IfBr46ZN+j1egTsGWenrpyLSlql5aeunItKWqQlegZnoL7/Evssy38K57MXM8zslkcsPxSn2D2FJPLx2ZtlTVS0svHZm2VLWElpMG1Lm5XfdalAhYW4PxGK5cgatXh3sYHo9Y7vm1sKWeXjrAlqp6aemlA2ypqlrLcctqHre5vYWX+fjynEwmNxyvJFvq6aUj05aqemnppSPTlqoW2MIJV6D6+UnkR5fnKq3qo2ypp5cOsKWqXlp66QBbqirS0s+AkiRJWhAHlCRJUiMHlCRJUiMHlCRJUiMHlCRJUiMHlCRJUiMHlCRJUiMHlCRJUiMHlCRJUiMHlCRJUiMHlCRJUiMHlCRJUiMHlCRJUiMHlCRJUiMHlCRJUiMHlCRJUiMHlCRJUiMHlCRJUiMHlCRJUiMHlCRJUiMHlCRJUiMHlCRJUiMHlCRJUiMHlCRJUiMHlCRJUiMHlCRJUiMHlCRJUiMHlCRJUiMHlCRJUqN+BlTmycerxJZ6eukAW6rqpaWXDrClqiItUw+oiHhyRPxGRDwYEQ9HxA+f5Yk12dqCS5eeeBEzh+OtraWd0tRsqaeXDrClql5aeukAW6oq1DLLFag/A74uM58H3A3cGxEvOJvTapAJ+/uwvT28iDDcb28Pj6/Syralnl46wJaqemnppQNsqapaS2bOfAOeCjwAfM1JnzcajXIuDg4yx+NMyMnly5kwHB8czOf55smWenrpyLSlql5aeunItKWqBbcA1/KYTRM5w2KLiNuAXeCvAT+Zmf/kJp9zEbgIsL6+PtrZ2Zn6+W5pd5fHNja4Y28PRqP5Pc8i2FJPLx1gS1W9tPTSAbZUtaCWzc3N3cy8cNMPHresWm7AGjAB7jrp87wCdQq21NNLR6YtVfXS0ktHpi1VFboCdSYDangOfgj43pM+Zy4D6roXM8fjnEwmNxyv1DeILfX00pFpS1W9tPTSkWlLVUtoOWlAnZv2slZEPA34bGbuR8RTgK8HfnTarze1CFhbg/EYrlyBq1eHexgej1j4KU3Nlnp66QBbquqlpZcOsKWqai3HLatb3YC/AbwP+E3gIeCf3er3zO0tvMzHl+dkMrnheCXZUk8vHZm2VNVLSy8dmbZUtcAW5nEFKjN/E/iqsxhxZ+Lo8lylVX2ULfX00gG2VNVLSy8dYEtVRVr6+UnkkiRJC+KAkiRJauSAkiRJauSAkiRJauSAkiRJauSAkiRJauSAkiRJauSAkiRJauSAkiRJauSAkiRJauSAkiRJauSAkiRJauSAkiRJauSAkiRJauSAkiRJauSAkiRJauSAkiRJauSAkiRJauSAkiRJauSAkiRJauSAkiRJauSAkiRJauSAkiRJauSAkiRJauSAkiRJauSAkiRJauSAkiRJauSAkiRJauSAkiRJauSAkiRJajT1gIqIL42ISUQ8EhEPR8T4LE+sWebJx6vElnp66QBbquqlpZcOsKWqIi2zXIH6HPA9mfkc4AXAayPiuWdzWo22tuDSpSdexMzheGtrKaczE1vq6aUDbKmql5ZeOsCWqgq1TD2gMvNjmfnA4a//FHgEeOZZnVjDicD+PmxvDy8iDPfb28Pjq7Sybamnlw6wpapeWnrpAFuqqtaSmTPfgPPAR4EvOOnzRqNRzsXBQeZ4nAk5uXw5E4bjg4P5PN882VJPLx2ZtlTVS0svHZm2VLXgFuBaHrNpImdcbBFxB3AV+BeZ+fM3+fhF4CLA+vr6aGdnZ6bnO9HuLo9tbHDH3h6MRvN7nkWwpZ5eOsCWqnpp6aUDbKlqQS2bm5u7mXnhph88blmd5gZ8PvBO4B+f5vO9AnUKttTTS0emLVX10tJLR6YtVRW6AjXLeArgPwE/ftrfM5cBdd2LmeNxTiaTG45X6hvElnp66ci0papeWnrpyLSlqiW0nDSgzs1wZetFwKuBD0TE+w8f+4HM/OUZvma7CFhbg/EYrlyBq1eHexgej1jo6czElnp66QBbquqlpZcOsKWqai3HLat53Ob2Fl7m48tzMpnccLySbKmnl45MW6rqpaWXjkxbqlpgCydcgernJ5EfXZ6rtKqPsqWeXjrAlqp6aemlA2ypqkhLPwNKkiRpQRxQkiRJjRxQkiRJjRxQkiRJjRxQkiRJjRxQkiRJjRxQkiRJjRxQkiRJjRxQkiRJjRxQkiRJjRxQkiRJjRxQkiRJjRxQkiRJjRxQkiRJjRxQkiRJjRxQkiRJjRxQkiRJjRxQkiRJjRxQkiRJjRxQkiRJjRxQkiRJjRxQkiRJjRxQkiRJjRxQkiRJjRxQkiRJjRxQkiRJjRxQkiRJjRxQkiRJjRxQkiRJjfoZUJknH68SW+rppQNsqaqXll46wJaqirTMNKAi4s0R8WhEPHRWJzSVrS24dOmJFzFzON7aWuZZTceWenrpAFuq6qWllw6wpapCLbNegXoLcO8ZnMf0MmF/H7a3hxcRhvvt7eHxVVrZttTTSwfYUlUvLb10gC1VVWvJzJluwHngodN87mg0yrk4OMgcjzMhJ5cvZ8JwfHAwn+ebJ1vq6aUj05aqemnppSPTlqoW3AJcy2M2TeSMiy0izgNvz8y7jvn4ReAiwPr6+mhnZ2em5zvR7i6PbWxwx94ejEbze55FsKWeXjrAlqp6aemlA2ypakEtm5ubu5l54aYfPG5ZnfaGV6DOli319NKRaUtVvbT00pFpS1WFrkCt/oC67sXM8Tgnk8kNxyv1DWJLPb10ZNpSVS8tvXRk2lLVElpOGlDn5nbda1EiYG0NxmO4cgWuXh3uYXg8Yrnn18KWenrpAFuq6qWllw6wpapqLcctq9PcgPuAjwGfBfaA15z0+XN7Cy/z8eU5mUxuOF5JttTTS0emLVX10tJLR6YtVS2whXldgcrMV8284M7K0eW5Sqv6KFvq6aUDbKmql5ZeOsCWqoq09POTyCVJkhbEASVJktTIASVJktTIASVJktTIASVJktTIASVJktTIASVJktTIASVJktTIASVJktTIASVJktTIASVJktTIASVJktTIASVJktTIASVJktTIASVJktTIASVJktTIASVJktTIASVJktTIASVJktTIASVJktTIASVJktTIASVJktTIASVJktTIASVJktTIASVJktTIASVJktTIASVJktTIASVJktTIASVJktTIASVJktRopgEVEfdGxAcj4kMR8YazOqmpZJ58vEpsqaeXDrClql5aeukAW6oq0jL1gIqI24CfBL4BeC7wqoh47lmdWJOtLbh06YkXMXM43tpayunMxJZ6eukAW6rqpaWXDrClqkIts1yBej7wocz8cGZ+BtgBXn42p9UgE/b3YXt7eBFhuN/eHh5fpZVtSz29dIAtVfXS0ksH2FJVtZbMnOoG/F3gjdcdvxr4iZN+z2g0yrk4OMgcjzMhJ5cvZ8JwfHAwn+ebJ1vq6aUj05aqemnppSPTlqoW3AJcy2M2TeSUiy0iXgH87cz8h4fHrwaen5mvO/J5F4GLAOvr66OdnZ0pp94p7O7y2MYGd+ztwWg0v+dZBFvq6aUDbKmql5ZeOsCWqhbUsrm5uZuZF276weOW1a1uwAuBd153/P3A95/0e7wCdQq21NNLR6YtVfXS0ktHpi1VFboCNcuAOgd8GPhy4EnAg8BfP+n3zGVAXfdi5nick8nkhuOV+gaxpZ5eOjJtqaqXll46Mm2pagktJw2oc9Ne1srMz0XEdwHvBG4D3pyZD0/79aYWAWtrMB7DlStw9epwD8PjEQs/panZUk8vHWBLVb209NIBtlRVreW4ZTWP29zewst8fHlOJpMbjleSLfX00pFpS1W9tPTSkWlLVQts4YQrUP38JPKjy3OVVvVRttTTSwfYUlUvLb10gC1VFWnpZ0BJkiQtiANKkiSpkQNKkiSpkQNKkiSpkQNKkiSpkQNKkiSpkQNKkiSpkQNKkiSpkQNKkiSpkQNKkiSpkQNKkiSpkQNKkiSpkQNKkiSpkQNKkiSpUWTm4p4s4uPA7835ae4E/njOz7EottTTSwfYUlUvLb10gC1VLaLlr2bm0272gYUOqEWIiGuZeWHZ53EWbKmnlw6wpapeWnrpAFuqWnaLb+FJkiQ1ckBJkiQ16nFA/dSyT+AM2VJPLx1gS1W9tPTSAbZUtdSW7v4OlCRJ0rz1eAVKkiRprroaUBFxb0R8MCI+FBFvWPb5TCsi3hwRj0bEQ8s+l1lExJdGxCQiHomIhyNivOxzmlZEPDkifiMiHjxs+eFln9MsIuK2iHhfRLx92ecyq4j4SER8ICLeHxHXln0+04qItYi4PyJ++/DfmRcu+5ymERHPPvxn8ee3T0bE65d9XtOKiEuH/84/FBH3RcSTl31O04iI8WHDw6v2z+NmfyZGxBdFxLsi4ncO779w0efVzYCKiNuAnwS+AXgu8KqIeO5yz2pqbwHuXfZJnIHPAd+Tmc8BXgC8doX/mfwZ8HWZ+TzgbuDeiBpeuLIAAAQhSURBVHjBks9pFmPgkWWfxBnazMy7V/z/nr0NvCMzvxJ4Hiv6zyczP3j4z+JuYAR8GviFJZ/WVCLimcB3Axcy8y7gNuCVyz2rdhFxF/AdwPMZvrdeFhHPWu5ZNXkLf/HPxDcA787MZwHvPjxeqG4GFMM3xocy88OZ+RlgB3j5ks9pKpn5q8CfLPs8ZpWZH8vMBw5//acMfyA8c7lnNZ0cPHZ4+PmHt5X8C4QRsQF8E/DGZZ+LBhHxBcCLgTcBZOZnMnN/uWd1Jl4C/I/MnPcPUJ6nc8BTIuIc8FTgD5Z8PtN4DvDrmfnpzPwccBX4O0s+p1M75s/ElwNvPfz1W4FvWehJ0deAeibw+9cd77Gif1j3KCLOA18FvHe5ZzK9w7e93g88CrwrM1e15ceB7wMOln0iZySBX4mI3Yi4uOyTmdJXAB8H/uPhW6tvjIjbl31SZ+CVwH3LPolpZeb/BC4DHwU+BvzvzPyV5Z7VVB4CXhwRXxwRTwW+EfjSJZ/TrNYz82Mw/Mc68PRFn0BPAypu8thKXiHoTUTcAfwc8PrM/OSyz2damfl/D9+W2ACef3hZfKVExMuARzNzd9nncoZelJlfzfD2/Wsj4sXLPqEpnAO+Gvh3mflVwKdYwlsSZykingR8M/Czyz6XaR3+vZqXA18OfAlwe0T8/eWeVbvMfAT4UeBdwDuABxn+ioVm0NOA2uPGRb3Bal5q7UpEfD7DeHpbZv78ss/nLBy+tfIeVvPvqb0I+OaI+AjD29xfFxE/vdxTmk1m/sHh/aMMf9fm+cs9o6nsAXvXXdW8n2FQrbJvAB7IzD9a9onM4OuB383Mj2fmZ4GfB/7mks9pKpn5psz86sx8McPbYb+z7HOa0R9FxDMADu8fXfQJ9DSg/jvwrIj48sP/8nkl8EtLPqf/r0VEMPydjkcy898s+3xmERFPi4i1w18/heF/WH97uWfVLjO/PzM3MvM8w78j/zUzV+6/qP9cRNweEX/pz38NvJTh7YqVkpl/CPx+RDz78KGXAL+1xFM6C69ihd++O/RR4AUR8dTD/z17CSv6l/sj4umH918GfCur/8/ml4BvO/z1twG/uOgTOLfoJ5yXzPxcRHwX8E6G/6fEmzPz4SWf1lQi4j7gHuDOiNgDfigz37Tcs5rKi4BXAx84/LtDAD+Qmb+8xHOa1jOAtx7+vz0/D/iZzFz5HwHQgXXgF4Y/2zgH/OfMfMdyT2lqrwPedvgfgB8Gvn3J5zO1w79n87eAf7Tsc5lFZr43Iu4HHmB4y+t9rO5P8v65iPhi4LPAazPzE8s+odO62Z+JwI8APxMRr2EYuq9Y+Hn5k8glSZLa9PQWniRJ0kI4oCRJkho5oCRJkho5oCRJkho5oCRJkho5oCRJkho5oCRJkho5oCRJkhr9P2yaNjea3loaAAAAAElFTkSuQmCC\n",
      "text/plain": [
       "<Figure size 720x576 with 1 Axes>"
      ]
     },
     "metadata": {
      "needs_background": "light"
     },
     "output_type": "display_data"
    }
   ],
   "source": [
    "plt.figure(figsize=(10, 8))\n",
    "plt.grid(True)\n",
    "plt.xticks(xx[0])\n",
    "plt.yticks(yy[:,1])\n",
    "plt.scatter(xx, yy, marker='x', color='red')"
   ]
  },
  {
   "cell_type": "markdown",
   "metadata": {},
   "source": [
    "So, if we mesh the two 'coordinate matrices' together, we get a set of ordered pairs that describes the grid space we wish to create. \n",
    "\n",
    "### Application\n",
    "\n",
    "`meshgrid` is particularly useful for evaluating functions on a grid, as the documentation points out with the following example:"
   ]
  },
  {
   "cell_type": "code",
   "execution_count": 27,
   "metadata": {},
   "outputs": [
    {
     "data": {
      "image/png": "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