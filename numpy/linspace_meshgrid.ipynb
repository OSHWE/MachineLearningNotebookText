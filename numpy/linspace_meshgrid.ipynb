{
 "cells": [
  {
   "cell_type": "markdown",
   "metadata": {},
   "source": [
    "# Understanding Numpy `linspace` and `meshgrid`:\n",
    "\n",
    "## Part 1 - NumPy linspace:\n",
    "\n",
    "`numpy.linspace` is similar in function to `numpy.arange` in that it generates a 1-d array of evenly spaced data. However, where `arange` uses parameters `start`, `stop` and `step`, `linspace` uses `start` `stop` and `num`, where `num` is _sample size_."
   ]
  },
  {
   "cell_type": "code",
   "execution_count": 18,
   "metadata": {},
   "outputs": [],
   "source": [
    "import numpy as np\n",
    "import matplotlib.pyplot as plt\n",
    "from matplotlib import cm"
   ]
  },
  {
   "cell_type": "markdown",
   "metadata": {},
   "source": [
    "### np.linspace with endpoint=True (default). \n",
    "`linspace` takes positional arguments `start`, `stop` and `num`. \n",
    "\n",
    "With the default keyword argument `endpoint=True`, `linspace` takes `num` evenly spaced samples from the range $[\\text{start}, \\text{stop}]$ where `stop` is guaranteed to be the last sample point. \n",
    "\n",
    "Some examples:"
   ]
  },
  {
   "cell_type": "code",
   "execution_count": 19,
   "metadata": {},
   "outputs": [
    {
     "data": {
      "text/plain": [
       "array([ 0.        ,  1.11111111,  2.22222222,  3.33333333,  4.44444444,\n",
       "        5.55555556,  6.66666667,  7.77777778,  8.88888889, 10.        ])"
      ]
     },
     "execution_count": 19,
     "metadata": {},
     "output_type": "execute_result"
    }
   ],
   "source": [
    "np.linspace(0,10,10)"
   ]
  },
  {
   "cell_type": "code",
   "execution_count": 20,
   "metadata": {},
   "outputs": [
    {
     "data": {
      "text/plain": [
       "array([ 0.,  1.,  2.,  3.,  4.,  5.,  6.,  7.,  8.,  9., 10.])"
      ]
     },
     "execution_count": 20,
     "metadata": {},
     "output_type": "execute_result"
    }
   ],
   "source": [
    "np.linspace(0, 10, 11) "
   ]
  },
  {
   "cell_type": "markdown",
   "metadata": {},
   "source": [
    "The above examples illustrate what, for me, was a confusing point at first. Namely, `num` is not the number of divisions or parts of the range, but rather the number of sample points. This is stated clearly in the docs, but somehow it remained a point of confusion or some time. \n",
    "\n",
    "### numpy.linspace with endpoint=False\n",
    "\n",
    "If you choose to make use of the optional keyword argument `endpoint=False`, then the value of `stop` is _excluded_ from the returned results:"
   ]
  },
  {
   "cell_type": "code",
   "execution_count": 21,
   "metadata": {},
   "outputs": [
    {
     "data": {
      "text/plain": [
       "array([0., 1., 2., 3., 4., 5., 6., 7., 8., 9.])"
      ]
     },
     "execution_count": 21,
     "metadata": {},
     "output_type": "execute_result"
    }
   ],
   "source": [
    "np.linspace(0,10, 10, endpoint=False)"
   ]
  },
  {
   "cell_type": "code",
   "execution_count": 22,
   "metadata": {},
   "outputs": [
    {
     "data": {
      "text/plain": [
       "array([0., 5.])"
      ]
     },
     "execution_count": 22,
     "metadata": {},
     "output_type": "execute_result"
    }
   ],
   "source": [
    "np.linspace(0,10,2, endpoint=False)"
   ]
  },
  {
   "cell_type": "markdown",
   "metadata": {},
   "source": [
    "__Note:__ Whether or not you use the default endpoint argument, the `start` argument value is always included in the returned array. This knowledge will help you predict what values you can expect the function to return."
   ]
  },
  {
   "cell_type": "markdown",
   "metadata": {},
   "source": [
    "## 2 - NumPy meshgrid\n",
    "\n",
    "`meshgrid` takes mandatory arguments of at least two array like objects. For array like arguments $x_1, x_2, \\dots , x_n$, meshgrid will return $n$ \"coordinate\" matrices. \n",
    "\n",
    "Let's say that we pass two arrays to `meshgrid`, like so:"
   ]
  },
  {
   "cell_type": "code",
   "execution_count": 23,
   "metadata": {},
   "outputs": [
    {
     "data": {
      "text/plain": [
       "array([[ 0.,  1.,  2.,  3.,  4.,  5.,  6.,  7.,  8.,  9., 10.],\n",
       "       [ 0.,  1.,  2.,  3.,  4.,  5.,  6.,  7.,  8.,  9., 10.],\n",
       "       [ 0.,  1.,  2.,  3.,  4.,  5.,  6.,  7.,  8.,  9., 10.],\n",
       "       [ 0.,  1.,  2.,  3.,  4.,  5.,  6.,  7.,  8.,  9., 10.],\n",
       "       [ 0.,  1.,  2.,  3.,  4.,  5.,  6.,  7.,  8.,  9., 10.],\n",
       "       [ 0.,  1.,  2.,  3.,  4.,  5.,  6.,  7.,  8.,  9., 10.],\n",
       "       [ 0.,  1.,  2.,  3.,  4.,  5.,  6.,  7.,  8.,  9., 10.],\n",
       "       [ 0.,  1.,  2.,  3.,  4.,  5.,  6.,  7.,  8.,  9., 10.],\n",
       "       [ 0.,  1.,  2.,  3.,  4.,  5.,  6.,  7.,  8.,  9., 10.],\n",
       "       [ 0.,  1.,  2.,  3.,  4.,  5.,  6.,  7.,  8.,  9., 10.],\n",
       "       [ 0.,  1.,  2.,  3.,  4.,  5.,  6.,  7.,  8.,  9., 10.]])"
      ]
     },
     "execution_count": 23,
     "metadata": {},
     "output_type": "execute_result"
    }
   ],
   "source": [
    "x = np.linspace(0, 10, 11)\n",
    "y = np.linspace(0, 10, 11)\n",
    "xx, yy = np.meshgrid(x, y)\n",
    "\n",
    "xx"
   ]
  },
  {
   "cell_type": "markdown",
   "metadata": {},
   "source": [
    "Now, documentation calls xx a \"coordinate matrix\", but why? Notice that each row of `xx` is a repetition of what the x-axis would look like on a 2-D grid space. \n",
    "\n",
    "Let's take a look at `yy`:"
   ]
  },
  {
   "cell_type": "code",
   "execution_count": 24,
   "metadata": {},
   "outputs": [
    {
     "data": {
      "text/plain": [
       "array([[ 0.,  0.,  0.,  0.,  0.,  0.,  0.,  0.,  0.,  0.,  0.],\n",
       "       [ 1.,  1.,  1.,  1.,  1.,  1.,  1.,  1.,  1.,  1.,  1.],\n",
       "       [ 2.,  2.,  2.,  2.,  2.,  2.,  2.,  2.,  2.,  2.,  2.],\n",
       "       [ 3.,  3.,  3.,  3.,  3.,  3.,  3.,  3.,  3.,  3.,  3.],\n",
       "       [ 4.,  4.,  4.,  4.,  4.,  4.,  4.,  4.,  4.,  4.,  4.],\n",
       "       [ 5.,  5.,  5.,  5.,  5.,  5.,  5.,  5.,  5.,  5.,  5.],\n",
       "       [ 6.,  6.,  6.,  6.,  6.,  6.,  6.,  6.,  6.,  6.,  6.],\n",
       "       [ 7.,  7.,  7.,  7.,  7.,  7.,  7.,  7.,  7.,  7.,  7.],\n",
       "       [ 8.,  8.,  8.,  8.,  8.,  8.,  8.,  8.,  8.,  8.,  8.],\n",
       "       [ 9.,  9.,  9.,  9.,  9.,  9.,  9.,  9.,  9.,  9.,  9.],\n",
       "       [10., 10., 10., 10., 10., 10., 10., 10., 10., 10., 10.]])"
      ]
     },
     "execution_count": 24,
     "metadata": {},
     "output_type": "execute_result"
    }
   ],
   "source": [
    "yy"
   ]
  },
  {
   "cell_type": "markdown",
   "metadata": {},
   "source": [
    "Notice here, that each _column_ is a repetition of what the y-axis would look like in a 2-D grid space. If you can't quite see this, try reversing the order of the rows:"
   ]
  },
  {
   "cell_type": "code",
   "execution_count": 25,
   "metadata": {},
   "outputs": [
    {
     "data": {
      "text/plain": [
       "array([[10., 10., 10., 10., 10., 10., 10., 10., 10., 10., 10.],\n",
       "       [ 9.,  9.,  9.,  9.,  9.,  9.,  9.,  9.,  9.,  9.,  9.],\n",
       "       [ 8.,  8.,  8.,  8.,  8.,  8.,  8.,  8.,  8.,  8.,  8.],\n",
       "       [ 7.,  7.,  7.,  7.,  7.,  7.,  7.,  7.,  7.,  7.,  7.],\n",
       "       [ 6.,  6.,  6.,  6.,  6.,  6.,  6.,  6.,  6.,  6.,  6.],\n",
       "       [ 5.,  5.,  5.,  5.,  5.,  5.,  5.,  5.,  5.,  5.,  5.],\n",
       "       [ 4.,  4.,  4.,  4.,  4.,  4.,  4.,  4.,  4.,  4.,  4.],\n",
       "       [ 3.,  3.,  3.,  3.,  3.,  3.,  3.,  3.,  3.,  3.,  3.],\n",
       "       [ 2.,  2.,  2.,  2.,  2.,  2.,  2.,  2.,  2.,  2.,  2.],\n",
       "       [ 1.,  1.,  1.,  1.,  1.,  1.,  1.,  1.,  1.,  1.,  1.],\n",
       "       [ 0.,  0.,  0.,  0.,  0.,  0.,  0.,  0.,  0.,  0.,  0.]])"
      ]
     },
     "execution_count": 25,
     "metadata": {},
     "output_type": "execute_result"
    }
   ],
   "source": [
    "yy[::-1]"
   ]
  },
  {
   "cell_type": "markdown",
   "metadata": {},
   "source": [
    "So why are these called 'coordinate matrices'? Well imagine that every value of `xx` was paired with it's corresponding value in `yy`, and what you'd get is a matrix of ordered pairs:\n",
    "```\n",
    "[[ (0., 0.), (1, 0.),  (2, 0.),  ... (10, 0)],\n",
    "[  (0., 1.), (1., 1),    ...     ... (10, 1)], \n",
    "[  (0., 2.),      .       .             .   ],\n",
    "[     .                   .       .     .   ],\n",
    "[     .                           .     .   ],\n",
    "[  (0, 10).  (1, 10),    ...     ... (10,10)]]\n",
    "```"
   ]
  },
  {
   "cell_type": "markdown",
   "metadata": {},
   "source": [
    "To see this visually, let's plot:"
   ]
  },
  {
   "cell_type": "code",
   "execution_count": 26,
   "metadata": {},
   "outputs": [
    {
     "data": {
      "text/plain": [
       "<matplotlib.collections.PathCollection at 0x1b726f3d460>"
      ]
     },
     "execution_count": 26,
     "metadata": {},
     "output_type": "execute_result"
    },
    {
     "data": {
      "image/png": "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