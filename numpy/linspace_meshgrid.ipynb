{
 "cells": [
  {
   "cell_type": "markdown",
   "metadata": {},
   "source": [
    "# Understanding Numpy `linspace` and `meshgrid`:\n",
    "\n",
    "## Part 1 - NumPy linspace:\n",
    "\n",
    "`numpy.linspace` is similar in function to `numpy.arange` in that it generates a 1-d array of evenly spaced data. However, where `arange` uses parameters `start`, `stop` and `step`, `linspace` uses `start` `stop` and `num`, where `num` is _sample size_."
   ]
  },
  {
   "cell_type": "code",
   "execution_count": 18,
   "metadata": {},
   "outputs": [],
   "source": [
    "import numpy as np\n",
    "import matplotlib.pyplot as plt\n",
    "from matplotlib import cm"
   ]
  },
  {
   "cell_type": "markdown",
   "metadata": {},
   "source": [
    "### np.linspace with endpoint=True (default). \n",
    "`linspace` takes positional arguments `start`, `stop` and `num`. \n",
    "\n",
    "With the default keyword argument `endpoint=True`, `linspace` takes `num` evenly spaced samples from the range $[\\text{start}, \\text{stop}]$ where `stop` is guaranteed to be the last sample point. \n",
    "\n",
    "Some examples:"
   ]
  },
  {
   "cell_type": "code",
   "execution_count": 19,
   "metadata": {},
   "outputs": [
    {
     "data": {
      "text/plain": [
       "array([ 0.        ,  1.11111111,  2.22222222,  3.33333333,  4.44444444,\n",
       "        5.55555556,  6.66666667,  7.77777778,  8.88888889, 10.        ])"
      ]
     },
     "execution_count": 19,
     "metadata": {},
     "output_type": "execute_result"
    }
   ],
   "source": [
    "np.linspace(0,10,10)"
   ]
  },
  {
   "cell_type": "code",
   "execution_count": 20,
   "metadata": {},
   "outputs": [
    {
     "data": {
      "text/plain": [
       "array([ 0.,  1.,  2.,  3.,  4.,  5.,  6.,  7.,  8.,  9., 10.])"
      ]
     },
     "execution_count": 20,
     "metadata": {},
     "output_type": "execute_result"
    }
   ],
   "source": [
    "np.linspace(0, 10, 11) "
   ]
  },
  {
   "cell_type": "markdown",
   "metadata": {},
   "source": [
    "The above examples illustrate what, for me, was a confusing point at first. Namely, `num` is not the number of divisions or parts of the range, but rather the number of sample points. This is stated clearly in the docs, but somehow it remained a point of confusion or some time. \n",
    "\n",
    "### numpy.linspace with endpoint=False\n",
    "\n",
    "If you choose to make use of the optional keyword argument `endpoint=False`, then the value of `stop` is _excluded_ from the returned results:"
   ]
  },
  {
   "cell_type": "code",
   "execution_count": 21,
   "metadata": {},
   "outputs": [
    {
     "data": {
      "text/plain": [
       "array([0., 1., 2., 3., 4., 5., 6., 7., 8., 9.])"
      ]
     },
     "execution_count": 21,
     "metadata": {},
     "output_type": "execute_result"
    }
   ],
   "source": [
    "np.linspace(0,10, 10, endpoint=False)"
   ]
  },
  {
   "cell_type": "code",
   "execution_count": 22,
   "metadata": {},
   "outputs": [
    {
     "data": {
      "text/plain": [
       "array([0., 5.])"
      ]
     },
     "execution_count": 22,
     "metadata": {},
     "output_type": "execute_result"
    }
   ],
   "source": [
    "np.linspace(0,10,2, endpoint=False)"
   ]
  },
  {
   "cell_type": "markdown",
   "metadata": {},
   "source": [
    "__Note:__ Whether or not you use the default endpoint argument, the `start` argument value is always included in the returned array. This knowledge will help you predict what values you can expect the function to return."
   ]
  },
  {
   "cell_type": "markdown",
   "metadata": {},
   "source": [
    "## 2 - NumPy meshgrid\n",
    "\n",
    "`meshgrid` takes mandatory arguments of at least two array like objects. For array like arguments $x_1, x_2, \\dots , x_n$, meshgrid will return $n$ \"coordinate\" matrices. \n",
    "\n",
    "Let's say that we pass two arrays to `meshgrid`, like so:"
   ]
  },
  {
   "cell_type": "code",
   "execution_count": 23,
   "metadata": {},
   "outputs": [
    {
     "data": {
      "text/plain": [
       "array([[ 0.,  1.,  2.,  3.,  4.,  5.,  6.,  7.,  8.,  9., 10.],\n",
       "       [ 0.,  1.,  2.,  3.,  4.,  5.,  6.,  7.,  8.,  9., 10.],\n",
       "       [ 0.,  1.,  2.,  3.,  4.,  5.,  6.,  7.,  8.,  9., 10.],\n",
       "       [ 0.,  1.,  2.,  3.,  4.,  5.,  6.,  7.,  8.,  9., 10.],\n",
       "       [ 0.,  1.,  2.,  3.,  4.,  5.,  6.,  7.,  8.,  9., 10.],\n",
       "       [ 0.,  1.,  2.,  3.,  4.,  5.,  6.,  7.,  8.,  9., 10.],\n",
       "       [ 0.,  1.,  2.,  3.,  4.,  5.,  6.,  7.,  8.,  9., 10.],\n",
       "       [ 0.,  1.,  2.,  3.,  4.,  5.,  6.,  7.,  8.,  9., 10.],\n",
       "       [ 0.,  1.,  2.,  3.,  4.,  5.,  6.,  7.,  8.,  9., 10.],\n",
       "       [ 0.,  1.,  2.,  3.,  4.,  5.,  6.,  7.,  8.,  9., 10.],\n",
       "       [ 0.,  1.,  2.,  3.,  4.,  5.,  6.,  7.,  8.,  9., 10.]])"
      ]
     },
     "execution_count": 23,
     "metadata": {},
     "output_type": "execute_result"
    }
   ],
   "source": [
    "x = np.linspace(0, 10, 11)\n",
    "y = np.linspace(0, 10, 11)\n",
    "xx, yy = np.meshgrid(x, y)\n",
    "\n",
    "xx"
   ]
  },
  {
   "cell_type": "markdown",
   "metadata": {},
   "source": [
    "Now, documentation calls xx a \"coordinate matrix\", but why? Notice that each row of `xx` is a repetition of what the x-axis would look like on a 2-D grid space. \n",
    "\n",
    "Let's take a look at `yy`:"
   ]
  },
  {
   "cell_type": "code",
   "execution_count": 24,
   "metadata": {},
   "outputs": [
    {
     "data": {
      "text/plain": [
       "array([[ 0.,  0.,  0.,  0.,  0.,  0.,  0.,  0.,  0.,  0.,  0.],\n",
       "       [ 1.,  1.,  1.,  1.,  1.,  1.,  1.,  1.,  1.,  1.,  1.],\n",
       "       [ 2.,  2.,  2.,  2.,  2.,  2.,  2.,  2.,  2.,  2.,  2.],\n",
       "       [ 3.,  3.,  3.,  3.,  3.,  3.,  3.,  3.,  3.,  3.,  3.],\n",
       "       [ 4.,  4.,  4.,  4.,  4.,  4.,  4.,  4.,  4.,  4.,  4.],\n",
       "       [ 5.,  5.,  5.,  5.,  5.,  5.,  5.,  5.,  5.,  5.,  5.],\n",
       "       [ 6.,  6.,  6.,  6.,  6.,  6.,  6.,  6.,  6.,  6.,  6.],\n",
       "       [ 7.,  7.,  7.,  7.,  7.,  7.,  7.,  7.,  7.,  7.,  7.],\n",
       "       [ 8.,  8.,  8.,  8.,  8.,  8.,  8.,  8.,  8.,  8.,  8.],\n",
       "       [ 9.,  9.,  9.,  9.,  9.,  9.,  9.,  9.,  9.,  9.,  9.],\n",
       "       [10., 10., 10., 10., 10., 10., 10., 10., 10., 10., 10.]])"
      ]
     },
     "execution_count": 24,
     "metadata": {},
     "output_type": "execute_result"
    }
   ],
   "source": [
    "yy"
   ]
  },
  {
   "cell_type": "markdown",
   "metadata": {},
   "source": [
    "Notice here, that each _column_ is a repetition of what the y-axis would look like in a 2-D grid space. If you can't quite see this, try reversing the order of the rows:"
   ]
  },
  {
   "cell_type": "code",
   "execution_count": 25,
   "metadata": {},
   "outputs": [
    {
     "data": {
      "text/plain": [
       "array([[10., 10., 10., 10., 10., 10., 10., 10., 10., 10., 10.],\n",
       "       [ 9.,  9.,  9.,  9.,  9.,  9.,  9.,  9.,  9.,  9.,  9.],\n",
       "       [ 8.,  8.,  8.,  8.,  8.,  8.,  8.,  8.,  8.,  8.,  8.],\n",
       "       [ 7.,  7.,  7.,  7.,  7.,  7.,  7.,  7.,  7.,  7.,  7.],\n",
       "       [ 6.,  6.,  6.,  6.,  6.,  6.,  6.,  6.,  6.,  6.,  6.],\n",
       "       [ 5.,  5.,  5.,  5.,  5.,  5.,  5.,  5.,  5.,  5.,  5.],\n",
       "       [ 4.,  4.,  4.,  4.,  4.,  4.,  4.,  4.,  4.,  4.,  4.],\n",
       "       [ 3.,  3.,  3.,  3.,  3.,  3.,  3.,  3.,  3.,  3.,  3.],\n",
       "       [ 2.,  2.,  2.,  2.,  2.,  2.,  2.,  2.,  2.,  2.,  2.],\n",
       "       [ 1.,  1.,  1.,  1.,  1.,  1.,  1.,  1.,  1.,  1.,  1.],\n",
       "       [ 0.,  0.,  0.,  0.,  0.,  0.,  0.,  0.,  0.,  0.,  0.]])"
      ]
     },
     "execution_count": 25,
     "metadata": {},
     "output_type": "execute_result"
    }
   ],
   "source": [
    "yy[::-1]"
   ]
  },
  {
   "cell_type": "markdown",
   "metadata": {},
   "source": [
    "So why are these called 'coordinate matrices'? Well imagine that every value of `xx` was paired with it's corresponding value in `yy`, and what you'd get is a matrix of ordered pairs:\n",
    "```\n",
    "[[ (0., 0.), (1, 0.),  (2, 0.),  ... (10, 0)],\n",
    "[  (0., 1.), (1., 1),    ...     ... (10, 1)], \n",
    "[  (0., 2.),      .       .             .   ],\n",
    "[     .                   .       .     .   ],\n",
    "[     .                           .     .   ],\n",
    "[  (0, 10).  (1, 10),    ...     ... (10,10)]]\n",
    "```"
   ]
  },
  {
   "cell_type": "markdown",
   "metadata": {},
   "source": [
    "To see this visually, let's plot:"
   ]
  },
  {
   "cell_type": "code",
   "execution_count": 26,
   "metadata": {},
   "outputs": [
    {
     "data": {
      "text/plain": [
       "<matplotlib.collections.PathCollection at 0x1b726f3d460>"
      ]
     },
     "execution_count": 26,
     "metadata": {},
     "output_type": "execute_result"
    },
    {
     "data": {
      "image/png": "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