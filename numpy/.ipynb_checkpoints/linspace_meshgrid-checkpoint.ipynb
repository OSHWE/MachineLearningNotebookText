{
 "cells": [
  {
   "cell_type": "markdown",
   "metadata": {},
   "source": [
    "# Understanding Numpy `linspace` and `meshgrid`:\n",
    "\n",
    "## Part 1 - NumPy linspace:\n",
    "\n",
    "`numpy.linspace` is similar in function to `numpy.arange` in that it generates a 1-d array of evenly spaced data. However, where `arange` uses parameters `start`, `stop` and `step`, `linspace` uses `start` `stop` and `num`, where `num` is _sample size_."
   ]
  },
  {
   "cell_type": "code",
   "execution_count": 88,
   "metadata": {},
   "outputs": [],
   "source": [
    "import numpy as np\n",
    "import matplotlib.pyplot as plt\n",
    "from matplotlib import cm"
   ]
  },
  {
   "cell_type": "markdown",
   "metadata": {},
   "source": [
    "### np.linspace with endpoint=True (default). \n",
    "`linspace` takes positional arguments `start`, `stop` and `num`. \n",
    "\n",
    "With the default keyword argument `endpoint=True`, `linspace` takes `num` evenly spaced samples from the range $[\\text{start}, \\text{stop}]$ where `stop` is guaranteed to be the last sample point. \n",
    "\n",
    "Some examples:"
   ]
  },
  {
   "cell_type": "code",
   "execution_count": 89,
   "metadata": {},
   "outputs": [
    {
     "data": {
      "text/plain": [
       "array([ 0.        ,  1.11111111,  2.22222222,  3.33333333,  4.44444444,\n",
       "        5.55555556,  6.66666667,  7.77777778,  8.88888889, 10.        ])"
      ]
     },
     "execution_count": 89,
     "metadata": {},
     "output_type": "execute_result"
    }
   ],
   "source": [
    "np.linspace(0,10,10)"
   ]
  },
  {
   "cell_type": "code",
   "execution_count": 90,
   "metadata": {},
   "outputs": [
    {
     "data": {
      "text/plain": [
       "array([ 0.,  1.,  2.,  3.,  4.,  5.,  6.,  7.,  8.,  9., 10.])"
      ]
     },
     "execution_count": 90,
     "metadata": {},
     "output_type": "execute_result"
    }
   ],
   "source": [
    "np.linspace(0, 10, 11) "
   ]
  },
  {
   "cell_type": "markdown",
   "metadata": {},
   "source": [
    "The above examples illustrate what, for me, was a confusing point at first. Namely, `num` is not the number of divisions or parts of the range, but rather the number of sample points. This is stated clearly in the docs, but somehow it remained a point of confusion or some time. \n",
    "\n",
    "### numpy.linspace with endpoint=False\n",
    "\n",
    "If you choose to make use of the optional keyword argument `endpoint=False`, then the value of `stop` is _excluded_ from the returned results:"
   ]
  },
  {
   "cell_type": "code",
   "execution_count": 91,
   "metadata": {},
   "outputs": [
    {
     "data": {
      "text/plain": [
       "array([0., 1., 2., 3., 4., 5., 6., 7., 8., 9.])"
      ]
     },
     "execution_count": 91,
     "metadata": {},
     "output_type": "execute_result"
    }
   ],
   "source": [
    "np.linspace(0,10, 10, endpoint=False)"
   ]
  },
  {
   "cell_type": "code",
   "execution_count": 92,
   "metadata": {},
   "outputs": [
    {
     "data": {
      "text/plain": [
       "array([0., 5.])"
      ]
     },
     "execution_count": 92,
     "metadata": {},
     "output_type": "execute_result"
    }
   ],
   "source": [
    "np.linspace(0,10,2, endpoint=False)"
   ]
  },
  {
   "cell_type": "markdown",
   "metadata": {},
   "source": [
    "__Note:__ Whether or not you use the default endpoint argument, the `start` argument value is always included in the returned array. This knowledge will help you predict what values you can expect the function to return."
   ]
  },
  {
   "cell_type": "markdown",
   "metadata": {},
   "source": [
    "## 2 - NumPy meshgrid\n",
    "\n",
    "`meshgrid` takes mandatory arguments of at least two array like objects. For array like arguments $x_1, x_2, \\dots , x_n$, meshgrid will return $n$ \"coordinate\" matrices. \n",
    "\n",
    "Let's say that we pass two arrays to `meshgrid`, like so:"
   ]
  },
  {
   "cell_type": "code",
   "execution_count": 98,
   "metadata": {},
   "outputs": [
    {
     "data": {
      "text/plain": [
       "array([[ 0.,  1.,  2.,  3.,  4.,  5.,  6.,  7.,  8.,  9., 10.],\n",
       "       [ 0.,  1.,  2.,  3.,  4.,  5.,  6.,  7.,  8.,  9., 10.],\n",
       "       [ 0.,  1.,  2.,  3.,  4.,  5.,  6.,  7.,  8.,  9., 10.],\n",
       "       [ 0.,  1.,  2.,  3.,  4.,  5.,  6.,  7.,  8.,  9., 10.],\n",
       "       [ 0.,  1.,  2.,  3.,  4.,  5.,  6.,  7.,  8.,  9., 10.],\n",
       "       [ 0.,  1.,  2.,  3.,  4.,  5.,  6.,  7.,  8.,  9., 10.],\n",
       "       [ 0.,  1.,  2.,  3.,  4.,  5.,  6.,  7.,  8.,  9., 10.],\n",
       "       [ 0.,  1.,  2.,  3.,  4.,  5.,  6.,  7.,  8.,  9., 10.],\n",
       "       [ 0.,  1.,  2.,  3.,  4.,  5.,  6.,  7.,  8.,  9., 10.],\n",
       "       [ 0.,  1.,  2.,  3.,  4.,  5.,  6.,  7.,  8.,  9., 10.],\n",
       "       [ 0.,  1.,  2.,  3.,  4.,  5.,  6.,  7.,  8.,  9., 10.]])"
      ]
     },
     "execution_count": 98,
     "metadata": {},
     "output_type": "execute_result"
    }
   ],
   "source": [
    "x = np.linspace(0, 10, 11)\n",
    "y = np.linspace(0, 10, 11)\n",
    "xx, yy = np.meshgrid(x, y)\n",
    "\n",
    "xx"
   ]
  },
  {
   "cell_type": "markdown",
   "metadata": {},
   "source": [
    "Now, documentation calls xx a \"coordinate matrix\", but why? Notice that each row of `xx` is a repetition of what the x-axis would look like on a 2-D grid space. \n",
    "\n",
    "Let's take a look at `yy`:"
   ]
  },
  {
   "cell_type": "code",
   "execution_count": 99,
   "metadata": {},
   "outputs": [
    {
     "data": {
      "text/plain": [
       "array([[ 0.,  0.,  0.,  0.,  0.,  0.,  0.,  0.,  0.,  0.,  0.],\n",
       "       [ 1.,  1.,  1.,  1.,  1.,  1.,  1.,  1.,  1.,  1.,  1.],\n",
       "       [ 2.,  2.,  2.,  2.,  2.,  2.,  2.,  2.,  2.,  2.,  2.],\n",
       "       [ 3.,  3.,  3.,  3.,  3.,  3.,  3.,  3.,  3.,  3.,  3.],\n",
       "       [ 4.,  4.,  4.,  4.,  4.,  4.,  4.,  4.,  4.,  4.,  4.],\n",
       "       [ 5.,  5.,  5.,  5.,  5.,  5.,  5.,  5.,  5.,  5.,  5.],\n",
       "       [ 6.,  6.,  6.,  6.,  6.,  6.,  6.,  6.,  6.,  6.,  6.],\n",
       "       [ 7.,  7.,  7.,  7.,  7.,  7.,  7.,  7.,  7.,  7.,  7.],\n",
       "       [ 8.,  8.,  8.,  8.,  8.,  8.,  8.,  8.,  8.,  8.,  8.],\n",
       "       [ 9.,  9.,  9.,  9.,  9.,  9.,  9.,  9.,  9.,  9.,  9.],\n",
       "       [10., 10., 10., 10., 10., 10., 10., 10., 10., 10., 10.]])"
      ]
     },
     "execution_count": 99,
     "metadata": {},
     "output_type": "execute_result"
    }
   ],
   "source": [
    "yy"
   ]
  },
  {
   "cell_type": "markdown",
   "metadata": {},
   "source": [
    "Notice here, that each _column_ is a repetition of what the y-axis would look like in a 2-D grid space. If you can't quite see this, try reversing the order of the rows:"
   ]
  },
  {
   "cell_type": "code",
   "execution_count": 95,
   "metadata": {},
   "outputs": [
    {
     "data": {
      "text/plain": [
       "array([[10., 10., 10., 10., 10., 10., 10., 10., 10., 10., 10.],\n",
       "       [ 9.,  9.,  9.,  9.,  9.,  9.,  9.,  9.,  9.,  9.,  9.],\n",
       "       [ 8.,  8.,  8.,  8.,  8.,  8.,  8.,  8.,  8.,  8.,  8.],\n",
       "       [ 7.,  7.,  7.,  7.,  7.,  7.,  7.,  7.,  7.,  7.,  7.],\n",
       "       [ 6.,  6.,  6.,  6.,  6.,  6.,  6.,  6.,  6.,  6.,  6.],\n",
       "       [ 5.,  5.,  5.,  5.,  5.,  5.,  5.,  5.,  5.,  5.,  5.],\n",
       "       [ 4.,  4.,  4.,  4.,  4.,  4.,  4.,  4.,  4.,  4.,  4.],\n",
       "       [ 3.,  3.,  3.,  3.,  3.,  3.,  3.,  3.,  3.,  3.,  3.],\n",
       "       [ 2.,  2.,  2.,  2.,  2.,  2.,  2.,  2.,  2.,  2.,  2.],\n",
       "       [ 1.,  1.,  1.,  1.,  1.,  1.,  1.,  1.,  1.,  1.,  1.],\n",
       "       [ 0.,  0.,  0.,  0.,  0.,  0.,  0.,  0.,  0.,  0.,  0.]])"
      ]
     },
     "execution_count": 95,
     "metadata": {},
     "output_type": "execute_result"
    }
   ],
   "source": [
    "yy[::-1]"
   ]
  },
  {
   "cell_type": "markdown",
   "metadata": {},
   "source": [
    "So why are these called 'coordinate matrices'? Well imagine that every value of `xx` was paired with it's corresponding value in `yy`, and what you'd get is a matrix of ordered pairs:\n",
    "```\n",
    "[[ (0., 0.), (1, 0.),  (2, 0.),  ... (10, 0)],\n",
    "[  (0., 1.), (1., 1),    ...     ... (10, 1)], \n",
    "[  (0., 2.),      .       .             .   ],\n",
    "[     .                   .       .     .   ],\n",
    "[     .                           .     .   ],\n",
    "[  (0, 10).  (1, 10),    ...     ... (10,10)]]\n",
    "```"
   ]
  },
  {
   "cell_type": "markdown",
   "metadata": {},
   "source": [
    "So, if we mesh the two 'coordinate matrices' together, we get a set of ordered pairs that describes the grid space we wish to create. \n",
    "\n",
    "### Application\n",
    "\n",
    "`meshgrid` is particularly useful for evaluating functions on a grid, as the documentation points out with the following example:"
   ]
  },
  {
   "cell_type": "code",
   "execution_count": 96,
   "metadata": {},
   "outputs": [
    {
     "data": {
      "image/png": "iVBORw0KGgoAAAANSUhEUgAAAXIAAAD4CAYAAADxeG0DAAAABHNCSVQICAgIfAhkiAAAAAlwSFlzAAALEgAACxIB0t1+/AAAADh0RVh0U29mdHdhcmUAbWF0cGxvdGxpYiB2ZXJzaW9uMy4yLjAsIGh0dHA6Ly9tYXRwbG90bGliLm9yZy8GearUAAAgAElEQVR4nOx9d3xcV5X/9773Rr13WVaXbLnLlmI7xekdJ6RDqEkICWFDX9jG/mBhWXZhFxbCQggEUghJCOnd6XZsx7bkKsuyuiyrt5E0mvrePb8/zpuRZEszb1QcZVf389FHTjTvvTsz75177jnfIogIi2NxLI7FsTg+ukP5sCewOBbH4lgci2N2YzGQL47FsTgWx0d8LAbyxbE4Fsfi+IiPxUC+OBbH4lgcH/GxGMgXx+JYHIvjIz60D+OiaWlpVFBQMP4/fE6Qqx+IiIeISg5+MOkg1yDgc0EkLAWEGuL1EuQZBjzDENFpQESctUn6nCDPEGDoEAm5gAhjzdNdfE2fEyIuG9CirR/rH9IH8o4CXgdABkRCfnhzmPKcOs9NdwG6C5DGzOcXziAJSB9geEHSBxg+/m/pA0zU1BmZx0d1GF7Q6En+txCAYgMUDVAiIFQb/7caMfv7w+o8hAJo0RC2aP7OFNssT0yg4TZ+b7Y4iIh4fj8znZ8WDRGZCNhiwpvDSDsgFI5Btlhrh/mcIGcPEJEAEZVkLR6NngTUCIjo1NCfnWcE5Bni19riUF1d3U9E6ae+7EMJ5AUFBaiqqgJ5RmDUPALZsRMiPhdq+V1QkkumPIakAdm6DUbdU4DUoZRcC7X0WohpvnCSBmTbmzCOPw14R6HknAu17BaI2Ixp50VEoN5DMOqeBA23AjHpUEs+DiXvAggl+EdFUofs2AXZ9ApopA2ISIBaeDmUgssgIhMsfS6kuyE790CeeAc0eJxvqvS1UHLPh5JVyQ9tGIOIQKMnQV37ILurQMMt/IfIJCjpayAy1kHJLIewetNauaZnBGRvhBxqBA23gUZOAK7+8RcIFYjNhIhbAhGXDRGbzf9OzIfQouZsHv+bBhle/iwdnaCxLpCjC3B0gsa6eXH2j6gUiIQ8iIQ8KMklEMmlHFzmah66G9R7CLL3EGTfkcD3KuJzIbIr+R5NLIQQIrzzSgPUcwDGyR2g7mpOXJKKoORdCCXnXAiLAZl8Y5Btb8Nofg1wDwJxS6AWXQUl9/xp48TEOciOXTAangMcnUBcDrSymyGyNwZ9P+QehHH8aci2dwAtCmrpx6EUXT3ts0pSh2x+jeMSGVCXXQel+JppXy9H2mEc/C3I3gSRVYGITdVtU71OfBg48srKStr70v3QD/4O8I1BKb0O6rLrpg2W0t4E49DvQcOtEOlroa25HSIua9rzy74jMGoeAY2ehEhbBXXlp6AkFQWdkxw4DuPYE6DBOiAmA+qyG6AsPTd0APc5zZvnVcA9CBG/FErx1XwDWsgqiAg03AzZ9g5kxy7OlGOzoeZdCCV3S+gdymnnk6DBesjuKsjuamCsG4CASC6FklUBkbkeIn5p2A/blNfyOkDDLSB7C78Hewvg7OU/CoUDdEIuB5f4pRBxOUBMesjPdHFYG0QScPZxgB89CRo5wT+jHQAZ/KLoVIjEIihJhRBJhRCJRZYTi+DXJmCsG7L3IGRXFWjgGAACotOgZFVwUE8tC/u7Js8IZMdOyLZ3QKPtgBoJZckmKHkXQaQst3TfktQ5IWp6mZOXiASohVdAKbyMs/2g70