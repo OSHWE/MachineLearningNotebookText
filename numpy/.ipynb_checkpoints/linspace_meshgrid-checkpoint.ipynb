{
 "cells": [
  {
   "cell_type": "markdown",
   "metadata": {},
   "source": [
    "# Understanding Numpy `linspace` and `meshgrid`:\n",
    "\n",
    "## Part 1 - NumPy linspace:\n",
    "\n",
    "`numpy.linspace` is similar in function to `numpy.arange` in that it generates a 1-d array of evenly spaced data. However, where `arange` uses parameters `start`, `stop` and `step`, `linspace` uses `start` `stop` and `num`, where `num` is _sample size_."
   ]
  },
  {
   "cell_type": "code",
   "execution_count": 88,
   "metadata": {},
   "outputs": [],
   "source": [
    "import numpy as np\n",
    "import matplotlib.pyplot as plt\n",
    "from matplotlib import cm"
   ]
  },
  {
   "cell_type": "markdown",
   "metadata": {},
   "source": [
    "### np.linspace with endpoint=True (default). \n",
    "`linspace` takes positional arguments `start`, `stop` and `num`. \n",
    "\n",
    "With the default keyword argument `endpoint=True`, `linspace` takes `num` evenly spaced samples from the range $[\\text{start}, \\text{stop}]$ where `stop` is guaranteed to be the last sample point. \n",
    "\n",
    "Some examples:"
   ]
  },
  {
   "cell_type": "code",
   "execution_count": 89,
   "metadata": {},
   "outputs": [
    {
     "data": {
      "text/plain": [
       "array([ 0.        ,  1.11111111,  2.22222222,  3.33333333,  4.44444444,\n",
       "        5.55555556,  6.66666667,  7.77777778,  8.88888889, 10.        ])"
      ]
     },
     "execution_count": 89,
     "metadata": {},
     "output_type": "execute_result"
    }
   ],
   "source": [
    "np.linspace(0,10,10)"
   ]
  },
  {
   "cell_type": "code",
   "execution_count": 90,
   "metadata": {},
   "outputs": [
    {
     "data": {
      "text/plain": [
       "array([ 0.,  1.,  2.,  3.,  4.,  5.,  6.,  7.,  8.,  9., 10.])"
      ]
     },
     "execution_count": 90,
     "metadata": {},
     "output_type": "execute_result"
    }
   ],
   "source": [
    "np.linspace(0, 10, 11) "
   ]
  },
  {
   "cell_type": "markdown",
   "metadata": {},
   "source": [
    "The above examples illustrate what, for me, was a confusing point at first. Namely, `num` is not the number of divisions or parts of the range, but rather the number of sample points. This is stated clearly in the docs, but somehow it remained a point of confusion or some time. \n",
    "\n",
    "### numpy.linspace with endpoint=False\n",
    "\n",
    "If you choose to make use of the optional keyword argument `endpoint=False`, then the value of `stop` is _excluded_ from the returned results:"
   ]
  },
  {
   "cell_type": "code",
   "execution_count": 91,
   "metadata": {},
   "outputs": [
    {
     "data": {
      "text/plain": [
       "array([0., 1., 2., 3., 4., 5., 6., 7., 8., 9.])"
      ]
     },
     "execution_count": 91,
     "metadata": {},
     "output_type": "execute_result"
    }
   ],
   "source": [
    "np.linspace(0,10, 10, endpoint=False)"
   ]
  },
  {
   "cell_type": "code",
   "execution_count": 92,
   "metadata": {},
   "outputs": [
    {
     "data": {
      "text/plain": [
       "array([0., 5.])"
      ]
     },
     "execution_count": 92,
     "metadata": {},
     "output_type": "execute_result"
    }
   ],
   "source": [
    "np.linspace(0,10,2, endpoint=False)"
   ]
  },
  {
   "cell_type": "markdown",
   "metadata": {},
   "source": [
    "__Note:__ Whether or not you use the default endpoint argument, the `start` argument value is always included in the returned array. This knowledge will help you predict what values you can expect the function to return."
   ]
  },
  {
   "cell_type": "markdown",
   "metadata": {},
   "source": [
    "## 2 - NumPy meshgrid\n",
    "\n",
    "`meshgrid` takes mandatory arguments of at least two array like objects. For array like arguments $x_1, x_2, \\dots , x_n$, meshgrid will return $n$ \"coordinate\" matrices. \n",
    "\n",
    "Let's say that we pass two arrays to `meshgrid`, like so:"
   ]
  },
  {
   "cell_type": "code",
   "execution_count": 98,
   "metadata": {},
   "outputs": [
    {
     "data": {
      "text/plain": [
       "array([[ 0.,  1.,  2.,  3.,  4.,  5.,  6.,  7.,  8.,  9., 10.],\n",
       "       [ 0.,  1.,  2.,  3.,  4.,  5.,  6.,  7.,  8.,  9., 10.],\n",
       "       [ 0.,  1.,  2.,  3.,  4.,  5.,  6.,  7.,  8.,  9., 10.],\n",
       "       [ 0.,  1.,  2.,  3.,  4.,  5.,  6.,  7.,  8.,  9., 10.],\n",
       "       [ 0.,  1.,  2.,  3.,  4.,  5.,  6.,  7.,  8.,  9., 10.],\n",
       "       [ 0.,  1.,  2.,  3.,  4.,  5.,  6.,  7.,  8.,  9., 10.],\n",
       "       [ 0.,  1.,  2.,  3.,  4.,  5.,  6.,  7.,  8.,  9., 10.],\n",
       "       [ 0.,  1.,  2.,  3.,  4.,  5.,  6.,  7.,  8.,  9., 10.],\n",
       "       [ 0.,  1.,  2.,  3.,  4.,  5.,  6.,  7.,  8.,  9., 10.],\n",
       "       [ 0.,  1.,  2.,  3.,  4.,  5.,  6.,  7.,  8.,  9., 10.],\n",
       "       [ 0.,  1.,  2.,  3.,  4.,  5.,  6.,  7.,  8.,  9., 10.]])"
      ]
     },
     "execution_count": 98,
     "metadata": {},
     "output_type": "execute_result"
    }
   ],
   "source": [
    "x = np.linspace(0, 10, 11)\n",
    "y = np.linspace(0, 10, 11)\n",
    "xx, yy = np.meshgrid(x, y)\n",
    "\n",
    "xx"
   ]
  },
  {
   "cell_type": "markdown",
   "metadata": {},
   "source": [
    "Now, documentation calls xx a \"coordinate matrix\", but why? Notice that each row of `xx` is a repetition of what the x-axis would look like on a 2-D grid space. \n",
    "\n",
    "Let's take a look at `yy`:"
   ]
  },
  {
   "cell_type": "code",
   "execution_count": 99,
   "metadata": {},
   "outputs": [
    {
     "data": {
      "text/plain": [
       "array([[ 0.,  0.,  0.,  0.,  0.,  0.,  0.,  0.,  0.,  0.,  0.],\n",
       "       [ 1.,  1.,  1.,  1.,  1.,  1.,  1.,  1.,  1.,  1.,  1.],\n",
       "       [ 2.,  2.,  2.,  2.,  2.,  2.,  2.,  2.,  2.,  2.,  2.],\n",
       "       [ 3.,  3.,  3.,  3.,  3.,  3.,  3.,  3.,  3.,  3.,  3.],\n",
       "       [ 4.,  4.,  4.,  4.,  4.,  4.,  4.,  4.,  4.,  4.,  4.],\n",
       "       [ 5.,  5.,  5.,  5.,  5.,  5.,  5.,  5.,  5.,  5.,  5.],\n",
       "       [ 6.,  6.,  6.,  6.,  6.,  6.,  6.,  6.,  6.,  6.,  6.],\n",
       "       [ 7.,  7.,  7.,  7.,  7.,  7.,  7.,  7.,  7.,  7.,  7.],\n",
       "       [ 8.,  8.,  8.,  8.,  8.,  8.,  8.,  8.,  8.,  8.,  8.],\n",
       "       [ 9.,  9.,  9.,  9.,  9.,  9.,  9.,  9.,  9.,  9.,  9.],\n",
       "       [10., 10., 10., 10., 10., 10., 10., 10., 10., 10., 10.]])"
      ]
     },
     "execution_count": 99,
     "metadata": {},
     "output_type": "execute_result"
    }
   ],
   "source": [
    "yy"
   ]
  },
  {
   "cell_type": "markdown",
   "metadata": {},
   "source": [
    "Notice here, that each _column_ is a repetition of what the y-axis would look like in a 2-D grid space. If you can't quite see this, try reversing the order of the rows:"
   ]
  },
  {
   "cell_type": "code",
   "execution_count": 95,
   "metadata": {},
   "outputs": [
    {
     "data": {
      "text/plain": [
       "array([[10., 10., 10., 10., 10., 10., 10., 10., 10., 10., 10.],\n",
       "       [ 9.,  9.,  9.,  9.,  9.,  9.,  9.,  9.,  9.,  9.,  9.],\n",
       "       [ 8.,  8.,  8.,  8.,  8.,  8.,  8.,  8.,  8.,  8.,  8.],\n",
       "       [ 7.,  7.,  7.,  7.,  7.,  7.,  7.,  7.,  7.,  7.,  7.],\n",
       "       [ 6.,  6.,  6.,  6.,  6.,  6.,  6.,  6.,  6.,  6.,  6.],\n",
       "       [ 5.,  5.,  5.,  5.,  5.,  5.,  5.,  5.,  5.,  5.,  5.],\n",
       "       [ 4.,  4.,  4.,  4.,  4.,  4.,  4.,  4.,  4.,  4.,  4.],\n",
       "       [ 3.,  3.,  3.,  3.,  3.,  3.,  3.,  3.,  3.,  3.,  3.],\n",
       "       [ 2.,  2.,  2.,  2.,  2.,  2.,  2.,  2.,  2.,  2.,  2.],\n",
       "       [ 1.,  1.,  1.,  1.,  1.,  1.,  1.,  1.,  1.,  1.,  1.],\n",
       "       [ 0.,  0.,  0.,  0.,  0.,  0.,  0.,  0.,  0.,  0.,  0.]])"
      ]
     },
     "execution_count": 95,
     "metadata": {},
     "output_type": "execute_result"
    }
   ],
   "source": [
    "yy[::-1]"
   ]
  },
  {
   "cell_type": "markdown",
   "metadata": {},
   "source": [
    "So why are these called 'coordinate matrices'? Well imagine that every value of `xx` was paired with it's corresponding value in `yy`, and what you'd get is a matrix of ordered pairs:\n",
    "```\n",
    "[[ (0., 0.), (1, 0.),  (2, 0.),  ... (10, 0)],\n",
    "[  (0., 1.), (1., 1),    ...     ... (10, 1)], \n",
    "[  (0., 2.),      .       .             .   ],\n",
    "[     .                   .       .     .   ],\n",
    "[     .                           .     .   ],\n",
    "[  (0, 10).  (1, 10),    ...     ... (10,10)]]\n",
    "```"
   ]
  },
  {
   "cell_type": "markdown",
   "metadata": {},
   "source": [
    "So, if we mesh the two 'coordinate matrices' together, we get a set of ordered pairs that describes the grid space we wish to create. \n",
    "\n",
    "### Application\n",
    "\n",
    "`meshgrid` is particularly useful for evaluating functions on a grid, as the documentation points out with the following example:"
   ]
  },
  {
   "cell_type": "code",
   "execution_count": 96,
   "metadata": {},
   "outputs": [
    {
     "data": {
      "image/png": "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