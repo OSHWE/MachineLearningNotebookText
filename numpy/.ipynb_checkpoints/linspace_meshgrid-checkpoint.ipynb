{
 "cells": [
  {
   "cell_type": "markdown",
   "metadata": {},
   "source": [
    "# Understanding Numpy `linspace` and `meshgrid`:\n",
    "\n",
    "## Part 1 - NumPy linspace:\n",
    "\n",
    "`numpy.linspace` is similar in function to `numpy.arange` in that it generates a 1-d array of evenly spaced data. However, where `arange` uses parameters `start`, `stop` and `step`, `linspace` uses `start` `stop` and `num`, where `num` is _sample size_."
   ]
  },
  {
   "cell_type": "code",
   "execution_count": 88,
   "metadata": {},
   "outputs": [],
   "source": [
    "import numpy as np\n",
    "import matplotlib.pyplot as plt\n",
    "from matplotlib import cm"
   ]
  },
  {
   "cell_type": "markdown",
   "metadata": {},
   "source": [
    "### np.linspace with endpoint=True (default). \n",
    "`linspace` takes positional arguments `start`, `stop` and `num`. \n",
    "\n",
    "With the default keyword argument `endpoint=True`, `linspace` takes `num` evenly spaced samples from the range $[\\text{start}, \\text{stop}]$ where `stop` is guaranteed to be the last sample point. \n",
    "\n",
    "Some examples:"
   ]
  },
  {
   "cell_type": "code",
   "execution_count": 89,
   "metadata": {},
   "outputs": [
    {
     "data": {
      "text/plain": [
       "array([ 0.        ,  1.11111111,  2.22222222,  3.33333333,  4.44444444,\n",
       "        5.55555556,  6.66666667,  7.77777778,  8.88888889, 10.        ])"
      ]
     },
     "execution_count": 89,
     "metadata": {},
     "output_type": "execute_result"
    }
   ],
   "source": [
    "np.linspace(0,10,10)"
   ]
  },
  {
   "cell_type": "code",
   "execution_count": 90,
   "metadata": {},
   "outputs": [
    {
     "data": {
      "text/plain": [
       "array([ 0.,  1.,  2.,  3.,  4.,  5.,  6.,  7.,  8.,  9., 10.])"
      ]
     },
     "execution_count": 90,
     "metadata": {},
     "output_type": "execute_result"
    }
   ],
   "source": [
    "np.linspace(0, 10, 11) "
   ]
  },
  {
   "cell_type": "markdown",
   "metadata": {},
   "source": [
    "The above examples illustrate what, for me, was a confusing point at first. Namely, `num` is not the number of divisions or parts of the range, but rather the number of sample points. This is stated clearly in the docs, but somehow it remained a point of confusion or some time. \n",
    "\n",
    "### numpy.linspace with endpoint=False\n",
    "\n",
    "If you choose to make use of the optional keyword argument `endpoint=False`, then the value of `stop` is _excluded_ from the ret